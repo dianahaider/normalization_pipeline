{
 "cells": [
  {
   "cell_type": "markdown",
   "metadata": {},
   "source": [
    "## CoDA methods\n",
    "Because traditional tests will lead to spurious results, it is recommended to transform or normalize your post-ASV clustering data before computing alpha and beta (distance calculation) diversity, differential abundance and ordinations (unsupervised clustering)."
   ]
  },
  {
   "cell_type": "markdown",
   "metadata": {},
   "source": [
    "Outside of QIIME2 using Python 3"
   ]
  },
  {
   "cell_type": "markdown",
   "metadata": {},
   "source": [
    "The first thing you will need to do is export your feature table from QIIME2 to a .tsv file"
   ]
  },
  {
   "cell_type": "markdown",
   "metadata": {},
   "source": [
    "In your terminal,\n",
    "</br>\n",
    "1. Activate your QIIME2 environment (whichever it is)\n",
    "    * `conda activate qiime2.2020.11`\n",
    "2. Move to your working directory with your files\n",
    "    * cd FILEPATH\n",
    "3. Clone from github\n",
    "    * `git clone https://github.com/dianahaider/normalization_pipeline`\n",
    "4. Move to the cloned directory and run this code to make the scripts executable (it gives permission to the files to be executable)\n",
    "    * `chmod a+x ./*`\n",
    "5. Run ~/normalization-pipeline/export-asv-results.sh\n",
    "    * You might get an error if you use a mac about the shell name, just make sure your QIIME2 environment is active\n",
    "    * If you use LINUX, and you get an error, make sure the qiime2 version in the file is the same as you use in your computer (I use .2020.11, just change it to whichever you are using)."
   ]
  },
  {
   "cell_type": "markdown",
   "metadata": {},
   "source": [
    "This should outputs two files in a new directory `exported_table`\n",
    "* feature-table.biom.tsv\n",
    "* feature-table.biom\n",
    "\n",
    "Now, go back to the cloned directory from github, and run `jupyter notebook` and open this file in jupyter notebook and follow along the code below"
   ]
  },
  {
   "cell_type": "code",
   "execution_count": 164,
   "metadata": {},
   "outputs": [],
   "source": [
    "#import the relevant packages\n",
    "import pandas as pd\n",
    "import seaborn as sns\n",
    "import matplotlib.pyplot as plt\n",
    "import plotly.express as px\n",
    "from sklearn.decomposition import PCA\n",
    "from skbio.diversity import alpha_diversity\n",
    "from skbio.stats.distance import permanova\n",
    "from skbio import DistanceMatrix\n",
    "from scipy.spatial.distance import cdist\n",
    "from skbio.stats.composition import clr\n",
    "from skbio.stats.composition import alr\n",
    "from skbio.stats.composition import ilr\n",
    "from skbio.diversity.alpha import chao1"
   ]
  },
  {
   "cell_type": "code",
   "execution_count": 140,
   "metadata": {},
   "outputs": [],
   "source": [
    "#First you have to import your tsv table to the notebook\n",
    "feature_table_sparse = pd.read_csv('~/normalization_pipeline/test/exported_table/feature-table.biom.tsv', sep='\\t',skiprows=1,index_col=0)"
   ]
  },
  {
   "cell_type": "code",
   "execution_count": 141,
   "metadata": {},
   "outputs": [
    {
     "data": {
      "text/html": [
       "<div>\n",
       "<style scoped>\n",
       "    .dataframe tbody tr th:only-of-type {\n",
       "        vertical-align: middle;\n",
       "    }\n",
       "\n",
       "    .dataframe tbody tr th {\n",
       "        vertical-align: top;\n",
       "    }\n",
       "\n",
       "    .dataframe thead th {\n",
       "        text-align: right;\n",
       "    }\n",
       "</style>\n",
       "<table border=\"1\" class=\"dataframe\">\n",
       "  <thead>\n",
       "    <tr style=\"text-align: right;\">\n",
       "      <th></th>\n",
       "      <th>L1S105</th>\n",
       "      <th>L1S140</th>\n",
       "      <th>L1S208</th>\n",
       "      <th>L1S257</th>\n",
       "      <th>L1S281</th>\n",
       "      <th>L1S57</th>\n",
       "      <th>L1S76</th>\n",
       "      <th>L1S8</th>\n",
       "      <th>L2S155</th>\n",
       "      <th>L2S175</th>\n",
       "      <th>...</th>\n",
       "      <th>L4S63</th>\n",
       "      <th>L5S104</th>\n",
       "      <th>L5S155</th>\n",
       "      <th>L5S174</th>\n",
       "      <th>L5S203</th>\n",
       "      <th>L5S222</th>\n",
       "      <th>L5S240</th>\n",
       "      <th>L6S20</th>\n",
       "      <th>L6S68</th>\n",
       "      <th>L6S93</th>\n",
       "    </tr>\n",
       "    <tr>\n",
       "      <th>#OTU ID</th>\n",
       "      <th></th>\n",
       "      <th></th>\n",
       "      <th></th>\n",
       "      <th></th>\n",
       "      <th></th>\n",
       "      <th></th>\n",
       "      <th></th>\n",
       "      <th></th>\n",
       "      <th></th>\n",
       "      <th></th>\n",
       "      <th></th>\n",
       "      <th></th>\n",
       "      <th></th>\n",
       "      <th></th>\n",
       "      <th></th>\n",
       "      <th></th>\n",
       "      <th></th>\n",
       "      <th></th>\n",
       "      <th></th>\n",
       "      <th></th>\n",
       "      <th></th>\n",
       "    </tr>\n",
       "  </thead>\n",
       "  <tbody>\n",
       "    <tr>\n",
       "      <th>4b5eeb300368260019c1fbc7a3c718fc</th>\n",
       "      <td>2175.0</td>\n",
       "      <td>0.0</td>\n",
       "      <td>0.0</td>\n",
       "      <td>0.0</td>\n",
       "      <td>0.0</td>\n",
       "      <td>2806.0</td>\n",
       "      <td>3309.0</td>\n",
       "      <td>2595.0</td>\n",
       "      <td>10.0</td>\n",
       "      <td>10.0</td>\n",
       "      <td>...</td>\n",
       "      <td>0.0</td>\n",
       "      <td>10.0</td>\n",
       "      <td>0.0</td>\n",
       "      <td>0.0</td>\n",
       "      <td>0.0</td>\n",
       "      <td>0.0</td>\n",
       "      <td>0.0</td>\n",
       "      <td>0.0</td>\n",
       "      <td>0.0</td>\n",
       "      <td>0.0</td>\n",
       "    </tr>\n",
       "    <tr>\n",
       "      <th>fe30ff0f71a38a39cf1717ec2be3a2fc</th>\n",
       "      <td>5.0</td>\n",
       "      <td>0.0</td>\n",
       "      <td>0.0</td>\n",
       "      <td>0.0</td>\n",
       "      <td>0.0</td>\n",
       "      <td>0.0</td>\n",
       "      <td>0.0</td>\n",
       "      <td>0.0</td>\n",
       "      <td>0.0</td>\n",
       "      <td>0.0</td>\n",
       "      <td>...</td>\n",
       "      <td>160.0</td>\n",
       "      <td>0.0</td>\n",
       "      <td>0.0</td>\n",
       "      <td>0.0</td>\n",
       "      <td>0.0</td>\n",
       "      <td>0.0</td>\n",
       "      <td>374.0</td>\n",
       "      <td>3323.0</td>\n",
       "      <td>1723.0</td>\n",
       "      <td>1341.0</td>\n",
       "    </tr>\n",
       "    <tr>\n",
       "      <th>d29fe3c70564fc0f69f2c03e0d1e5561</th>\n",
       "      <td>0.0</td>\n",
       "      <td>0.0</td>\n",
       "      <td>0.0</td>\n",
       "      <td>0.0</td>\n",
       "      <td>0.0</td>\n",
       "      <td>0.0</td>\n",
       "      <td>0.0</td>\n",
       "      <td>0.0</td>\n",
       "      <td>353.0</td>\n",
       "      <td>779.0</td>\n",
       "      <td>...</td>\n",
       "      <td>417.0</td>\n",
       "      <td>216.0</td>\n",
       "      <td>140.0</td>\n",
       "      <td>107.0</td>\n",
       "      <td>215.0</td>\n",
       "      <td>148.0</td>\n",
       "      <td>117.0</td>\n",
       "      <td>215.0</td>\n",
       "      <td>500.0</td>\n",
       "      <td>465.0</td>\n",
       "    </tr>\n",
       "    <tr>\n",
       "      <th>868528ca947bc57b69ffdf83e6b73bae</th>\n",
       "      <td>0.0</td>\n",
       "      <td>2249.0</td>\n",
       "      <td>2107.0</td>\n",
       "      <td>1177.0</td>\n",
       "      <td>1722.0</td>\n",
       "      <td>0.0</td>\n",
       "      <td>0.0</td>\n",
       "      <td>0.0</td>\n",
       "      <td>0.0</td>\n",
       "      <td>0.0</td>\n",
       "      <td>...</td>\n",
       "      <td>0.0</td>\n",
       "      <td>0.0</td>\n",
       "      <td>0.0</td>\n",
       "      <td>0.0</td>\n",
       "      <td>5.0</td>\n",
       "      <td>0.0</td>\n",
       "      <td>10.0</td>\n",
       "      <td>0.0</td>\n",
       "      <td>0.0</td>\n",
       "      <td>9.0</td>\n",
       "    </tr>\n",
       "    <tr>\n",
       "      <th>154709e160e8cada6bfb21115acc80f5</th>\n",
       "      <td>803.0</td>\n",
       "      <td>1174.0</td>\n",
       "      <td>694.0</td>\n",
       "      <td>406.0</td>\n",
       "      <td>242.0</td>\n",
       "      <td>1081.0</td>\n",
       "      <td>930.0</td>\n",
       "      <td>1623.0</td>\n",
       "      <td>0.0</td>\n",
       "      <td>0.0</td>\n",
       "      <td>...</td>\n",
       "      <td>0.0</td>\n",
       "      <td>0.0</td>\n",
       "      <td>9.0</td>\n",
       "      <td>0.0</td>\n",
       "      <td>0.0</td>\n",
       "      <td>0.0</td>\n",
       "      <td>0.0</td>\n",
       "      <td>0.0</td>\n",
       "      <td>0.0</td>\n",
       "      <td>0.0</td>\n",
       "    </tr>\n",
       "  </tbody>\n",
       "</table>\n",
       "<p>5 rows × 34 columns</p>\n",
       "</div>"
      ],
      "text/plain": [
       "                                  L1S105  L1S140  L1S208  L1S257  L1S281  \\\n",
       "#OTU ID                                                                    \n",
       "4b5eeb300368260019c1fbc7a3c718fc  2175.0     0.0     0.0     0.0     0.0   \n",
       "fe30ff0f71a38a39cf1717ec2be3a2fc     5.0     0.0     0.0     0.0     0.0   \n",
       "d29fe3c70564fc0f69f2c03e0d1e5561     0.0     0.0     0.0     0.0     0.0   \n",
       "868528ca947bc57b69ffdf83e6b73bae     0.0  2249.0  2107.0  1177.0  1722.0   \n",
       "154709e160e8cada6bfb21115acc80f5   803.0  1174.0   694.0   406.0   242.0   \n",
       "\n",
       "                                   L1S57   L1S76    L1S8  L2S155  L2S175  ...  \\\n",
       "#OTU ID                                                                   ...   \n",
       "4b5eeb300368260019c1fbc7a3c718fc  2806.0  3309.0  2595.0    10.0    10.0  ...   \n",
       "fe30ff0f71a38a39cf1717ec2be3a2fc     0.0     0.0     0.0     0.0     0.0  ...   \n",
       "d29fe3c70564fc0f69f2c03e0d1e5561     0.0     0.0     0.0   353.0   779.0  ...   \n",
       "868528ca947bc57b69ffdf83e6b73bae     0.0     0.0     0.0     0.0     0.0  ...   \n",
       "154709e160e8cada6bfb21115acc80f5  1081.0   930.0  1623.0     0.0     0.0  ...   \n",
       "\n",
       "                                  L4S63  L5S104  L5S155  L5S174  L5S203  \\\n",
       "#OTU ID                                                                   \n",
       "4b5eeb300368260019c1fbc7a3c718fc    0.0    10.0     0.0     0.0     0.0   \n",
       "fe30ff0f71a38a39cf1717ec2be3a2fc  160.0     0.0     0.0     0.0     0.0   \n",
       "d29fe3c70564fc0f69f2c03e0d1e5561  417.0   216.0   140.0   107.0   215.0   \n",
       "868528ca947bc57b69ffdf83e6b73bae    0.0     0.0     0.0     0.0     5.0   \n",
       "154709e160e8cada6bfb21115acc80f5    0.0     0.0     9.0     0.0     0.0   \n",
       "\n",
       "                                  L5S222  L5S240   L6S20   L6S68   L6S93  \n",
       "#OTU ID                                                                   \n",
       "4b5eeb300368260019c1fbc7a3c718fc     0.0     0.0     0.0     0.0     0.0  \n",
       "fe30ff0f71a38a39cf1717ec2be3a2fc     0.0   374.0  3323.0  1723.0  1341.0  \n",
       "d29fe3c70564fc0f69f2c03e0d1e5561   148.0   117.0   215.0   500.0   465.0  \n",
       "868528ca947bc57b69ffdf83e6b73bae     0.0    10.0     0.0     0.0     9.0  \n",
       "154709e160e8cada6bfb21115acc80f5     0.0     0.0     0.0     0.0     0.0  \n",
       "\n",
       "[5 rows x 34 columns]"
      ]
     },
     "execution_count": 141,
     "metadata": {},
     "output_type": "execute_result"
    }
   ],
   "source": [
    "#Preview your table to make sure it was correctly exported from QIIME and imported to jup\n",
    "feature_table_sparse.head()"
   ]
  },
  {
   "cell_type": "markdown",
   "metadata": {},
   "source": [
    "## Sparse feature table\n",
    "If your table contains 0s (most likely it does), you need to add a pseudo-count to it (a small value). There is <a href=\"https://www.ncbi.nlm.nih.gov/pmc/articles/PMC5682008/pdf/fmicb-08-02114.pdf\" target=\"_blank\">litterature</a> that suggests other methods, but this one is widely used and accepted. If you want to dive into it, there are 3 types of 0s <br>\n",
    "* Real 0s (structural 0s)\n",
    "    <br> i.e taxa not supposed to be present, and not detected\n",
    "* False 0s (either outlier 0, or sampling 0s)\n",
    "    1. outlier 0 \n",
    "    <br> i.e taxa not sampled for unknown reasons\n",
    "    2. sampling 0\n",
    "    <br> i.e taxa not sampled because of sampling depth"
   ]
  },
  {
   "cell_type": "code",
   "execution_count": 137,
   "metadata": {},
   "outputs": [],
   "source": [
    "#Add a 0.1 pseudo count to all 0s to compute log\n",
    "feature_table=feature_table_sparse.mask(feature_table==0).fillna(0.1)"
   ]
  },
  {
   "cell_type": "code",
   "execution_count": 71,
   "metadata": {},
   "outputs": [
    {
     "data": {
      "text/html": [
       "<div>\n",
       "<style scoped>\n",
       "    .dataframe tbody tr th:only-of-type {\n",
       "        vertical-align: middle;\n",
       "    }\n",
       "\n",
       "    .dataframe tbody tr th {\n",
       "        vertical-align: top;\n",
       "    }\n",
       "\n",
       "    .dataframe thead th {\n",
       "        text-align: right;\n",
       "    }\n",
       "</style>\n",
       "<table border=\"1\" class=\"dataframe\">\n",
       "  <thead>\n",
       "    <tr style=\"text-align: right;\">\n",
       "      <th></th>\n",
       "      <th>L1S105</th>\n",
       "      <th>L1S140</th>\n",
       "      <th>L1S208</th>\n",
       "      <th>L1S257</th>\n",
       "      <th>L1S281</th>\n",
       "      <th>L1S57</th>\n",
       "      <th>L1S76</th>\n",
       "      <th>L1S8</th>\n",
       "      <th>L2S155</th>\n",
       "      <th>L2S175</th>\n",
       "      <th>...</th>\n",
       "      <th>L4S63</th>\n",
       "      <th>L5S104</th>\n",
       "      <th>L5S155</th>\n",
       "      <th>L5S174</th>\n",
       "      <th>L5S203</th>\n",
       "      <th>L5S222</th>\n",
       "      <th>L5S240</th>\n",
       "      <th>L6S20</th>\n",
       "      <th>L6S68</th>\n",
       "      <th>L6S93</th>\n",
       "    </tr>\n",
       "    <tr>\n",
       "      <th>#OTU ID</th>\n",
       "      <th></th>\n",
       "      <th></th>\n",
       "      <th></th>\n",
       "      <th></th>\n",
       "      <th></th>\n",
       "      <th></th>\n",
       "      <th></th>\n",
       "      <th></th>\n",
       "      <th></th>\n",
       "      <th></th>\n",
       "      <th></th>\n",
       "      <th></th>\n",
       "      <th></th>\n",
       "      <th></th>\n",
       "      <th></th>\n",
       "      <th></th>\n",
       "      <th></th>\n",
       "      <th></th>\n",
       "      <th></th>\n",
       "      <th></th>\n",
       "      <th></th>\n",
       "    </tr>\n",
       "  </thead>\n",
       "  <tbody>\n",
       "    <tr>\n",
       "      <th>4b5eeb300368260019c1fbc7a3c718fc</th>\n",
       "      <td>2175.0</td>\n",
       "      <td>0.0</td>\n",
       "      <td>0.0</td>\n",
       "      <td>0.0</td>\n",
       "      <td>0.0</td>\n",
       "      <td>2806.0</td>\n",
       "      <td>3309.0</td>\n",
       "      <td>2595.0</td>\n",
       "      <td>10.0</td>\n",
       "      <td>10.0</td>\n",
       "      <td>...</td>\n",
       "      <td>0.0</td>\n",
       "      <td>10.0</td>\n",
       "      <td>0.0</td>\n",
       "      <td>0.0</td>\n",
       "      <td>0.0</td>\n",
       "      <td>0.0</td>\n",
       "      <td>0.0</td>\n",
       "      <td>0.0</td>\n",
       "      <td>0.0</td>\n",
       "      <td>0.0</td>\n",
       "    </tr>\n",
       "    <tr>\n",
       "      <th>fe30ff0f71a38a39cf1717ec2be3a2fc</th>\n",
       "      <td>5.0</td>\n",
       "      <td>0.0</td>\n",
       "      <td>0.0</td>\n",
       "      <td>0.0</td>\n",
       "      <td>0.0</td>\n",
       "      <td>0.0</td>\n",
       "      <td>0.0</td>\n",
       "      <td>0.0</td>\n",
       "      <td>0.0</td>\n",
       "      <td>0.0</td>\n",
       "      <td>...</td>\n",
       "      <td>160.0</td>\n",
       "      <td>0.0</td>\n",
       "      <td>0.0</td>\n",
       "      <td>0.0</td>\n",
       "      <td>0.0</td>\n",
       "      <td>0.0</td>\n",
       "      <td>374.0</td>\n",
       "      <td>3323.0</td>\n",
       "      <td>1723.0</td>\n",
       "      <td>1341.0</td>\n",
       "    </tr>\n",
       "    <tr>\n",
       "      <th>d29fe3c70564fc0f69f2c03e0d1e5561</th>\n",
       "      <td>0.0</td>\n",
       "      <td>0.0</td>\n",
       "      <td>0.0</td>\n",
       "      <td>0.0</td>\n",
       "      <td>0.0</td>\n",
       "      <td>0.0</td>\n",
       "      <td>0.0</td>\n",
       "      <td>0.0</td>\n",
       "      <td>353.0</td>\n",
       "      <td>779.0</td>\n",
       "      <td>...</td>\n",
       "      <td>417.0</td>\n",
       "      <td>216.0</td>\n",
       "      <td>140.0</td>\n",
       "      <td>107.0</td>\n",
       "      <td>215.0</td>\n",
       "      <td>148.0</td>\n",
       "      <td>117.0</td>\n",
       "      <td>215.0</td>\n",
       "      <td>500.0</td>\n",
       "      <td>465.0</td>\n",
       "    </tr>\n",
       "    <tr>\n",
       "      <th>868528ca947bc57b69ffdf83e6b73bae</th>\n",
       "      <td>0.0</td>\n",
       "      <td>2249.0</td>\n",
       "      <td>2107.0</td>\n",
       "      <td>1177.0</td>\n",
       "      <td>1722.0</td>\n",
       "      <td>0.0</td>\n",
       "      <td>0.0</td>\n",
       "      <td>0.0</td>\n",
       "      <td>0.0</td>\n",
       "      <td>0.0</td>\n",
       "      <td>...</td>\n",
       "      <td>0.0</td>\n",
       "      <td>0.0</td>\n",
       "      <td>0.0</td>\n",
       "      <td>0.0</td>\n",
       "      <td>5.0</td>\n",
       "      <td>0.0</td>\n",
       "      <td>10.0</td>\n",
       "      <td>0.0</td>\n",
       "      <td>0.0</td>\n",
       "      <td>9.0</td>\n",
       "    </tr>\n",
       "    <tr>\n",
       "      <th>154709e160e8cada6bfb21115acc80f5</th>\n",
       "      <td>803.0</td>\n",
       "      <td>1174.0</td>\n",
       "      <td>694.0</td>\n",
       "      <td>406.0</td>\n",
       "      <td>242.0</td>\n",
       "      <td>1081.0</td>\n",
       "      <td>930.0</td>\n",
       "      <td>1623.0</td>\n",
       "      <td>0.0</td>\n",
       "      <td>0.0</td>\n",
       "      <td>...</td>\n",
       "      <td>0.0</td>\n",
       "      <td>0.0</td>\n",
       "      <td>9.0</td>\n",
       "      <td>0.0</td>\n",
       "      <td>0.0</td>\n",
       "      <td>0.0</td>\n",
       "      <td>0.0</td>\n",
       "      <td>0.0</td>\n",
       "      <td>0.0</td>\n",
       "      <td>0.0</td>\n",
       "    </tr>\n",
       "  </tbody>\n",
       "</table>\n",
       "<p>5 rows × 34 columns</p>\n",
       "</div>"
      ],
      "text/plain": [
       "                                  L1S105  L1S140  L1S208  L1S257  L1S281  \\\n",
       "#OTU ID                                                                    \n",
       "4b5eeb300368260019c1fbc7a3c718fc  2175.0     0.0     0.0     0.0     0.0   \n",
       "fe30ff0f71a38a39cf1717ec2be3a2fc     5.0     0.0     0.0     0.0     0.0   \n",
       "d29fe3c70564fc0f69f2c03e0d1e5561     0.0     0.0     0.0     0.0     0.0   \n",
       "868528ca947bc57b69ffdf83e6b73bae     0.0  2249.0  2107.0  1177.0  1722.0   \n",
       "154709e160e8cada6bfb21115acc80f5   803.0  1174.0   694.0   406.0   242.0   \n",
       "\n",
       "                                   L1S57   L1S76    L1S8  L2S155  L2S175  ...  \\\n",
       "#OTU ID                                                                   ...   \n",
       "4b5eeb300368260019c1fbc7a3c718fc  2806.0  3309.0  2595.0    10.0    10.0  ...   \n",
       "fe30ff0f71a38a39cf1717ec2be3a2fc     0.0     0.0     0.0     0.0     0.0  ...   \n",
       "d29fe3c70564fc0f69f2c03e0d1e5561     0.0     0.0     0.0   353.0   779.0  ...   \n",
       "868528ca947bc57b69ffdf83e6b73bae     0.0     0.0     0.0     0.0     0.0  ...   \n",
       "154709e160e8cada6bfb21115acc80f5  1081.0   930.0  1623.0     0.0     0.0  ...   \n",
       "\n",
       "                                  L4S63  L5S104  L5S155  L5S174  L5S203  \\\n",
       "#OTU ID                                                                   \n",
       "4b5eeb300368260019c1fbc7a3c718fc    0.0    10.0     0.0     0.0     0.0   \n",
       "fe30ff0f71a38a39cf1717ec2be3a2fc  160.0     0.0     0.0     0.0     0.0   \n",
       "d29fe3c70564fc0f69f2c03e0d1e5561  417.0   216.0   140.0   107.0   215.0   \n",
       "868528ca947bc57b69ffdf83e6b73bae    0.0     0.0     0.0     0.0     5.0   \n",
       "154709e160e8cada6bfb21115acc80f5    0.0     0.0     9.0     0.0     0.0   \n",
       "\n",
       "                                  L5S222  L5S240   L6S20   L6S68   L6S93  \n",
       "#OTU ID                                                                   \n",
       "4b5eeb300368260019c1fbc7a3c718fc     0.0     0.0     0.0     0.0     0.0  \n",
       "fe30ff0f71a38a39cf1717ec2be3a2fc     0.0   374.0  3323.0  1723.0  1341.0  \n",
       "d29fe3c70564fc0f69f2c03e0d1e5561   148.0   117.0   215.0   500.0   465.0  \n",
       "868528ca947bc57b69ffdf83e6b73bae     0.0    10.0     0.0     0.0     9.0  \n",
       "154709e160e8cada6bfb21115acc80f5     0.0     0.0     0.0     0.0     0.0  \n",
       "\n",
       "[5 rows x 34 columns]"
      ]
     },
     "execution_count": 71,
     "metadata": {},
     "output_type": "execute_result"
    }
   ],
   "source": [
    "#The head function allows us to look at the 5 first rows\n",
    "feature_table_sparse.head()"
   ]
  },
  {
   "cell_type": "code",
   "execution_count": 178,
   "metadata": {},
   "outputs": [],
   "source": [
    "#clr transformation is applied to the dataframe (with the row and column names), but it\n",
    "#ouputs an array so we will store the result, and reconstruct the dataframe\n",
    "#We could have used alr or ilr too\n",
    "clr_transformed_array = clr(feature_table)"
   ]
  },
  {
   "cell_type": "code",
   "execution_count": 47,
   "metadata": {},
   "outputs": [],
   "source": [
    "#storing the sample and asv names from the original dataframe\n",
    "samples = feature_table.columns\n",
    "asvs = feature_table.index"
   ]
  },
  {
   "cell_type": "code",
   "execution_count": 48,
   "metadata": {},
   "outputs": [],
   "source": [
    "#Creating the dataframe with the clr transformed data, and assigning the sample names\n",
    "clr_transformed = pd.DataFrame(clr_transformed_array, columns=samples)"
   ]
  },
  {
   "cell_type": "code",
   "execution_count": 177,
   "metadata": {},
   "outputs": [],
   "source": [
    "#Assigning the asv names\n",
    "clr_transformed['asvs'] = asvs\n",
    "clr_transformed = clr_transformed.set_index('asvs')"
   ]
  },
  {
   "cell_type": "code",
   "execution_count": 121,
   "metadata": {},
   "outputs": [
    {
     "data": {
      "text/html": [
       "<div>\n",
       "<style scoped>\n",
       "    .dataframe tbody tr th:only-of-type {\n",
       "        vertical-align: middle;\n",
       "    }\n",
       "\n",
       "    .dataframe tbody tr th {\n",
       "        vertical-align: top;\n",
       "    }\n",
       "\n",
       "    .dataframe thead th {\n",
       "        text-align: right;\n",
       "    }\n",
       "</style>\n",
       "<table border=\"1\" class=\"dataframe\">\n",
       "  <thead>\n",
       "    <tr style=\"text-align: right;\">\n",
       "      <th></th>\n",
       "      <th>L1S105</th>\n",
       "      <th>L1S140</th>\n",
       "      <th>L1S208</th>\n",
       "      <th>L1S257</th>\n",
       "      <th>L1S281</th>\n",
       "      <th>L1S57</th>\n",
       "      <th>L1S76</th>\n",
       "      <th>L1S8</th>\n",
       "      <th>L2S155</th>\n",
       "      <th>L2S175</th>\n",
       "      <th>...</th>\n",
       "      <th>L4S63</th>\n",
       "      <th>L5S104</th>\n",
       "      <th>L5S155</th>\n",
       "      <th>L5S174</th>\n",
       "      <th>L5S203</th>\n",
       "      <th>L5S222</th>\n",
       "      <th>L5S240</th>\n",
       "      <th>L6S20</th>\n",
       "      <th>L6S68</th>\n",
       "      <th>L6S93</th>\n",
       "    </tr>\n",
       "    <tr>\n",
       "      <th>asvs</th>\n",
       "      <th></th>\n",
       "      <th></th>\n",
       "      <th></th>\n",
       "      <th></th>\n",
       "      <th></th>\n",
       "      <th></th>\n",
       "      <th></th>\n",
       "      <th></th>\n",
       "      <th></th>\n",
       "      <th></th>\n",
       "      <th></th>\n",
       "      <th></th>\n",
       "      <th></th>\n",
       "      <th></th>\n",
       "      <th></th>\n",
       "      <th></th>\n",
       "      <th></th>\n",
       "      <th></th>\n",
       "      <th></th>\n",
       "      <th></th>\n",
       "      <th></th>\n",
       "    </tr>\n",
       "  </thead>\n",
       "  <tbody>\n",
       "    <tr>\n",
       "      <th>4b5eeb300368260019c1fbc7a3c718fc</th>\n",
       "      <td>7.391545</td>\n",
       "      <td>-2.595824</td>\n",
       "      <td>-2.595824</td>\n",
       "      <td>-2.595824</td>\n",
       "      <td>-2.595824</td>\n",
       "      <td>7.646276</td>\n",
       "      <td>7.811162</td>\n",
       "      <td>7.568103</td>\n",
       "      <td>2.009346</td>\n",
       "      <td>2.009346</td>\n",
       "      <td>...</td>\n",
       "      <td>-2.595824</td>\n",
       "      <td>2.009346</td>\n",
       "      <td>-2.595824</td>\n",
       "      <td>-2.595824</td>\n",
       "      <td>-2.595824</td>\n",
       "      <td>-2.595824</td>\n",
       "      <td>-2.595824</td>\n",
       "      <td>-2.595824</td>\n",
       "      <td>-2.595824</td>\n",
       "      <td>-2.595824</td>\n",
       "    </tr>\n",
       "    <tr>\n",
       "      <th>fe30ff0f71a38a39cf1717ec2be3a2fc</th>\n",
       "      <td>0.492488</td>\n",
       "      <td>-3.419535</td>\n",
       "      <td>-3.419535</td>\n",
       "      <td>-3.419535</td>\n",
       "      <td>-3.419535</td>\n",
       "      <td>-3.419535</td>\n",
       "      <td>-3.419535</td>\n",
       "      <td>-3.419535</td>\n",
       "      <td>-3.419535</td>\n",
       "      <td>-3.419535</td>\n",
       "      <td>...</td>\n",
       "      <td>3.958224</td>\n",
       "      <td>-3.419535</td>\n",
       "      <td>-3.419535</td>\n",
       "      <td>-3.419535</td>\n",
       "      <td>-3.419535</td>\n",
       "      <td>-3.419535</td>\n",
       "      <td>4.807306</td>\n",
       "      <td>6.991673</td>\n",
       "      <td>6.334872</td>\n",
       "      <td>6.084221</td>\n",
       "    </tr>\n",
       "    <tr>\n",
       "      <th>d29fe3c70564fc0f69f2c03e0d1e5561</th>\n",
       "      <td>-5.557092</td>\n",
       "      <td>-5.557092</td>\n",
       "      <td>-5.557092</td>\n",
       "      <td>-5.557092</td>\n",
       "      <td>-5.557092</td>\n",
       "      <td>-5.557092</td>\n",
       "      <td>-5.557092</td>\n",
       "      <td>-5.557092</td>\n",
       "      <td>2.611961</td>\n",
       "      <td>3.403504</td>\n",
       "      <td>...</td>\n",
       "      <td>2.778579</td>\n",
       "      <td>2.120771</td>\n",
       "      <td>1.687135</td>\n",
       "      <td>1.418322</td>\n",
       "      <td>2.116131</td>\n",
       "      <td>1.742705</td>\n",
       "      <td>1.507667</td>\n",
       "      <td>2.116131</td>\n",
       "      <td>2.960101</td>\n",
       "      <td>2.887530</td>\n",
       "    </tr>\n",
       "    <tr>\n",
       "      <th>868528ca947bc57b69ffdf83e6b73bae</th>\n",
       "      <td>-2.072053</td>\n",
       "      <td>7.948773</td>\n",
       "      <td>7.883553</td>\n",
       "      <td>7.301256</td>\n",
       "      <td>7.681774</td>\n",
       "      <td>-2.072053</td>\n",
       "      <td>-2.072053</td>\n",
       "      <td>-2.072053</td>\n",
       "      <td>-2.072053</td>\n",
       "      <td>-2.072053</td>\n",
       "      <td>...</td>\n",
       "      <td>-2.072053</td>\n",
       "      <td>-2.072053</td>\n",
       "      <td>-2.072053</td>\n",
       "      <td>-2.072053</td>\n",
       "      <td>1.839970</td>\n",
       "      <td>-2.072053</td>\n",
       "      <td>2.533117</td>\n",
       "      <td>-2.072053</td>\n",
       "      <td>-2.072053</td>\n",
       "      <td>2.427757</td>\n",
       "    </tr>\n",
       "    <tr>\n",
       "      <th>154709e160e8cada6bfb21115acc80f5</th>\n",
       "      <td>6.065054</td>\n",
       "      <td>6.444871</td>\n",
       "      <td>5.919171</td>\n",
       "      <td>5.383052</td>\n",
       "      <td>4.865637</td>\n",
       "      <td>6.362341</td>\n",
       "      <td>6.211884</td>\n",
       "      <td>6.768731</td>\n",
       "      <td>-2.925886</td>\n",
       "      <td>-2.925886</td>\n",
       "      <td>...</td>\n",
       "      <td>-2.925886</td>\n",
       "      <td>-2.925886</td>\n",
       "      <td>1.573924</td>\n",
       "      <td>-2.925886</td>\n",
       "      <td>-2.925886</td>\n",
       "      <td>-2.925886</td>\n",
       "      <td>-2.925886</td>\n",
       "      <td>-2.925886</td>\n",
       "      <td>-2.925886</td>\n",
       "      <td>-2.925886</td>\n",
       "    </tr>\n",
       "  </tbody>\n",
       "</table>\n",
       "<p>5 rows × 34 columns</p>\n",
       "</div>"
      ],
      "text/plain": [
       "                                    L1S105    L1S140    L1S208    L1S257  \\\n",
       "asvs                                                                       \n",
       "4b5eeb300368260019c1fbc7a3c718fc  7.391545 -2.595824 -2.595824 -2.595824   \n",
       "fe30ff0f71a38a39cf1717ec2be3a2fc  0.492488 -3.419535 -3.419535 -3.419535   \n",
       "d29fe3c70564fc0f69f2c03e0d1e5561 -5.557092 -5.557092 -5.557092 -5.557092   \n",
       "868528ca947bc57b69ffdf83e6b73bae -2.072053  7.948773  7.883553  7.301256   \n",
       "154709e160e8cada6bfb21115acc80f5  6.065054  6.444871  5.919171  5.383052   \n",
       "\n",
       "                                    L1S281     L1S57     L1S76      L1S8  \\\n",
       "asvs                                                                       \n",
       "4b5eeb300368260019c1fbc7a3c718fc -2.595824  7.646276  7.811162  7.568103   \n",
       "fe30ff0f71a38a39cf1717ec2be3a2fc -3.419535 -3.419535 -3.419535 -3.419535   \n",
       "d29fe3c70564fc0f69f2c03e0d1e5561 -5.557092 -5.557092 -5.557092 -5.557092   \n",
       "868528ca947bc57b69ffdf83e6b73bae  7.681774 -2.072053 -2.072053 -2.072053   \n",
       "154709e160e8cada6bfb21115acc80f5  4.865637  6.362341  6.211884  6.768731   \n",
       "\n",
       "                                    L2S155    L2S175  ...     L4S63    L5S104  \\\n",
       "asvs                                                  ...                       \n",
       "4b5eeb300368260019c1fbc7a3c718fc  2.009346  2.009346  ... -2.595824  2.009346   \n",
       "fe30ff0f71a38a39cf1717ec2be3a2fc -3.419535 -3.419535  ...  3.958224 -3.419535   \n",
       "d29fe3c70564fc0f69f2c03e0d1e5561  2.611961  3.403504  ...  2.778579  2.120771   \n",
       "868528ca947bc57b69ffdf83e6b73bae -2.072053 -2.072053  ... -2.072053 -2.072053   \n",
       "154709e160e8cada6bfb21115acc80f5 -2.925886 -2.925886  ... -2.925886 -2.925886   \n",
       "\n",
       "                                    L5S155    L5S174    L5S203    L5S222  \\\n",
       "asvs                                                                       \n",
       "4b5eeb300368260019c1fbc7a3c718fc -2.595824 -2.595824 -2.595824 -2.595824   \n",
       "fe30ff0f71a38a39cf1717ec2be3a2fc -3.419535 -3.419535 -3.419535 -3.419535   \n",
       "d29fe3c70564fc0f69f2c03e0d1e5561  1.687135  1.418322  2.116131  1.742705   \n",
       "868528ca947bc57b69ffdf83e6b73bae -2.072053 -2.072053  1.839970 -2.072053   \n",
       "154709e160e8cada6bfb21115acc80f5  1.573924 -2.925886 -2.925886 -2.925886   \n",
       "\n",
       "                                    L5S240     L6S20     L6S68     L6S93  \n",
       "asvs                                                                      \n",
       "4b5eeb300368260019c1fbc7a3c718fc -2.595824 -2.595824 -2.595824 -2.595824  \n",
       "fe30ff0f71a38a39cf1717ec2be3a2fc  4.807306  6.991673  6.334872  6.084221  \n",
       "d29fe3c70564fc0f69f2c03e0d1e5561  1.507667  2.116131  2.960101  2.887530  \n",
       "868528ca947bc57b69ffdf83e6b73bae  2.533117 -2.072053 -2.072053  2.427757  \n",
       "154709e160e8cada6bfb21115acc80f5 -2.925886 -2.925886 -2.925886 -2.925886  \n",
       "\n",
       "[5 rows x 34 columns]"
      ]
     },
     "execution_count": 121,
     "metadata": {},
     "output_type": "execute_result"
    }
   ],
   "source": [
    "clr_transformed.head()"
   ]
  },
  {
   "cell_type": "markdown",
   "metadata": {},
   "source": [
    "### Alpha diversity ** Not completed\n",
    "The CoDA method for alpha diversity is to compute CHAO1 (richness) or Shannon (evenness). <br>\n",
    "The CHAO1 index input is non-rarefied/non-transformed data (aka raw counts) and the Shannon diversity index takes normalized/rarefied/transformed"
   ]
  },
  {
   "cell_type": "code",
   "execution_count": 77,
   "metadata": {},
   "outputs": [
    {
     "data": {
      "text/plain": [
       "#OTU ID\n",
       "4b5eeb300368260019c1fbc7a3c718fc    13\n",
       "fe30ff0f71a38a39cf1717ec2be3a2fc    16\n",
       "d29fe3c70564fc0f69f2c03e0d1e5561    25\n",
       "868528ca947bc57b69ffdf83e6b73bae    10\n",
       "154709e160e8cada6bfb21115acc80f5    13\n",
       "                                    ..\n",
       "a6b6f29a1196cacfc392e3d71f55e2a2     1\n",
       "0e5df3d01cc073e3c9674c2534169f03     1\n",
       "06845c67bc4203081a981200f33e87eb     1\n",
       "98d250a339a635f20e26397dafc6ced3     1\n",
       "1830c14ead81ad012f1db0e12f8ab6a4     1\n",
       "Length: 770, dtype: int64"
      ]
     },
     "execution_count": 77,
     "metadata": {},
     "output_type": "execute_result"
    }
   ],
   "source": [
    "#This will calculate the number of samples this asv was seen in\n",
    "obs_otus = alpha_diversity('observed_otus', feature_table_sparse, asvs)\n",
    "obs_otus"
   ]
  },
  {
   "cell_type": "code",
   "execution_count": 75,
   "metadata": {},
   "outputs": [],
   "source": [
    "chao1 = samples.plot_metadata(vaxis=\"chao1\", haxis=\"geo_loc_name\", return_chart=True)"
   ]
  },
  {
   "cell_type": "code",
   "execution_count": 76,
   "metadata": {},
   "outputs": [
    {
     "data": {
      "text/plain": [
       "0      13.0\n",
       "1      16.0\n",
       "2      25.0\n",
       "3      10.0\n",
       "4      13.0\n",
       "       ... \n",
       "765     1.0\n",
       "766     1.0\n",
       "767     1.0\n",
       "768     1.0\n",
       "769     1.0\n",
       "Length: 770, dtype: float64"
      ]
     },
     "execution_count": 76,
     "metadata": {},
     "output_type": "execute_result"
    }
   ],
   "source": [
    "adiv_faith_pd"
   ]
  },
  {
   "cell_type": "markdown",
   "metadata": {},
   "source": [
    "### Beta diversity\n",
    "The CoDA method for beta diversity calculations is the Aitchison distance, which is simply the Euclian distance between samples after clr transformation"
   ]
  },
  {
   "cell_type": "code",
   "execution_count": 83,
   "metadata": {},
   "outputs": [],
   "source": [
    "#You need to use the transpose of the table because our columns are samples, and cdist computes the distance\n",
    "#between pairs of rows, not pairs of columns\n",
    "dist = cdist(clr_transformed.T, clr_transformed.T, 'euclid')"
   ]
  },
  {
   "cell_type": "code",
   "execution_count": 85,
   "metadata": {},
   "outputs": [],
   "source": [
    "#Just as we previously did with clr, we need to reconstruct the table after applying cdist\n",
    "distance_matrix = pd.DataFrame(dist, columns=samples)"
   ]
  },
  {
   "cell_type": "code",
   "execution_count": 89,
   "metadata": {},
   "outputs": [],
   "source": [
    "distance_matrix['samples'] = samples\n",
    "distance_matrix = distance_matrix.set_index('samples')"
   ]
  },
  {
   "cell_type": "code",
   "execution_count": 168,
   "metadata": {
    "collapsed": true
   },
   "outputs": [
    {
     "data": {
      "text/html": [
       "<div>\n",
       "<style scoped>\n",
       "    .dataframe tbody tr th:only-of-type {\n",
       "        vertical-align: middle;\n",
       "    }\n",
       "\n",
       "    .dataframe tbody tr th {\n",
       "        vertical-align: top;\n",
       "    }\n",
       "\n",
       "    .dataframe thead th {\n",
       "        text-align: right;\n",
       "    }\n",
       "</style>\n",
       "<table border=\"1\" class=\"dataframe\">\n",
       "  <thead>\n",
       "    <tr style=\"text-align: right;\">\n",
       "      <th></th>\n",
       "      <th>L1S105</th>\n",
       "      <th>L1S140</th>\n",
       "      <th>L1S208</th>\n",
       "      <th>L1S257</th>\n",
       "      <th>L1S281</th>\n",
       "      <th>L1S57</th>\n",
       "      <th>L1S76</th>\n",
       "      <th>L1S8</th>\n",
       "      <th>L2S155</th>\n",
       "      <th>L2S175</th>\n",
       "      <th>...</th>\n",
       "      <th>L4S63</th>\n",
       "      <th>L5S104</th>\n",
       "      <th>L5S155</th>\n",
       "      <th>L5S174</th>\n",
       "      <th>L5S203</th>\n",
       "      <th>L5S222</th>\n",
       "      <th>L5S240</th>\n",
       "      <th>L6S20</th>\n",
       "      <th>L6S68</th>\n",
       "      <th>L6S93</th>\n",
       "    </tr>\n",
       "    <tr>\n",
       "      <th>samples</th>\n",
       "      <th></th>\n",
       "      <th></th>\n",
       "      <th></th>\n",
       "      <th></th>\n",
       "      <th></th>\n",
       "      <th></th>\n",
       "      <th></th>\n",
       "      <th></th>\n",
       "      <th></th>\n",
       "      <th></th>\n",
       "      <th></th>\n",
       "      <th></th>\n",
       "      <th></th>\n",
       "      <th></th>\n",
       "      <th></th>\n",
       "      <th></th>\n",
       "      <th></th>\n",
       "      <th></th>\n",
       "      <th></th>\n",
       "      <th></th>\n",
       "      <th></th>\n",
       "    </tr>\n",
       "  </thead>\n",
       "  <tbody>\n",
       "    <tr>\n",
       "      <th>L1S105</th>\n",
       "      <td>0.000000</td>\n",
       "      <td>50.660476</td>\n",
       "      <td>53.009714</td>\n",
       "      <td>53.688080</td>\n",
       "      <td>53.458794</td>\n",
       "      <td>39.266192</td>\n",
       "      <td>34.249881</td>\n",
       "      <td>40.786794</td>\n",
       "      <td>68.202433</td>\n",
       "      <td>68.152313</td>\n",
       "      <td>...</td>\n",
       "      <td>89.547740</td>\n",
       "      <td>54.552149</td>\n",
       "      <td>52.926555</td>\n",
       "      <td>55.141802</td>\n",
       "      <td>55.760395</td>\n",
       "      <td>55.467756</td>\n",
       "      <td>53.600612</td>\n",
       "      <td>60.315564</td>\n",
       "      <td>59.753785</td>\n",
       "      <td>62.806810</td>\n",
       "    </tr>\n",
       "    <tr>\n",
       "      <th>L1S140</th>\n",
       "      <td>50.660476</td>\n",
       "      <td>0.000000</td>\n",
       "      <td>48.609390</td>\n",
       "      <td>46.530973</td>\n",
       "      <td>45.727517</td>\n",
       "      <td>55.013435</td>\n",
       "      <td>50.059470</td>\n",
       "      <td>45.652815</td>\n",
       "      <td>69.188427</td>\n",
       "      <td>69.567043</td>\n",
       "      <td>...</td>\n",
       "      <td>90.416556</td>\n",
       "      <td>56.003679</td>\n",
       "      <td>53.537745</td>\n",
       "      <td>55.759361</td>\n",
       "      <td>55.671413</td>\n",
       "      <td>56.081726</td>\n",
       "      <td>53.977640</td>\n",
       "      <td>60.974521</td>\n",
       "      <td>60.438490</td>\n",
       "      <td>63.836860</td>\n",
       "    </tr>\n",
       "    <tr>\n",
       "      <th>L1S208</th>\n",
       "      <td>53.009714</td>\n",
       "      <td>48.609390</td>\n",
       "      <td>0.000000</td>\n",
       "      <td>34.792111</td>\n",
       "      <td>35.981231</td>\n",
       "      <td>54.630893</td>\n",
       "      <td>50.566306</td>\n",
       "      <td>54.161753</td>\n",
       "      <td>73.835605</td>\n",
       "      <td>73.744846</td>\n",
       "      <td>...</td>\n",
       "      <td>94.433156</td>\n",
       "      <td>60.286656</td>\n",
       "      <td>57.969353</td>\n",
       "      <td>59.986803</td>\n",
       "      <td>59.928604</td>\n",
       "      <td>60.457243</td>\n",
       "      <td>58.880162</td>\n",
       "      <td>64.833009</td>\n",
       "      <td>64.421187</td>\n",
       "      <td>67.502259</td>\n",
       "    </tr>\n",
       "    <tr>\n",
       "      <th>L1S257</th>\n",
       "      <td>53.688080</td>\n",
       "      <td>46.530973</td>\n",
       "      <td>34.792111</td>\n",
       "      <td>0.000000</td>\n",
       "      <td>29.785402</td>\n",
       "      <td>55.720405</td>\n",
       "      <td>50.079869</td>\n",
       "      <td>54.086832</td>\n",
       "      <td>72.480833</td>\n",
       "      <td>72.447081</td>\n",
       "      <td>...</td>\n",
       "      <td>93.380999</td>\n",
       "      <td>59.262530</td>\n",
       "      <td>56.963472</td>\n",
       "      <td>59.007058</td>\n",
       "      <td>58.949004</td>\n",
       "      <td>59.400300</td>\n",
       "      <td>57.392055</td>\n",
       "      <td>63.917520</td>\n",
       "      <td>63.452446</td>\n",
       "      <td>66.708979</td>\n",
       "    </tr>\n",
       "    <tr>\n",
       "      <th>L1S281</th>\n",
       "      <td>53.458794</td>\n",
       "      <td>45.727517</td>\n",
       "      <td>35.981231</td>\n",
       "      <td>29.785402</td>\n",
       "      <td>0.000000</td>\n",
       "      <td>53.204023</td>\n",
       "      <td>47.877624</td>\n",
       "      <td>54.981851</td>\n",
       "      <td>72.469797</td>\n",
       "      <td>72.510591</td>\n",
       "      <td>...</td>\n",
       "      <td>93.494698</td>\n",
       "      <td>58.768556</td>\n",
       "      <td>56.549391</td>\n",
       "      <td>58.535779</td>\n",
       "      <td>58.469875</td>\n",
       "      <td>58.842936</td>\n",
       "      <td>56.862781</td>\n",
       "      <td>63.501542</td>\n",
       "      <td>62.989385</td>\n",
       "      <td>66.293881</td>\n",
       "    </tr>\n",
       "    <tr>\n",
       "      <th>L1S57</th>\n",
       "      <td>39.266192</td>\n",
       "      <td>55.013435</td>\n",
       "      <td>54.630893</td>\n",
       "      <td>55.720405</td>\n",
       "      <td>53.204023</td>\n",
       "      <td>0.000000</td>\n",
       "      <td>30.930870</td>\n",
       "      <td>46.487716</td>\n",
       "      <td>71.582245</td>\n",
       "      <td>72.055573</td>\n",
       "      <td>...</td>\n",
       "      <td>93.659673</td>\n",
       "      <td>58.206829</td>\n",
       "      <td>56.606645</td>\n",
       "      <td>58.747458</td>\n",
       "      <td>59.305199</td>\n",
       "      <td>59.169595</td>\n",
       "      <td>57.879971</td>\n",
       "      <td>64.218362</td>\n",
       "      <td>63.710016</td>\n",
       "      <td>67.102688</td>\n",
       "    </tr>\n",
       "    <tr>\n",
       "      <th>L1S76</th>\n",
       "      <td>34.249881</td>\n",
       "      <td>50.059470</td>\n",
       "      <td>50.566306</td>\n",
       "      <td>50.079869</td>\n",
       "      <td>47.877624</td>\n",
       "      <td>30.930870</td>\n",
       "      <td>0.000000</td>\n",
       "      <td>42.015113</td>\n",
       "      <td>68.701584</td>\n",
       "      <td>68.860753</td>\n",
       "      <td>...</td>\n",
       "      <td>91.219470</td>\n",
       "      <td>54.199856</td>\n",
       "      <td>52.587557</td>\n",
       "      <td>54.828556</td>\n",
       "      <td>55.450644</td>\n",
       "      <td>55.156362</td>\n",
       "      <td>53.878986</td>\n",
       "      <td>60.704014</td>\n",
       "      <td>60.103128</td>\n",
       "      <td>63.736901</td>\n",
       "    </tr>\n",
       "    <tr>\n",
       "      <th>L1S8</th>\n",
       "      <td>40.786794</td>\n",
       "      <td>45.652815</td>\n",
       "      <td>54.161753</td>\n",
       "      <td>54.086832</td>\n",
       "      <td>54.981851</td>\n",
       "      <td>46.487716</td>\n",
       "      <td>42.015113</td>\n",
       "      <td>0.000000</td>\n",
       "      <td>63.958098</td>\n",
       "      <td>63.708223</td>\n",
       "      <td>...</td>\n",
       "      <td>87.364866</td>\n",
       "      <td>47.142601</td>\n",
       "      <td>45.180677</td>\n",
       "      <td>47.878171</td>\n",
       "      <td>48.478772</td>\n",
       "      <td>48.320461</td>\n",
       "      <td>46.724653</td>\n",
       "      <td>54.222330</td>\n",
       "      <td>53.610409</td>\n",
       "      <td>57.663009</td>\n",
       "    </tr>\n",
       "    <tr>\n",
       "      <th>L2S155</th>\n",
       "      <td>68.202433</td>\n",
       "      <td>69.188427</td>\n",
       "      <td>73.835605</td>\n",
       "      <td>72.480833</td>\n",
       "      <td>72.469797</td>\n",
       "      <td>71.582245</td>\n",
       "      <td>68.701584</td>\n",
       "      <td>63.958098</td>\n",
       "      <td>0.000000</td>\n",
       "      <td>48.545925</td>\n",
       "      <td>...</td>\n",
       "      <td>74.196641</td>\n",
       "      <td>54.607383</td>\n",
       "      <td>55.176531</td>\n",
       "      <td>56.785390</td>\n",
       "      <td>55.066895</td>\n",
       "      <td>56.366996</td>\n",
       "      <td>55.675101</td>\n",
       "      <td>61.066463</td>\n",
       "      <td>59.391549</td>\n",
       "      <td>62.615739</td>\n",
       "    </tr>\n",
       "    <tr>\n",
       "      <th>L2S175</th>\n",
       "      <td>68.152313</td>\n",
       "      <td>69.567043</td>\n",
       "      <td>73.744846</td>\n",
       "      <td>72.447081</td>\n",
       "      <td>72.510591</td>\n",
       "      <td>72.055573</td>\n",
       "      <td>68.860753</td>\n",
       "      <td>63.708223</td>\n",
       "      <td>48.545925</td>\n",
       "      <td>0.000000</td>\n",
       "      <td>...</td>\n",
       "      <td>74.208530</td>\n",
       "      <td>52.740392</td>\n",
       "      <td>52.513413</td>\n",
       "      <td>54.138034</td>\n",
       "      <td>51.705993</td>\n",
       "      <td>53.354733</td>\n",
       "      <td>52.998036</td>\n",
       "      <td>58.711297</td>\n",
       "      <td>56.271723</td>\n",
       "      <td>58.501812</td>\n",
       "    </tr>\n",
       "    <tr>\n",
       "      <th>L2S204</th>\n",
       "      <td>64.079239</td>\n",
       "      <td>65.563394</td>\n",
       "      <td>70.153820</td>\n",
       "      <td>68.408452</td>\n",
       "      <td>68.345537</td>\n",
       "      <td>67.842968</td>\n",
       "      <td>64.325997</td>\n",
       "      <td>59.620729</td>\n",
       "      <td>57.029810</td>\n",
       "      <td>54.545582</td>\n",
       "      <td>...</td>\n",
       "      <td>72.392318</td>\n",
       "      <td>53.053153</td>\n",
       "      <td>52.766352</td>\n",
       "      <td>54.342659</td>\n",
       "      <td>53.921966</td>\n",
       "      <td>53.388658</td>\n",
       "      <td>52.548102</td>\n",
       "      <td>58.867807</td>\n",
       "      <td>57.605563</td>\n",
       "      <td>61.167209</td>\n",
       "    </tr>\n",
       "    <tr>\n",
       "      <th>L2S222</th>\n",
       "      <td>73.585142</td>\n",
       "      <td>74.904976</td>\n",
       "      <td>78.826554</td>\n",
       "      <td>77.506106</td>\n",
       "      <td>77.089680</td>\n",
       "      <td>77.522818</td>\n",
       "      <td>73.930300</td>\n",
       "      <td>70.057567</td>\n",
       "      <td>63.508807</td>\n",
       "      <td>62.210350</td>\n",
       "      <td>...</td>\n",
       "      <td>74.002838</td>\n",
       "      <td>64.772596</td>\n",
       "      <td>64.045702</td>\n",
       "      <td>65.368785</td>\n",
       "      <td>64.611338</td>\n",
       "      <td>64.531815</td>\n",
       "      <td>63.832484</td>\n",
       "      <td>68.635429</td>\n",
       "      <td>67.331735</td>\n",
       "      <td>70.076749</td>\n",
       "    </tr>\n",
       "    <tr>\n",
       "      <th>L2S240</th>\n",
       "      <td>59.777243</td>\n",
       "      <td>59.722424</td>\n",
       "      <td>64.784498</td>\n",
       "      <td>63.917127</td>\n",
       "      <td>63.555704</td>\n",
       "      <td>63.611267</td>\n",
       "      <td>60.082468</td>\n",
       "      <td>53.451918</td>\n",
       "      <td>58.627658</td>\n",
       "      <td>56.891065</td>\n",
       "      <td>...</td>\n",
       "      <td>79.423596</td>\n",
       "      <td>29.803108</td>\n",
       "      <td>28.447735</td>\n",
       "      <td>27.643862</td>\n",
       "      <td>31.000310</td>\n",
       "      <td>27.310422</td>\n",
       "      <td>24.153049</td>\n",
       "      <td>27.702871</td>\n",
       "      <td>31.015483</td>\n",
       "      <td>35.026094</td>\n",
       "    </tr>\n",
       "    <tr>\n",
       "      <th>L2S309</th>\n",
       "      <td>56.908815</td>\n",
       "      <td>57.178006</td>\n",
       "      <td>61.616336</td>\n",
       "      <td>60.043320</td>\n",
       "      <td>59.575649</td>\n",
       "      <td>60.851159</td>\n",
       "      <td>57.015414</td>\n",
       "      <td>52.071058</td>\n",
       "      <td>51.201858</td>\n",
       "      <td>49.573121</td>\n",
       "      <td>...</td>\n",
       "      <td>69.353976</td>\n",
       "      <td>42.838201</td>\n",
       "      <td>41.694038</td>\n",
       "      <td>44.062793</td>\n",
       "      <td>43.043560</td>\n",
       "      <td>42.641716</td>\n",
       "      <td>40.821617</td>\n",
       "      <td>49.123715</td>\n",
       "      <td>47.367233</td>\n",
       "      <td>51.585256</td>\n",
       "    </tr>\n",
       "    <tr>\n",
       "      <th>L2S357</th>\n",
       "      <td>58.332543</td>\n",
       "      <td>59.639992</td>\n",
       "      <td>64.269845</td>\n",
       "      <td>62.758934</td>\n",
       "      <td>62.819155</td>\n",
       "      <td>62.201007</td>\n",
       "      <td>58.474602</td>\n",
       "      <td>52.646514</td>\n",
       "      <td>49.012433</td>\n",
       "      <td>49.518429</td>\n",
       "      <td>...</td>\n",
       "      <td>69.747054</td>\n",
       "      <td>41.688335</td>\n",
       "      <td>42.266309</td>\n",
       "      <td>44.350941</td>\n",
       "      <td>43.074497</td>\n",
       "      <td>42.983005</td>\n",
       "      <td>41.491120</td>\n",
       "      <td>48.450121</td>\n",
       "      <td>45.922446</td>\n",
       "      <td>50.291277</td>\n",
       "    </tr>\n",
       "    <tr>\n",
       "      <th>L2S382</th>\n",
       "      <td>73.729671</td>\n",
       "      <td>74.785414</td>\n",
       "      <td>78.544381</td>\n",
       "      <td>77.268332</td>\n",
       "      <td>77.249018</td>\n",
       "      <td>77.466023</td>\n",
       "      <td>74.479151</td>\n",
       "      <td>70.020973</td>\n",
       "      <td>65.668251</td>\n",
       "      <td>63.552716</td>\n",
       "      <td>...</td>\n",
       "      <td>87.701265</td>\n",
       "      <td>59.736195</td>\n",
       "      <td>59.338623</td>\n",
       "      <td>60.754559</td>\n",
       "      <td>59.061762</td>\n",
       "      <td>60.902902</td>\n",
       "      <td>59.140112</td>\n",
       "      <td>62.595527</td>\n",
       "      <td>60.754818</td>\n",
       "      <td>60.517773</td>\n",
       "    </tr>\n",
       "    <tr>\n",
       "      <th>L3S242</th>\n",
       "      <td>40.284384</td>\n",
       "      <td>44.999574</td>\n",
       "      <td>51.166037</td>\n",
       "      <td>50.295269</td>\n",
       "      <td>50.209772</td>\n",
       "      <td>46.680953</td>\n",
       "      <td>41.143340</td>\n",
       "      <td>27.833357</td>\n",
       "      <td>56.227041</td>\n",
       "      <td>56.372812</td>\n",
       "      <td>...</td>\n",
       "      <td>81.714025</td>\n",
       "      <td>36.027930</td>\n",
       "      <td>33.324977</td>\n",
       "      <td>36.715106</td>\n",
       "      <td>37.571917</td>\n",
       "      <td>37.335855</td>\n",
       "      <td>35.226762</td>\n",
       "      <td>44.842407</td>\n",
       "      <td>44.083750</td>\n",
       "      <td>48.927080</td>\n",
       "    </tr>\n",
       "    <tr>\n",
       "      <th>L3S294</th>\n",
       "      <td>56.661714</td>\n",
       "      <td>56.839743</td>\n",
       "      <td>62.112102</td>\n",
       "      <td>60.044913</td>\n",
       "      <td>59.969733</td>\n",
       "      <td>60.283451</td>\n",
       "      <td>56.356917</td>\n",
       "      <td>50.890543</td>\n",
       "      <td>42.776839</td>\n",
       "      <td>49.396702</td>\n",
       "      <td>...</td>\n",
       "      <td>75.841240</td>\n",
       "      <td>41.092266</td>\n",
       "      <td>40.562434</td>\n",
       "      <td>42.267930</td>\n",
       "      <td>41.105734</td>\n",
       "      <td>41.807418</td>\n",
       "      <td>41.054517</td>\n",
       "      <td>49.123913</td>\n",
       "      <td>47.197186</td>\n",
       "      <td>51.481189</td>\n",
       "    </tr>\n",
       "    <tr>\n",
       "      <th>L3S313</th>\n",
       "      <td>54.873567</td>\n",
       "      <td>56.234330</td>\n",
       "      <td>61.469994</td>\n",
       "      <td>59.814371</td>\n",
       "      <td>59.835141</td>\n",
       "      <td>59.402246</td>\n",
       "      <td>55.451672</td>\n",
       "      <td>49.372174</td>\n",
       "      <td>44.210974</td>\n",
       "      <td>39.705035</td>\n",
       "      <td>...</td>\n",
       "      <td>73.532489</td>\n",
       "      <td>37.886564</td>\n",
       "      <td>36.339047</td>\n",
       "      <td>38.550046</td>\n",
       "      <td>38.734938</td>\n",
       "      <td>38.571163</td>\n",
       "      <td>37.061422</td>\n",
       "      <td>45.748137</td>\n",
       "      <td>44.950112</td>\n",
       "      <td>48.706798</td>\n",
       "    </tr>\n",
       "    <tr>\n",
       "      <th>L3S341</th>\n",
       "      <td>55.151939</td>\n",
       "      <td>57.191314</td>\n",
       "      <td>62.101349</td>\n",
       "      <td>60.223173</td>\n",
       "      <td>59.901397</td>\n",
       "      <td>59.713051</td>\n",
       "      <td>55.408257</td>\n",
       "      <td>49.994355</td>\n",
       "      <td>51.238553</td>\n",
       "      <td>49.387907</td>\n",
       "      <td>...</td>\n",
       "      <td>73.133682</td>\n",
       "      <td>40.636327</td>\n",
       "      <td>40.124715</td>\n",
       "      <td>42.164177</td>\n",
       "      <td>41.122057</td>\n",
       "      <td>40.564089</td>\n",
       "      <td>39.714832</td>\n",
       "      <td>47.736530</td>\n",
       "      <td>45.426516</td>\n",
       "      <td>49.317575</td>\n",
       "    </tr>\n",
       "    <tr>\n",
       "      <th>L3S360</th>\n",
       "      <td>57.952642</td>\n",
       "      <td>57.994725</td>\n",
       "      <td>63.250965</td>\n",
       "      <td>61.179063</td>\n",
       "      <td>60.736694</td>\n",
       "      <td>62.167012</td>\n",
       "      <td>57.997815</td>\n",
       "      <td>53.251489</td>\n",
       "      <td>56.319493</td>\n",
       "      <td>56.050981</td>\n",
       "      <td>...</td>\n",
       "      <td>75.626308</td>\n",
       "      <td>45.222059</td>\n",
       "      <td>43.945825</td>\n",
       "      <td>46.003333</td>\n",
       "      <td>45.418288</td>\n",
       "      <td>45.443214</td>\n",
       "      <td>43.401584</td>\n",
       "      <td>51.053740</td>\n",
       "      <td>50.338626</td>\n",
       "      <td>54.186392</td>\n",
       "    </tr>\n",
       "    <tr>\n",
       "      <th>L3S378</th>\n",
       "      <td>46.634124</td>\n",
       "      <td>34.950973</td>\n",
       "      <td>46.207858</td>\n",
       "      <td>43.594929</td>\n",
       "      <td>42.957804</td>\n",
       "      <td>50.674896</td>\n",
       "      <td>45.195441</td>\n",
       "      <td>40.014221</td>\n",
       "      <td>59.066067</td>\n",
       "      <td>59.650289</td>\n",
       "      <td>...</td>\n",
       "      <td>83.319588</td>\n",
       "      <td>41.197051</td>\n",
       "      <td>38.025095</td>\n",
       "      <td>40.922727</td>\n",
       "      <td>40.922555</td>\n",
       "      <td>41.334206</td>\n",
       "      <td>38.673620</td>\n",
       "      <td>47.881798</td>\n",
       "      <td>47.120562</td>\n",
       "      <td>51.453184</td>\n",
       "    </tr>\n",
       "    <tr>\n",
       "      <th>L4S112</th>\n",
       "      <td>78.728200</td>\n",
       "      <td>79.843893</td>\n",
       "      <td>83.750191</td>\n",
       "      <td>82.684583</td>\n",
       "      <td>82.846123</td>\n",
       "      <td>82.226636</td>\n",
       "      <td>79.448635</td>\n",
       "      <td>74.956352</td>\n",
       "      <td>60.592493</td>\n",
       "      <td>59.198632</td>\n",
       "      <td>...</td>\n",
       "      <td>70.926973</td>\n",
       "      <td>64.304189</td>\n",
       "      <td>65.509781</td>\n",
       "      <td>66.381068</td>\n",
       "      <td>64.909956</td>\n",
       "      <td>65.203129</td>\n",
       "      <td>64.899917</td>\n",
       "      <td>68.292886</td>\n",
       "      <td>64.824406</td>\n",
       "      <td>67.356780</td>\n",
       "    </tr>\n",
       "    <tr>\n",
       "      <th>L4S137</th>\n",
       "      <td>79.549448</td>\n",
       "      <td>80.708710</td>\n",
       "      <td>84.568459</td>\n",
       "      <td>83.488952</td>\n",
       "      <td>83.612495</td>\n",
       "      <td>83.755858</td>\n",
       "      <td>81.082735</td>\n",
       "      <td>76.586699</td>\n",
       "      <td>68.098001</td>\n",
       "      <td>63.243542</td>\n",
       "      <td>...</td>\n",
       "      <td>85.900484</td>\n",
       "      <td>64.408682</td>\n",
       "      <td>64.720540</td>\n",
       "      <td>65.387452</td>\n",
       "      <td>63.395720</td>\n",
       "      <td>65.209114</td>\n",
       "      <td>63.990971</td>\n",
       "      <td>66.712326</td>\n",
       "      <td>62.880820</td>\n",
       "      <td>62.280046</td>\n",
       "    </tr>\n",
       "    <tr>\n",
       "      <th>L4S63</th>\n",
       "      <td>89.547740</td>\n",
       "      <td>90.416556</td>\n",
       "      <td>94.433156</td>\n",
       "      <td>93.380999</td>\n",
       "      <td>93.494698</td>\n",
       "      <td>93.659673</td>\n",
       "      <td>91.219470</td>\n",
       "      <td>87.364866</td>\n",
       "      <td>74.196641</td>\n",
       "      <td>74.208530</td>\n",
       "      <td>...</td>\n",
       "      <td>0.000000</td>\n",
       "      <td>78.279444</td>\n",
       "      <td>78.197497</td>\n",
       "      <td>79.226570</td>\n",
       "      <td>78.511572</td>\n",
       "      <td>78.309995</td>\n",
       "      <td>77.644463</td>\n",
       "      <td>80.724690</td>\n",
       "      <td>79.188066</td>\n",
       "      <td>81.968847</td>\n",
       "    </tr>\n",
       "    <tr>\n",
       "      <th>L5S104</th>\n",
       "      <td>54.552149</td>\n",
       "      <td>56.003679</td>\n",
       "      <td>60.286656</td>\n",
       "      <td>59.262530</td>\n",
       "      <td>58.768556</td>\n",
       "      <td>58.206829</td>\n",
       "      <td>54.199856</td>\n",
       "      <td>47.142601</td>\n",
       "      <td>54.607383</td>\n",
       "      <td>52.740392</td>\n",
       "      <td>...</td>\n",
       "      <td>78.279444</td>\n",
       "      <td>0.000000</td>\n",
       "      <td>21.974171</td>\n",
       "      <td>22.406018</td>\n",
       "      <td>21.805056</td>\n",
       "      <td>20.089251</td>\n",
       "      <td>22.992284</td>\n",
       "      <td>31.294430</td>\n",
       "      <td>31.158427</td>\n",
       "      <td>36.025676</td>\n",
       "    </tr>\n",
       "    <tr>\n",
       "      <th>L5S155</th>\n",
       "      <td>52.926555</td>\n",
       "      <td>53.537745</td>\n",
       "      <td>57.969353</td>\n",
       "      <td>56.963472</td>\n",
       "      <td>56.549391</td>\n",
       "      <td>56.606645</td>\n",
       "      <td>52.587557</td>\n",
       "      <td>45.180677</td>\n",
       "      <td>55.176531</td>\n",
       "      <td>52.513413</td>\n",
       "      <td>...</td>\n",
       "      <td>78.197497</td>\n",
       "      <td>21.974171</td>\n",
       "      <td>0.000000</td>\n",
       "      <td>19.117502</td>\n",
       "      <td>17.444378</td>\n",
       "      <td>17.825033</td>\n",
       "      <td>18.931375</td>\n",
       "      <td>29.728532</td>\n",
       "      <td>31.833965</td>\n",
       "      <td>36.856626</td>\n",
       "    </tr>\n",
       "    <tr>\n",
       "      <th>L5S174</th>\n",
       "      <td>55.141802</td>\n",
       "      <td>55.759361</td>\n",
       "      <td>59.986803</td>\n",
       "      <td>59.007058</td>\n",
       "      <td>58.535779</td>\n",
       "      <td>58.747458</td>\n",
       "      <td>54.828556</td>\n",
       "      <td>47.878171</td>\n",
       "      <td>56.785390</td>\n",
       "      <td>54.138034</td>\n",
       "      <td>...</td>\n",
       "      <td>79.226570</td>\n",
       "      <td>22.406018</td>\n",
       "      <td>19.117502</td>\n",
       "      <td>0.000000</td>\n",
       "      <td>20.997378</td>\n",
       "      <td>18.668330</td>\n",
       "      <td>22.236008</td>\n",
       "      <td>28.077636</td>\n",
       "      <td>30.349429</td>\n",
       "      <td>33.647766</td>\n",
       "    </tr>\n",
       "    <tr>\n",
       "      <th>L5S203</th>\n",
       "      <td>55.760395</td>\n",
       "      <td>55.671413</td>\n",
       "      <td>59.928604</td>\n",
       "      <td>58.949004</td>\n",
       "      <td>58.469875</td>\n",
       "      <td>59.305199</td>\n",
       "      <td>55.450644</td>\n",
       "      <td>48.478772</td>\n",
       "      <td>55.066895</td>\n",
       "      <td>51.705993</td>\n",
       "      <td>...</td>\n",
       "      <td>78.511572</td>\n",
       "      <td>21.805056</td>\n",
       "      <td>17.444378</td>\n",
       "      <td>20.997378</td>\n",
       "      <td>0.000000</td>\n",
       "      <td>16.400886</td>\n",
       "      <td>21.429563</td>\n",
       "      <td>28.105532</td>\n",
       "      <td>29.319356</td>\n",
       "      <td>34.894290</td>\n",
       "    </tr>\n",
       "    <tr>\n",
       "      <th>L5S222</th>\n",
       "      <td>55.467756</td>\n",
       "      <td>56.081726</td>\n",
       "      <td>60.457243</td>\n",
       "      <td>59.400300</td>\n",
       "      <td>58.842936</td>\n",
       "      <td>59.169595</td>\n",
       "      <td>55.156362</td>\n",
       "      <td>48.320461</td>\n",
       "      <td>56.366996</td>\n",
       "      <td>53.354733</td>\n",
       "      <td>...</td>\n",
       "      <td>78.309995</td>\n",
       "      <td>20.089251</td>\n",
       "      <td>17.825033</td>\n",
       "      <td>18.668330</td>\n",
       "      <td>16.400886</td>\n",
       "      <td>0.000000</td>\n",
       "      <td>20.205248</td>\n",
       "      <td>25.487683</td>\n",
       "      <td>27.838168</td>\n",
       "      <td>33.225677</td>\n",
       "    </tr>\n",
       "    <tr>\n",
       "      <th>L5S240</th>\n",
       "      <td>53.600612</td>\n",
       "      <td>53.977640</td>\n",
       "      <td>58.880162</td>\n",
       "      <td>57.392055</td>\n",
       "      <td>56.862781</td>\n",
       "      <td>57.879971</td>\n",
       "      <td>53.878986</td>\n",
       "      <td>46.724653</td>\n",
       "      <td>55.675101</td>\n",
       "      <td>52.998036</td>\n",
       "      <td>...</td>\n",
       "      <td>77.644463</td>\n",
       "      <td>22.992284</td>\n",
       "      <td>18.931375</td>\n",
       "      <td>22.236008</td>\n",
       "      <td>21.429563</td>\n",
       "      <td>20.205248</td>\n",
       "      <td>0.000000</td>\n",
       "      <td>24.147095</td>\n",
       "      <td>25.619043</td>\n",
       "      <td>31.832508</td>\n",
       "    </tr>\n",
       "    <tr>\n",
       "      <th>L6S20</th>\n",
       "      <td>60.315564</td>\n",
       "      <td>60.974521</td>\n",
       "      <td>64.833009</td>\n",
       "      <td>63.917520</td>\n",
       "      <td>63.501542</td>\n",
       "      <td>64.218362</td>\n",
       "      <td>60.704014</td>\n",
       "      <td>54.222330</td>\n",
       "      <td>61.066463</td>\n",
       "      <td>58.711297</td>\n",
       "      <td>...</td>\n",
       "      <td>80.724690</td>\n",
       "      <td>31.294430</td>\n",
       "      <td>29.728532</td>\n",
       "      <td>28.077636</td>\n",
       "      <td>28.105532</td>\n",
       "      <td>25.487683</td>\n",
       "      <td>24.147095</td>\n",
       "      <td>0.000000</td>\n",
       "      <td>22.076708</td>\n",
       "      <td>30.231929</td>\n",
       "    </tr>\n",
       "    <tr>\n",
       "      <th>L6S68</th>\n",
       "      <td>59.753785</td>\n",
       "      <td>60.438490</td>\n",
       "      <td>64.421187</td>\n",
       "      <td>63.452446</td>\n",
       "      <td>62.989385</td>\n",
       "      <td>63.710016</td>\n",
       "      <td>60.103128</td>\n",
       "      <td>53.610409</td>\n",
       "      <td>59.391549</td>\n",
       "      <td>56.271723</td>\n",
       "      <td>...</td>\n",
       "      <td>79.188066</td>\n",
       "      <td>31.158427</td>\n",
       "      <td>31.833965</td>\n",
       "      <td>30.349429</td>\n",
       "      <td>29.319356</td>\n",
       "      <td>27.838168</td>\n",
       "      <td>25.619043</td>\n",
       "      <td>22.076708</td>\n",
       "      <td>0.000000</td>\n",
       "      <td>25.623122</td>\n",
       "    </tr>\n",
       "    <tr>\n",
       "      <th>L6S93</th>\n",
       "      <td>62.806810</td>\n",
       "      <td>63.836860</td>\n",
       "      <td>67.502259</td>\n",
       "      <td>66.708979</td>\n",
       "      <td>66.293881</td>\n",
       "      <td>67.102688</td>\n",
       "      <td>63.736901</td>\n",
       "      <td>57.663009</td>\n",
       "      <td>62.615739</td>\n",
       "      <td>58.501812</td>\n",
       "      <td>...</td>\n",
       "      <td>81.968847</td>\n",
       "      <td>36.025676</td>\n",
       "      <td>36.856626</td>\n",
       "      <td>33.647766</td>\n",
       "      <td>34.894290</td>\n",
       "      <td>33.225677</td>\n",
       "      <td>31.832508</td>\n",
       "      <td>30.231929</td>\n",
       "      <td>25.623122</td>\n",
       "      <td>0.000000</td>\n",
       "    </tr>\n",
       "  </tbody>\n",
       "</table>\n",
       "<p>34 rows × 34 columns</p>\n",
       "</div>"
      ],
      "text/plain": [
       "            L1S105     L1S140     L1S208     L1S257     L1S281      L1S57  \\\n",
       "samples                                                                     \n",
       "L1S105    0.000000  50.660476  53.009714  53.688080  53.458794  39.266192   \n",
       "L1S140   50.660476   0.000000  48.609390  46.530973  45.727517  55.013435   \n",
       "L1S208   53.009714  48.609390   0.000000  34.792111  35.981231  54.630893   \n",
       "L1S257   53.688080  46.530973  34.792111   0.000000  29.785402  55.720405   \n",
       "L1S281   53.458794  45.727517  35.981231  29.785402   0.000000  53.204023   \n",
       "L1S57    39.266192  55.013435  54.630893  55.720405  53.204023   0.000000   \n",
       "L1S76    34.249881  50.059470  50.566306  50.079869  47.877624  30.930870   \n",
       "L1S8     40.786794  45.652815  54.161753  54.086832  54.981851  46.487716   \n",
       "L2S155   68.202433  69.188427  73.835605  72.480833  72.469797  71.582245   \n",
       "L2S175   68.152313  69.567043  73.744846  72.447081  72.510591  72.055573   \n",
       "L2S204   64.079239  65.563394  70.153820  68.408452  68.345537  67.842968   \n",
       "L2S222   73.585142  74.904976  78.826554  77.506106  77.089680  77.522818   \n",
       "L2S240   59.777243  59.722424  64.784498  63.917127  63.555704  63.611267   \n",
       "L2S309   56.908815  57.178006  61.616336  60.043320  59.575649  60.851159   \n",
       "L2S357   58.332543  59.639992  64.269845  62.758934  62.819155  62.201007   \n",
       "L2S382   73.729671  74.785414  78.544381  77.268332  77.249018  77.466023   \n",
       "L3S242   40.284384  44.999574  51.166037  50.295269  50.209772  46.680953   \n",
       "L3S294   56.661714  56.839743  62.112102  60.044913  59.969733  60.283451   \n",
       "L3S313   54.873567  56.234330  61.469994  59.814371  59.835141  59.402246   \n",
       "L3S341   55.151939  57.191314  62.101349  60.223173  59.901397  59.713051   \n",
       "L3S360   57.952642  57.994725  63.250965  61.179063  60.736694  62.167012   \n",
       "L3S378   46.634124  34.950973  46.207858  43.594929  42.957804  50.674896   \n",
       "L4S112   78.728200  79.843893  83.750191  82.684583  82.846123  82.226636   \n",
       "L4S137   79.549448  80.708710  84.568459  83.488952  83.612495  83.755858   \n",
       "L4S63    89.547740  90.416556  94.433156  93.380999  93.494698  93.659673   \n",
       "L5S104   54.552149  56.003679  60.286656  59.262530  58.768556  58.206829   \n",
       "L5S155   52.926555  53.537745  57.969353  56.963472  56.549391  56.606645   \n",
       "L5S174   55.141802  55.759361  59.986803  59.007058  58.535779  58.747458   \n",
       "L5S203   55.760395  55.671413  59.928604  58.949004  58.469875  59.305199   \n",
       "L5S222   55.467756  56.081726  60.457243  59.400300  58.842936  59.169595   \n",
       "L5S240   53.600612  53.977640  58.880162  57.392055  56.862781  57.879971   \n",
       "L6S20    60.315564  60.974521  64.833009  63.917520  63.501542  64.218362   \n",
       "L6S68    59.753785  60.438490  64.421187  63.452446  62.989385  63.710016   \n",
       "L6S93    62.806810  63.836860  67.502259  66.708979  66.293881  67.102688   \n",
       "\n",
       "             L1S76       L1S8     L2S155     L2S175  ...      L4S63  \\\n",
       "samples                                              ...              \n",
       "L1S105   34.249881  40.786794  68.202433  68.152313  ...  89.547740   \n",
       "L1S140   50.059470  45.652815  69.188427  69.567043  ...  90.416556   \n",
       "L1S208   50.566306  54.161753  73.835605  73.744846  ...  94.433156   \n",
       "L1S257   50.079869  54.086832  72.480833  72.447081  ...  93.380999   \n",
       "L1S281   47.877624  54.981851  72.469797  72.510591  ...  93.494698   \n",
       "L1S57    30.930870  46.487716  71.582245  72.055573  ...  93.659673   \n",
       "L1S76     0.000000  42.015113  68.701584  68.860753  ...  91.219470   \n",
       "L1S8     42.015113   0.000000  63.958098  63.708223  ...  87.364866   \n",
       "L2S155   68.701584  63.958098   0.000000  48.545925  ...  74.196641   \n",
       "L2S175   68.860753  63.708223  48.545925   0.000000  ...  74.208530   \n",
       "L2S204   64.325997  59.620729  57.029810  54.545582  ...  72.392318   \n",
       "L2S222   73.930300  70.057567  63.508807  62.210350  ...  74.002838   \n",
       "L2S240   60.082468  53.451918  58.627658  56.891065  ...  79.423596   \n",
       "L2S309   57.015414  52.071058  51.201858  49.573121  ...  69.353976   \n",
       "L2S357   58.474602  52.646514  49.012433  49.518429  ...  69.747054   \n",
       "L2S382   74.479151  70.020973  65.668251  63.552716  ...  87.701265   \n",
       "L3S242   41.143340  27.833357  56.227041  56.372812  ...  81.714025   \n",
       "L3S294   56.356917  50.890543  42.776839  49.396702  ...  75.841240   \n",
       "L3S313   55.451672  49.372174  44.210974  39.705035  ...  73.532489   \n",
       "L3S341   55.408257  49.994355  51.238553  49.387907  ...  73.133682   \n",
       "L3S360   57.997815  53.251489  56.319493  56.050981  ...  75.626308   \n",
       "L3S378   45.195441  40.014221  59.066067  59.650289  ...  83.319588   \n",
       "L4S112   79.448635  74.956352  60.592493  59.198632  ...  70.926973   \n",
       "L4S137   81.082735  76.586699  68.098001  63.243542  ...  85.900484   \n",
       "L4S63    91.219470  87.364866  74.196641  74.208530  ...   0.000000   \n",
       "L5S104   54.199856  47.142601  54.607383  52.740392  ...  78.279444   \n",
       "L5S155   52.587557  45.180677  55.176531  52.513413  ...  78.197497   \n",
       "L5S174   54.828556  47.878171  56.785390  54.138034  ...  79.226570   \n",
       "L5S203   55.450644  48.478772  55.066895  51.705993  ...  78.511572   \n",
       "L5S222   55.156362  48.320461  56.366996  53.354733  ...  78.309995   \n",
       "L5S240   53.878986  46.724653  55.675101  52.998036  ...  77.644463   \n",
       "L6S20    60.704014  54.222330  61.066463  58.711297  ...  80.724690   \n",
       "L6S68    60.103128  53.610409  59.391549  56.271723  ...  79.188066   \n",
       "L6S93    63.736901  57.663009  62.615739  58.501812  ...  81.968847   \n",
       "\n",
       "            L5S104     L5S155     L5S174     L5S203     L5S222     L5S240  \\\n",
       "samples                                                                     \n",
       "L1S105   54.552149  52.926555  55.141802  55.760395  55.467756  53.600612   \n",
       "L1S140   56.003679  53.537745  55.759361  55.671413  56.081726  53.977640   \n",
       "L1S208   60.286656  57.969353  59.986803  59.928604  60.457243  58.880162   \n",
       "L1S257   59.262530  56.963472  59.007058  58.949004  59.400300  57.392055   \n",
       "L1S281   58.768556  56.549391  58.535779  58.469875  58.842936  56.862781   \n",
       "L1S57    58.206829  56.606645  58.747458  59.305199  59.169595  57.879971   \n",
       "L1S76    54.199856  52.587557  54.828556  55.450644  55.156362  53.878986   \n",
       "L1S8     47.142601  45.180677  47.878171  48.478772  48.320461  46.724653   \n",
       "L2S155   54.607383  55.176531  56.785390  55.066895  56.366996  55.675101   \n",
       "L2S175   52.740392  52.513413  54.138034  51.705993  53.354733  52.998036   \n",
       "L2S204   53.053153  52.766352  54.342659  53.921966  53.388658  52.548102   \n",
       "L2S222   64.772596  64.045702  65.368785  64.611338  64.531815  63.832484   \n",
       "L2S240   29.803108  28.447735  27.643862  31.000310  27.310422  24.153049   \n",
       "L2S309   42.838201  41.694038  44.062793  43.043560  42.641716  40.821617   \n",
       "L2S357   41.688335  42.266309  44.350941  43.074497  42.983005  41.491120   \n",
       "L2S382   59.736195  59.338623  60.754559  59.061762  60.902902  59.140112   \n",
       "L3S242   36.027930  33.324977  36.715106  37.571917  37.335855  35.226762   \n",
       "L3S294   41.092266  40.562434  42.267930  41.105734  41.807418  41.054517   \n",
       "L3S313   37.886564  36.339047  38.550046  38.734938  38.571163  37.061422   \n",
       "L3S341   40.636327  40.124715  42.164177  41.122057  40.564089  39.714832   \n",
       "L3S360   45.222059  43.945825  46.003333  45.418288  45.443214  43.401584   \n",
       "L3S378   41.197051  38.025095  40.922727  40.922555  41.334206  38.673620   \n",
       "L4S112   64.304189  65.509781  66.381068  64.909956  65.203129  64.899917   \n",
       "L4S137   64.408682  64.720540  65.387452  63.395720  65.209114  63.990971   \n",
       "L4S63    78.279444  78.197497  79.226570  78.511572  78.309995  77.644463   \n",
       "L5S104    0.000000  21.974171  22.406018  21.805056  20.089251  22.992284   \n",
       "L5S155   21.974171   0.000000  19.117502  17.444378  17.825033  18.931375   \n",
       "L5S174   22.406018  19.117502   0.000000  20.997378  18.668330  22.236008   \n",
       "L5S203   21.805056  17.444378  20.997378   0.000000  16.400886  21.429563   \n",
       "L5S222   20.089251  17.825033  18.668330  16.400886   0.000000  20.205248   \n",
       "L5S240   22.992284  18.931375  22.236008  21.429563  20.205248   0.000000   \n",
       "L6S20    31.294430  29.728532  28.077636  28.105532  25.487683  24.147095   \n",
       "L6S68    31.158427  31.833965  30.349429  29.319356  27.838168  25.619043   \n",
       "L6S93    36.025676  36.856626  33.647766  34.894290  33.225677  31.832508   \n",
       "\n",
       "             L6S20      L6S68      L6S93  \n",
       "samples                                   \n",
       "L1S105   60.315564  59.753785  62.806810  \n",
       "L1S140   60.974521  60.438490  63.836860  \n",
       "L1S208   64.833009  64.421187  67.502259  \n",
       "L1S257   63.917520  63.452446  66.708979  \n",
       "L1S281   63.501542  62.989385  66.293881  \n",
       "L1S57    64.218362  63.710016  67.102688  \n",
       "L1S76    60.704014  60.103128  63.736901  \n",
       "L1S8     54.222330  53.610409  57.663009  \n",
       "L2S155   61.066463  59.391549  62.615739  \n",
       "L2S175   58.711297  56.271723  58.501812  \n",
       "L2S204   58.867807  57.605563  61.167209  \n",
       "L2S222   68.635429  67.331735  70.076749  \n",
       "L2S240   27.702871  31.015483  35.026094  \n",
       "L2S309   49.123715  47.367233  51.585256  \n",
       "L2S357   48.450121  45.922446  50.291277  \n",
       "L2S382   62.595527  60.754818  60.517773  \n",
       "L3S242   44.842407  44.083750  48.927080  \n",
       "L3S294   49.123913  47.197186  51.481189  \n",
       "L3S313   45.748137  44.950112  48.706798  \n",
       "L3S341   47.736530  45.426516  49.317575  \n",
       "L3S360   51.053740  50.338626  54.186392  \n",
       "L3S378   47.881798  47.120562  51.453184  \n",
       "L4S112   68.292886  64.824406  67.356780  \n",
       "L4S137   66.712326  62.880820  62.280046  \n",
       "L4S63    80.724690  79.188066  81.968847  \n",
       "L5S104   31.294430  31.158427  36.025676  \n",
       "L5S155   29.728532  31.833965  36.856626  \n",
       "L5S174   28.077636  30.349429  33.647766  \n",
       "L5S203   28.105532  29.319356  34.894290  \n",
       "L5S222   25.487683  27.838168  33.225677  \n",
       "L5S240   24.147095  25.619043  31.832508  \n",
       "L6S20     0.000000  22.076708  30.231929  \n",
       "L6S68    22.076708   0.000000  25.623122  \n",
       "L6S93    30.231929  25.623122   0.000000  \n",
       "\n",
       "[34 rows x 34 columns]"
      ]
     },
     "execution_count": 168,
     "metadata": {},
     "output_type": "execute_result"
    }
   ],
   "source": [
    "distance_matrix"
   ]
  },
  {
   "cell_type": "code",
   "execution_count": 151,
   "metadata": {},
   "outputs": [
    {
     "data": {
      "application/vnd.plotly.v1+json": {
       "config": {
        "plotlyServerURL": "https://plot.ly"
       },
       "data": [
        {
         "coloraxis": "coloraxis",
         "hovertemplate": "x: %{x}<br>samples: %{y}<br>color: %{z}<extra></extra>",
         "name": "0",
         "type": "heatmap",
         "x": [
          "L1S105",
          "L1S140",
          "L1S208",
          "L1S257",
          "L1S281",
          "L1S57",
          "L1S76",
          "L1S8",
          "L2S155",
          "L2S175",
          "L2S204",
          "L2S222",
          "L2S240",
          "L2S309",
          "L2S357",
          "L2S382",
          "L3S242",
          "L3S294",
          "L3S313",
          "L3S341",
          "L3S360",
          "L3S378",
          "L4S112",
          "L4S137",
          "L4S63",
          "L5S104",
          "L5S155",
          "L5S174",
          "L5S203",
          "L5S222",
          "L5S240",
          "L6S20",
          "L6S68",
          "L6S93"
         ],
         "xaxis": "x",
         "y": [
          "L1S105",
          "L1S140",
          "L1S208",
          "L1S257",
          "L1S281",
          "L1S57",
          "L1S76",
          "L1S8",
          "L2S155",
          "L2S175",
          "L2S204",
          "L2S222",
          "L2S240",
          "L2S309",
          "L2S357",
          "L2S382",
          "L3S242",
          "L3S294",
          "L3S313",
          "L3S341",
          "L3S360",
          "L3S378",
          "L4S112",
          "L4S137",
          "L4S63",
          "L5S104",
          "L5S155",
          "L5S174",
          "L5S203",
          "L5S222",
          "L5S240",
          "L6S20",
          "L6S68",
          "L6S93"
         ],
         "yaxis": "y",
         "z": [
          [
           0,
           50.66047615917242,
           53.00971392149783,
           53.688079561165466,
           53.45879402084539,
           39.26619171290079,
           34.249880721914934,
           40.786793743699455,
           68.20243255162173,
           68.15231263221375,
           64.07923909704328,
           73.58514180931532,
           59.77724252007217,
           56.9088151039547,
           58.332542716284266,
           73.72967140154272,
           40.284384091815085,
           56.661713714061094,
           54.873567056372195,
           55.1519385717719,
           57.95264203147496,
           46.63412429394482,
           78.72819979310081,
           79.54944757224635,
           89.54773972484615,
           54.55214923864612,
           52.92655531007002,
           55.141801657510605,
           55.76039463524064,
           55.46775588381651,
           53.600612376757944,
           60.315564493756895,
           59.753784942268396,
           62.8068099560077
          ],
          [
           50.66047615917242,
           0,
           48.609390496625025,
           46.5309732209347,
           45.72751656446959,
           55.013434524580184,
           50.05947021590738,
           45.652814543793,
           69.188427471429,
           69.56704268880237,
           65.56339354885188,
           74.90497608687996,
           59.7224235946099,
           57.17800644686014,
           59.63999228246985,
           74.78541447049685,
           44.999574243662515,
           56.83974327298075,
           56.23432972481989,
           57.19131364535273,
           57.994724579980605,
           34.95097284023434,
           79.84389253526302,
           80.70870957597405,
           90.41655579678356,
           56.003679419825275,
           53.537744627030314,
           55.75936104182351,
           55.6714133069339,
           56.08172604817764,
           53.97764040681854,
           60.974521021717756,
           60.438490317642405,
           63.83685972182516
          ],
          [
           53.00971392149783,
           48.609390496625025,
           0,
           34.792110672752955,
           35.98123103212861,
           54.630892946716784,
           50.56630562977383,
           54.161752746813065,
           73.83560459387017,
           73.7448458204617,
           70.15382020029517,
           78.82655361783998,
           64.78449757602642,
           61.6163363564607,
           64.26984549979512,
           78.54438053921015,
           51.16603723585246,
           62.11210214810951,
           61.46999418872902,
           62.101349452335725,
           63.25096460118355,
           46.207858474605736,
           83.75019122431871,
           84.56845927727491,
           94.4331557195958,
           60.28665642365467,
           57.96935302179034,
           59.98680327875444,
           59.92860396753187,
           60.457243265592794,
           58.88016170510985,
           64.8330094922536,
           64.42118737013952,
           67.50225864896835
          ],
          [
           53.688079561165466,
           46.5309732209347,
           34.792110672752955,
           0,
           29.785401763300285,
           55.72040515860214,
           50.07986860240577,
           54.08683241872036,
           72.48083251188405,
           72.44708081536542,
           68.40845207197131,
           77.50610641311364,
           63.9171271397061,
           60.04331963326973,
           62.75893435682061,
           77.26833241564692,
           50.2952685700591,
           60.044912716218356,
           59.814371024882455,
           60.22317342409178,
           61.17906344916648,
           43.594929096152114,
           82.68458298829785,
           83.48895219060438,
           93.38099872670843,
           59.26253048163292,
           56.96347154802924,
           59.007057641054566,
           58.94900382603579,
           59.40030006409796,
           57.39205492291918,
           63.91752033470063,
           63.45244564039486,
           66.70897928041019
          ],
          [
           53.45879402084539,
           45.72751656446959,
           35.98123103212861,
           29.785401763300285,
           0,
           53.20402255316826,
           47.8776243595763,
           54.98185128286483,
           72.46979682566872,
           72.51059052195278,
           68.34553673712142,
           77.08968024647695,
           63.55570405951463,
           59.57564930405149,
           62.81915527004217,
           77.24901820357108,
           50.20977215695584,
           59.96973337002885,
           59.835141168076156,
           59.901397497746714,
           60.7366940421375,
           42.95780393777717,
           82.84612288873431,
           83.6124951802571,
           93.49469755643715,
           58.76855599945015,
           56.54939144472615,
           58.53577888346897,
           58.469875490230486,
           58.842935533883704,
           56.8627811816977,
           63.501542094779154,
           62.98938518330914,
           66.29388068753339
          ],
          [
           39.26619171290079,
           55.013434524580184,
           54.630892946716784,
           55.72040515860214,
           53.20402255316826,
           0,
           30.930870450085035,
           46.487716066843106,
           71.58224498966916,
           72.05557269715648,
           67.84296838939792,
           77.52281810254435,
           63.611266846185025,
           60.85115882784966,
           62.201007206934726,
           77.46602288964822,
           46.68095320946507,
           60.28345103962752,
           59.40224646199025,
           59.71305092814461,
           62.16701240062139,
           50.674896497798805,
           82.22663557470409,
           83.75585785892655,
           93.65967281739962,
           58.206829042653816,
           56.60664481299036,
           58.74745762436361,
           59.30519881510618,
           59.16959486545303,
           57.8799712005886,
           64.21836181021774,
           63.710016040375464,
           67.10268759809958
          ],
          [
           34.249880721914934,
           50.05947021590738,
           50.56630562977383,
           50.07986860240577,
           47.8776243595763,
           30.930870450085035,
           0,
           42.015113247922656,
           68.70158411959879,
           68.8607526656413,
           64.32599653690171,
           73.93029999224419,
           60.08246806294477,
           57.01541353928215,
           58.47460224188035,
           74.4791512172391,
           41.143340120325654,
           56.356916816812,
           55.45167158586274,
           55.40825664392109,
           57.99781477556373,
           45.195441354546425,
           79.44863483149639,
           81.08273487709931,
           91.21946954348272,
           54.199856456325264,
           52.58755666614591,
           54.82855608274841,
           55.450643656865,
           55.15636150861938,
           53.87898570775861,
           60.70401441034357,
           60.10312819450019,
           63.73690059419429
          ],
          [
           40.786793743699455,
           45.652814543793,
           54.161752746813065,
           54.08683241872036,
           54.98185128286483,
           46.487716066843106,
           42.015113247922656,
           0,
           63.95809773314675,
           63.70822339623406,
           59.620729065403054,
           70.05756705640114,
           53.45191781274437,
           52.071058348586185,
           52.64651440151756,
           70.02097319976936,
           27.833356977186913,
           50.890542930529826,
           49.372173928785074,
           49.994354889638274,
           53.25148917969835,
           40.014221242761245,
           74.95635169564204,
           76.58669938693517,
           87.36486582295477,
           47.14260142607136,
           45.18067690508713,
           47.87817101215544,
           48.478772002747945,
           48.320460639856684,
           46.72465277025857,
           54.22232986507175,
           53.61040938675824,
           57.66300895076869
          ],
          [
           68.20243255162173,
           69.188427471429,
           73.83560459387017,
           72.48083251188405,
           72.46979682566872,
           71.58224498966916,
           68.70158411959879,
           63.95809773314675,
           0,
           48.54592488497835,
           57.029809546856335,
           63.50880676261906,
           58.62765844956599,
           51.201858153874795,
           49.01243310658888,
           65.66825093937494,
           56.22704112413723,
           42.77683864466037,
           44.210974124582236,
           51.23855329013993,
           56.3194932995704,
           59.06606662433989,
           60.592493261643156,
           68.09800113915368,
           74.19664068243054,
           54.60738283159934,
           55.17653090918421,
           56.78539010981675,
           55.066895000636244,
           56.36699574626242,
           55.67510106914187,
           61.06646333115615,
           59.39154937384242,
           62.6157390957438
          ],
          [
           68.15231263221375,
           69.56704268880237,
           73.7448458204617,
           72.44708081536542,
           72.51059052195278,
           72.05557269715648,
           68.8607526656413,
           63.70822339623406,
           48.54592488497835,
           0,
           54.54558177157058,
           62.21034996595811,
           56.891065121402725,
           49.573120792227904,
           49.51842940725539,
           63.55271592817471,
           56.37281159187805,
           49.396701713688735,
           39.70503520597604,
           49.387907061646416,
           56.05098056238127,
           59.65028940704813,
           59.19863211016373,
           63.24354159643425,
           74.20853034439442,
           52.74039169357534,
           52.513412680157835,
           54.13803403500982,
           51.705992877050925,
           53.35473306247506,
           52.99803580387681,
           58.71129680267911,
           56.2717229547337,
           58.501812372230965
          ],
          [
           64.07923909704328,
           65.56339354885188,
           70.15382020029517,
           68.40845207197131,
           68.34553673712142,
           67.84296838939792,
           64.32599653690171,
           59.620729065403054,
           57.029809546856335,
           54.54558177157058,
           0,
           56.51650751441235,
           57.61370922680835,
           44.68332734662651,
           45.11183633857505,
           69.53566845050872,
           51.54537271919096,
           47.52825414660591,
           45.64829089500611,
           39.82153398307015,
           47.82996564085267,
           54.8187895618017,
           62.56156109096646,
           73.46310270736355,
           72.39231753551788,
           53.053152858690154,
           52.76635192625816,
           54.34265917428339,
           53.921965766859394,
           53.38865773695062,
           52.54810228172462,
           58.86780673550752,
           57.60556303776789,
           61.16720902465252
          ],
          [
           73.58514180931532,
           74.90497608687996,
           78.82655361783998,
           77.50610641311364,
           77.08968024647695,
           77.52281810254435,
           73.93029999224419,
           70.05756705640114,
           63.50880676261906,
           62.21034996595811,
           56.51650751441235,
           0,
           68.24991353414445,
           58.18879046466742,
           59.589558629662264,
           76.41574294779252,
           63.6895969337231,
           59.97920128875627,
           57.23924096519129,
           58.50398848914727,
           49.92105588902604,
           65.8177476612557,
           69.0445371043934,
           79.58188221805864,
           74.00283795424963,
           64.77259616443614,
           64.04570235804685,
           65.36878480398887,
           64.61133816895976,
           64.53181467253984,
           63.832483692538496,
           68.6354289672701,
           67.33173496987261,
           70.07674930346916
          ],
          [
           59.77724252007217,
           59.7224235946099,
           64.78449757602642,
           63.9171271397061,
           63.55570405951463,
           63.611266846185025,
           60.08246806294477,
           53.45191781274437,
           58.62765844956599,
           56.891065121402725,
           57.61370922680835,
           68.24991353414445,
           0,
           46.34060749631343,
           47.19179193631131,
           62.811635010227555,
           44.06752545889306,
           46.68615136209984,
           43.43230917137144,
           46.60799784687244,
           51.24868178766535,
           47.135285827007756,
           66.35515220385895,
           65.20283284635101,
           79.42359604553307,
           29.80310831441725,
           28.44773548010558,
           27.643861960574306,
           31.000309546453142,
           27.31042235947892,
           24.153048538184443,
           27.702871183868144,
           31.01548318728893,
           35.02609365246422
          ],
          [
           56.9088151039547,
           57.17800644686014,
           61.6163363564607,
           60.04331963326973,
           59.57564930405149,
           60.85115882784966,
           57.01541353928215,
           52.071058348586185,
           51.201858153874795,
           49.573120792227904,
           44.68332734662651,
           58.18879046466742,
           46.34060749631343,
           0,
           35.4414815243601,
           60.781534387855196,
           41.96679337567334,
           39.778424592696076,
           38.06005668795643,
           37.097296164156894,
           42.31790566987053,
           44.0276004950116,
           59.36968125529712,
           65.31509008128629,
           69.3539761540468,
           42.83820105155192,
           41.69403831895693,
           44.062793497439664,
           43.043559637458074,
           42.641715868385624,
           40.82161744562863,
           49.1237147649352,
           47.36723260556662,
           51.58525612988278
          ],
          [
           58.332542716284266,
           59.63999228246985,
           64.26984549979512,
           62.75893435682061,
           62.81915527004217,
           62.201007206934726,
           58.47460224188035,
           52.64651440151756,
           49.01243310658888,
           49.51842940725539,
           45.11183633857505,
           59.589558629662264,
           47.19179193631131,
           35.4414815243601,
           0,
           60.04708260675813,
           43.34921368015688,
           38.581136010347215,
           36.903612947483275,
           35.581438309339454,
           44.898408807504715,
           47.594740520974234,
           52.22974606436474,
           62.18592174716277,
           69.74705388459364,
           41.68833458333959,
           42.26630931886903,
           44.35094116162606,
           43.07449659449433,
           42.98300493456147,
           41.4911195253627,
           48.45012108524249,
           45.92244551623844,
           50.29127685211625
          ],
          [
           73.72967140154272,
           74.78541447049685,
           78.54438053921015,
           77.26833241564692,
           77.24901820357108,
           77.46602288964822,
           74.4791512172391,
           70.02097319976936,
           65.66825093937494,
           63.55271592817471,
           69.53566845050872,
           76.41574294779252,
           62.811635010227555,
           60.781534387855196,
           60.04708260675813,
           0,
           62.50329149880627,
           59.41997393407355,
           57.80800014677978,
           61.6922395378488,
           64.40404623315341,
           64.8478009733215,
           73.24065368994366,
           48.36620466402068,
           87.70126531599506,
           59.7361953578118,
           59.338622716097575,
           60.75455894808465,
           59.061761951081415,
           60.902901563889415,
           59.14011184555416,
           62.59552675470485,
           60.75481798942013,
           60.51777297825476
          ],
          [
           40.284384091815085,
           44.999574243662515,
           51.16603723585246,
           50.2952685700591,
           50.20977215695584,
           46.68095320946507,
           41.143340120325654,
           27.833356977186913,
           56.22704112413723,
           56.37281159187805,
           51.54537271919096,
           63.6895969337231,
           44.06752545889306,
           41.96679337567334,
           43.34921368015688,
           62.50329149880627,
           0,
           39.892778684547956,
           38.97023708973874,
           38.12109185784964,
           43.21424584392164,
           29.521077626449866,
           69.11717365311232,
           70.2168871280118,
           81.71402510208645,
           36.02793037672467,
           33.32497678155615,
           36.71510567247014,
           37.5719171697105,
           37.33585509639741,
           35.226762471678924,
           44.842406969940114,
           44.083750471083356,
           48.927080370633874
          ],
          [
           56.661713714061094,
           56.83974327298075,
           62.11210214810951,
           60.044912716218356,
           59.96973337002885,
           60.28345103962752,
           56.356916816812,
           50.890542930529826,
           42.77683864466037,
           49.396701713688735,
           47.52825414660591,
           59.97920128875627,
           46.68615136209984,
           39.778424592696076,
           38.581136010347215,
           59.41997393407355,
           39.892778684547956,
           0,
           33.969834505538074,
           39.21389976553591,
           44.34663107059871,
           43.01561998934274,
           62.313374736316725,
           65.6456698619252,
           75.8412397830296,
           41.09226583317067,
           40.562433592530105,
           42.26793014391398,
           41.105733778782856,
           41.807417714307974,
           41.05451717069408,
           49.12391277676558,
           47.19718577320584,
           51.48118943530225
          ],
          [
           54.873567056372195,
           56.23432972481989,
           61.46999418872902,
           59.814371024882455,
           59.835141168076156,
           59.40224646199025,
           55.45167158586274,
           49.372173928785074,
           44.210974124582236,
           39.70503520597604,
           45.64829089500611,
           57.23924096519129,
           43.43230917137144,
           38.06005668795643,
           36.903612947483275,
           57.80800014677978,
           38.97023708973874,
           33.969834505538074,
           0,
           37.0877877787333,
           43.113949619385316,
           43.46465344963334,
           59.117251028692756,
           61.62632898115295,
           73.53248887895178,
           37.886564440454016,
           36.33904735996988,
           38.550046147387484,
           38.73493779433041,
           38.57116286982386,
           37.061422441778596,
           45.74813699835991,
           44.950112421304894,
           48.70679766794862
          ],
          [
           55.1519385717719,
           57.19131364535273,
           62.101349452335725,
           60.22317342409178,
           59.901397497746714,
           59.71305092814461,
           55.40825664392109,
           49.994354889638274,
           51.23855329013993,
           49.387907061646416,
           39.82153398307015,
           58.50398848914727,
           46.60799784687244,
           37.097296164156894,
           35.581438309339454,
           61.6922395378488,
           38.12109185784964,
           39.21389976553591,
           37.0877877787333,
           0,
           40.50199004569565,
           42.013167797711105,
           59.065124864889086,
           65.59969197968148,
           73.1336818640608,
           40.63632729288639,
           40.12471543799058,
           42.16417682761494,
           41.12205690894717,
           40.5640886663162,
           39.71483203302371,
           47.736530285570836,
           45.426516444283685,
           49.31757529345926
          ],
          [
           57.95264203147496,
           57.994724579980605,
           63.25096460118355,
           61.17906344916648,
           60.7366940421375,
           62.16701240062139,
           57.99781477556373,
           53.25148917969835,
           56.3194932995704,
           56.05098056238127,
           47.82996564085267,
           49.92105588902604,
           51.24868178766535,
           42.31790566987053,
           44.898408807504715,
           64.40404623315341,
           43.21424584392164,
           44.34663107059871,
           43.113949619385316,
           40.50199004569565,
           0,
           44.88644614257106,
           64.98372706822754,
           70.2449239866758,
           75.62630809598096,
           45.222058691504486,
           43.94582488674816,
           46.003333068931816,
           45.418287856015496,
           45.443214423218436,
           43.40158399158652,
           51.053740436451676,
           50.33862625406417,
           54.18639160645326
          ],
          [
           46.63412429394482,
           34.95097284023434,
           46.207858474605736,
           43.594929096152114,
           42.95780393777717,
           50.674896497798805,
           45.195441354546425,
           40.014221242761245,
           59.06606662433989,
           59.65028940704813,
           54.8187895618017,
           65.8177476612557,
           47.135285827007756,
           44.0276004950116,
           47.594740520974234,
           64.8478009733215,
           29.521077626449866,
           43.01561998934274,
           43.46465344963334,
           42.013167797711105,
           44.88644614257106,
           0,
           72.0730559322812,
           72.33433356598489,
           83.31958831108884,
           41.1970506389715,
           38.02509523607291,
           40.922726642811,
           40.922555019637855,
           41.33420646902315,
           38.673620280624434,
           47.88179772555503,
           47.12056185345924,
           51.4531837697366
          ],
          [
           78.72819979310081,
           79.84389253526302,
           83.75019122431871,
           82.68458298829785,
           82.84612288873431,
           82.22663557470409,
           79.44863483149639,
           74.95635169564204,
           60.592493261643156,
           59.19863211016373,
           62.56156109096646,
           69.0445371043934,
           66.35515220385895,
           59.36968125529712,
           52.22974606436474,
           73.24065368994366,
           69.11717365311232,
           62.313374736316725,
           59.117251028692756,
           59.065124864889086,
           64.98372706822754,
           72.0730559322812,
           0,
           69.3584566511127,
           70.92697341285108,
           64.30418922133339,
           65.50978120099751,
           66.38106779128648,
           64.90995560370587,
           65.20312915500683,
           64.89991689665078,
           68.29288647522895,
           64.82440601949615,
           67.3567804866916
          ],
          [
           79.54944757224635,
           80.70870957597405,
           84.56845927727491,
           83.48895219060438,
           83.6124951802571,
           83.75585785892655,
           81.08273487709931,
           76.58669938693517,
           68.09800113915368,
           63.24354159643425,
           73.46310270736355,
           79.58188221805864,
           65.20283284635101,
           65.31509008128629,
           62.18592174716277,
           48.36620466402068,
           70.2168871280118,
           65.6456698619252,
           61.62632898115295,
           65.59969197968148,
           70.2449239866758,
           72.33433356598489,
           69.3584566511127,
           0,
           85.90048413841237,
           64.40868233865558,
           64.7205396820554,
           65.38745152644593,
           63.39571978679023,
           65.20911400904694,
           63.990970576496956,
           66.71232617181545,
           62.88081967133285,
           62.280045710862545
          ],
          [
           89.54773972484615,
           90.41655579678356,
           94.4331557195958,
           93.38099872670843,
           93.49469755643715,
           93.65967281739962,
           91.21946954348272,
           87.36486582295477,
           74.19664068243054,
           74.20853034439442,
           72.39231753551788,
           74.00283795424963,
           79.42359604553307,
           69.3539761540468,
           69.74705388459364,
           87.70126531599506,
           81.71402510208645,
           75.8412397830296,
           73.53248887895178,
           73.1336818640608,
           75.62630809598096,
           83.31958831108884,
           70.92697341285108,
           85.90048413841237,
           0,
           78.27944401312851,
           78.19749666197151,
           79.22657023810049,
           78.51157225234662,
           78.3099945655852,
           77.644462981199,
           80.724689698953,
           79.18806596074236,
           81.96884675660505
          ],
          [
           54.55214923864612,
           56.003679419825275,
           60.28665642365467,
           59.26253048163292,
           58.76855599945015,
           58.206829042653816,
           54.199856456325264,
           47.14260142607136,
           54.60738283159934,
           52.74039169357534,
           53.053152858690154,
           64.77259616443614,
           29.80310831441725,
           42.83820105155192,
           41.68833458333959,
           59.7361953578118,
           36.02793037672467,
           41.09226583317067,
           37.886564440454016,
           40.63632729288639,
           45.222058691504486,
           41.1970506389715,
           64.30418922133339,
           64.40868233865558,
           78.27944401312851,
           0,
           21.974171382616444,
           22.406018082144183,
           21.805056146059396,
           20.089250708518612,
           22.992284157160068,
           31.294429908567352,
           31.1584268170896,
           36.025675586064395
          ],
          [
           52.92655531007002,
           53.537744627030314,
           57.96935302179034,
           56.96347154802924,
           56.54939144472615,
           56.60664481299036,
           52.58755666614591,
           45.18067690508713,
           55.17653090918421,
           52.513412680157835,
           52.76635192625816,
           64.04570235804685,
           28.44773548010558,
           41.69403831895693,
           42.26630931886903,
           59.338622716097575,
           33.32497678155615,
           40.562433592530105,
           36.33904735996988,
           40.12471543799058,
           43.94582488674816,
           38.02509523607291,
           65.50978120099751,
           64.7205396820554,
           78.19749666197151,
           21.974171382616444,
           0,
           19.1175023059538,
           17.444377945463692,
           17.825033268830737,
           18.931374999681093,
           29.728532424938976,
           31.83396487941842,
           36.85662607684782
          ],
          [
           55.141801657510605,
           55.75936104182351,
           59.98680327875444,
           59.007057641054566,
           58.53577888346897,
           58.74745762436361,
           54.82855608274841,
           47.87817101215544,
           56.78539010981675,
           54.13803403500982,
           54.34265917428339,
           65.36878480398887,
           27.643861960574306,
           44.062793497439664,
           44.35094116162606,
           60.75455894808465,
           36.71510567247014,
           42.26793014391398,
           38.550046147387484,
           42.16417682761494,
           46.003333068931816,
           40.922726642811,
           66.38106779128648,
           65.38745152644593,
           79.22657023810049,
           22.406018082144183,
           19.1175023059538,
           0,
           20.99737777182878,
           18.668330224943517,
           22.23600847879882,
           28.07763592819566,
           30.34942896900658,
           33.647765794625364
          ],
          [
           55.76039463524064,
           55.6714133069339,
           59.92860396753187,
           58.94900382603579,
           58.469875490230486,
           59.30519881510618,
           55.450643656865,
           48.478772002747945,
           55.066895000636244,
           51.705992877050925,
           53.921965766859394,
           64.61133816895976,
           31.000309546453142,
           43.043559637458074,
           43.07449659449433,
           59.061761951081415,
           37.5719171697105,
           41.105733778782856,
           38.73493779433041,
           41.12205690894717,
           45.418287856015496,
           40.922555019637855,
           64.90995560370587,
           63.39571978679023,
           78.51157225234662,
           21.805056146059396,
           17.444377945463692,
           20.99737777182878,
           0,
           16.40088635227896,
           21.429562973982694,
           28.10553243952352,
           29.31935590692688,
           34.894289928243424
          ],
          [
           55.46775588381651,
           56.08172604817764,
           60.457243265592794,
           59.40030006409796,
           58.842935533883704,
           59.16959486545303,
           55.15636150861938,
           48.320460639856684,
           56.36699574626242,
           53.35473306247506,
           53.38865773695062,
           64.53181467253984,
           27.31042235947892,
           42.641715868385624,
           42.98300493456147,
           60.902901563889415,
           37.33585509639741,
           41.807417714307974,
           38.57116286982386,
           40.5640886663162,
           45.443214423218436,
           41.33420646902315,
           65.20312915500683,
           65.20911400904694,
           78.3099945655852,
           20.089250708518612,
           17.825033268830737,
           18.668330224943517,
           16.40088635227896,
           0,
           20.20524751355363,
           25.487682558464968,
           27.838168398108245,
           33.22567689173866
          ],
          [
           53.600612376757944,
           53.97764040681854,
           58.88016170510985,
           57.39205492291918,
           56.8627811816977,
           57.8799712005886,
           53.87898570775861,
           46.72465277025857,
           55.67510106914187,
           52.99803580387681,
           52.54810228172462,
           63.832483692538496,
           24.153048538184443,
           40.82161744562863,
           41.4911195253627,
           59.14011184555416,
           35.226762471678924,
           41.05451717069408,
           37.061422441778596,
           39.71483203302371,
           43.40158399158652,
           38.673620280624434,
           64.89991689665078,
           63.990970576496956,
           77.644462981199,
           22.992284157160068,
           18.931374999681093,
           22.23600847879882,
           21.429562973982694,
           20.20524751355363,
           0,
           24.147094512875523,
           25.619043072643166,
           31.832508229740363
          ],
          [
           60.315564493756895,
           60.974521021717756,
           64.8330094922536,
           63.91752033470063,
           63.501542094779154,
           64.21836181021774,
           60.70401441034357,
           54.22232986507175,
           61.06646333115615,
           58.71129680267911,
           58.86780673550752,
           68.6354289672701,
           27.702871183868144,
           49.1237147649352,
           48.45012108524249,
           62.59552675470485,
           44.842406969940114,
           49.12391277676558,
           45.74813699835991,
           47.736530285570836,
           51.053740436451676,
           47.88179772555503,
           68.29288647522895,
           66.71232617181545,
           80.724689698953,
           31.294429908567352,
           29.728532424938976,
           28.07763592819566,
           28.10553243952352,
           25.487682558464968,
           24.147094512875523,
           0,
           22.0767082066412,
           30.231929003583158
          ],
          [
           59.753784942268396,
           60.438490317642405,
           64.42118737013952,
           63.45244564039486,
           62.98938518330914,
           63.710016040375464,
           60.10312819450019,
           53.61040938675824,
           59.39154937384242,
           56.2717229547337,
           57.60556303776789,
           67.33173496987261,
           31.01548318728893,
           47.36723260556662,
           45.92244551623844,
           60.75481798942013,
           44.083750471083356,
           47.19718577320584,
           44.950112421304894,
           45.426516444283685,
           50.33862625406417,
           47.12056185345924,
           64.82440601949615,
           62.88081967133285,
           79.18806596074236,
           31.1584268170896,
           31.83396487941842,
           30.34942896900658,
           29.31935590692688,
           27.838168398108245,
           25.619043072643166,
           22.0767082066412,
           0,
           25.623121547033357
          ],
          [
           62.8068099560077,
           63.83685972182516,
           67.50225864896835,
           66.70897928041019,
           66.29388068753339,
           67.10268759809958,
           63.73690059419429,
           57.66300895076869,
           62.6157390957438,
           58.501812372230965,
           61.16720902465252,
           70.07674930346916,
           35.02609365246422,
           51.58525612988278,
           50.29127685211625,
           60.51777297825476,
           48.927080370633874,
           51.48118943530225,
           48.70679766794862,
           49.31757529345926,
           54.18639160645326,
           51.4531837697366,
           67.3567804866916,
           62.280045710862545,
           81.96884675660505,
           36.025675586064395,
           36.85662607684782,
           33.647765794625364,
           34.894289928243424,
           33.22567689173866,
           31.832508229740363,
           30.231929003583158,
           25.623121547033357,
           0
          ]
         ]
        }
       ],
       "layout": {
        "coloraxis": {
         "colorscale": [
          [
           0,
           "#0d0887"
          ],
          [
           0.1111111111111111,
           "#46039f"
          ],
          [
           0.2222222222222222,
           "#7201a8"
          ],
          [
           0.3333333333333333,
           "#9c179e"
          ],
          [
           0.4444444444444444,
           "#bd3786"
          ],
          [
           0.5555555555555556,
           "#d8576b"
          ],
          [
           0.6666666666666666,
           "#ed7953"
          ],
          [
           0.7777777777777778,
           "#fb9f3a"
          ],
          [
           0.8888888888888888,
           "#fdca26"
          ],
          [
           1,
           "#f0f921"
          ]
         ]
        },
        "margin": {
         "t": 60
        },
        "template": {
         "data": {
          "bar": [
           {
            "error_x": {
             "color": "#2a3f5f"
            },
            "error_y": {
             "color": "#2a3f5f"
            },
            "marker": {
             "line": {
              "color": "#E5ECF6",
              "width": 0.5
             }
            },
            "type": "bar"
           }
          ],
          "barpolar": [
           {
            "marker": {
             "line": {
              "color": "#E5ECF6",
              "width": 0.5
             }
            },
            "type": "barpolar"
           }
          ],
          "carpet": [
           {
            "aaxis": {
             "endlinecolor": "#2a3f5f",
             "gridcolor": "white",
             "linecolor": "white",
             "minorgridcolor": "white",
             "startlinecolor": "#2a3f5f"
            },
            "baxis": {
             "endlinecolor": "#2a3f5f",
             "gridcolor": "white",
             "linecolor": "white",
             "minorgridcolor": "white",
             "startlinecolor": "#2a3f5f"
            },
            "type": "carpet"
           }
          ],
          "choropleth": [
           {
            "colorbar": {
             "outlinewidth": 0,
             "ticks": ""
            },
            "type": "choropleth"
           }
          ],
          "contour": [
           {
            "colorbar": {
             "outlinewidth": 0,
             "ticks": ""
            },
            "colorscale": [
             [
              0,
              "#0d0887"
             ],
             [
              0.1111111111111111,
              "#46039f"
             ],
             [
              0.2222222222222222,
              "#7201a8"
             ],
             [
              0.3333333333333333,
              "#9c179e"
             ],
             [
              0.4444444444444444,
              "#bd3786"
             ],
             [
              0.5555555555555556,
              "#d8576b"
             ],
             [
              0.6666666666666666,
              "#ed7953"
             ],
             [
              0.7777777777777778,
              "#fb9f3a"
             ],
             [
              0.8888888888888888,
              "#fdca26"
             ],
             [
              1,
              "#f0f921"
             ]
            ],
            "type": "contour"
           }
          ],
          "contourcarpet": [
           {
            "colorbar": {
             "outlinewidth": 0,
             "ticks": ""
            },
            "type": "contourcarpet"
           }
          ],
          "heatmap": [
           {
            "colorbar": {
             "outlinewidth": 0,
             "ticks": ""
            },
            "colorscale": [
             [
              0,
              "#0d0887"
             ],
             [
              0.1111111111111111,
              "#46039f"
             ],
             [
              0.2222222222222222,
              "#7201a8"
             ],
             [
              0.3333333333333333,
              "#9c179e"
             ],
             [
              0.4444444444444444,
              "#bd3786"
             ],
             [
              0.5555555555555556,
              "#d8576b"
             ],
             [
              0.6666666666666666,
              "#ed7953"
             ],
             [
              0.7777777777777778,
              "#fb9f3a"
             ],
             [
              0.8888888888888888,
              "#fdca26"
             ],
             [
              1,
              "#f0f921"
             ]
            ],
            "type": "heatmap"
           }
          ],
          "heatmapgl": [
           {
            "colorbar": {
             "outlinewidth": 0,
             "ticks": ""
            },
            "colorscale": [
             [
              0,
              "#0d0887"
             ],
             [
              0.1111111111111111,
              "#46039f"
             ],
             [
              0.2222222222222222,
              "#7201a8"
             ],
             [
              0.3333333333333333,
              "#9c179e"
             ],
             [
              0.4444444444444444,
              "#bd3786"
             ],
             [
              0.5555555555555556,
              "#d8576b"
             ],
             [
              0.6666666666666666,
              "#ed7953"
             ],
             [
              0.7777777777777778,
              "#fb9f3a"
             ],
             [
              0.8888888888888888,
              "#fdca26"
             ],
             [
              1,
              "#f0f921"
             ]
            ],
            "type": "heatmapgl"
           }
          ],
          "histogram": [
           {
            "marker": {
             "colorbar": {
              "outlinewidth": 0,
              "ticks": ""
             }
            },
            "type": "histogram"
           }
          ],
          "histogram2d": [
           {
            "colorbar": {
             "outlinewidth": 0,
             "ticks": ""
            },
            "colorscale": [
             [
              0,
              "#0d0887"
             ],
             [
              0.1111111111111111,
              "#46039f"
             ],
             [
              0.2222222222222222,
              "#7201a8"
             ],
             [
              0.3333333333333333,
              "#9c179e"
             ],
             [
              0.4444444444444444,
              "#bd3786"
             ],
             [
              0.5555555555555556,
              "#d8576b"
             ],
             [
              0.6666666666666666,
              "#ed7953"
             ],
             [
              0.7777777777777778,
              "#fb9f3a"
             ],
             [
              0.8888888888888888,
              "#fdca26"
             ],
             [
              1,
              "#f0f921"
             ]
            ],
            "type": "histogram2d"
           }
          ],
          "histogram2dcontour": [
           {
            "colorbar": {
             "outlinewidth": 0,
             "ticks": ""
            },
            "colorscale": [
             [
              0,
              "#0d0887"
             ],
             [
              0.1111111111111111,
              "#46039f"
             ],
             [
              0.2222222222222222,
              "#7201a8"
             ],
             [
              0.3333333333333333,
              "#9c179e"
             ],
             [
              0.4444444444444444,
              "#bd3786"
             ],
             [
              0.5555555555555556,
              "#d8576b"
             ],
             [
              0.6666666666666666,
              "#ed7953"
             ],
             [
              0.7777777777777778,
              "#fb9f3a"
             ],
             [
              0.8888888888888888,
              "#fdca26"
             ],
             [
              1,
              "#f0f921"
             ]
            ],
            "type": "histogram2dcontour"
           }
          ],
          "mesh3d": [
           {
            "colorbar": {
             "outlinewidth": 0,
             "ticks": ""
            },
            "type": "mesh3d"
           }
          ],
          "parcoords": [
           {
            "line": {
             "colorbar": {
              "outlinewidth": 0,
              "ticks": ""
             }
            },
            "type": "parcoords"
           }
          ],
          "pie": [
           {
            "automargin": true,
            "type": "pie"
           }
          ],
          "scatter": [
           {
            "marker": {
             "colorbar": {
              "outlinewidth": 0,
              "ticks": ""
             }
            },
            "type": "scatter"
           }
          ],
          "scatter3d": [
           {
            "line": {
             "colorbar": {
              "outlinewidth": 0,
              "ticks": ""
             }
            },
            "marker": {
             "colorbar": {
              "outlinewidth": 0,
              "ticks": ""
             }
            },
            "type": "scatter3d"
           }
          ],
          "scattercarpet": [
           {
            "marker": {
             "colorbar": {
              "outlinewidth": 0,
              "ticks": ""
             }
            },
            "type": "scattercarpet"
           }
          ],
          "scattergeo": [
           {
            "marker": {
             "colorbar": {
              "outlinewidth": 0,
              "ticks": ""
             }
            },
            "type": "scattergeo"
           }
          ],
          "scattergl": [
           {
            "marker": {
             "colorbar": {
              "outlinewidth": 0,
              "ticks": ""
             }
            },
            "type": "scattergl"
           }
          ],
          "scattermapbox": [
           {
            "marker": {
             "colorbar": {
              "outlinewidth": 0,
              "ticks": ""
             }
            },
            "type": "scattermapbox"
           }
          ],
          "scatterpolar": [
           {
            "marker": {
             "colorbar": {
              "outlinewidth": 0,
              "ticks": ""
             }
            },
            "type": "scatterpolar"
           }
          ],
          "scatterpolargl": [
           {
            "marker": {
             "colorbar": {
              "outlinewidth": 0,
              "ticks": ""
             }
            },
            "type": "scatterpolargl"
           }
          ],
          "scatterternary": [
           {
            "marker": {
             "colorbar": {
              "outlinewidth": 0,
              "ticks": ""
             }
            },
            "type": "scatterternary"
           }
          ],
          "surface": [
           {
            "colorbar": {
             "outlinewidth": 0,
             "ticks": ""
            },
            "colorscale": [
             [
              0,
              "#0d0887"
             ],
             [
              0.1111111111111111,
              "#46039f"
             ],
             [
              0.2222222222222222,
              "#7201a8"
             ],
             [
              0.3333333333333333,
              "#9c179e"
             ],
             [
              0.4444444444444444,
              "#bd3786"
             ],
             [
              0.5555555555555556,
              "#d8576b"
             ],
             [
              0.6666666666666666,
              "#ed7953"
             ],
             [
              0.7777777777777778,
              "#fb9f3a"
             ],
             [
              0.8888888888888888,
              "#fdca26"
             ],
             [
              1,
              "#f0f921"
             ]
            ],
            "type": "surface"
           }
          ],
          "table": [
           {
            "cells": {
             "fill": {
              "color": "#EBF0F8"
             },
             "line": {
              "color": "white"
             }
            },
            "header": {
             "fill": {
              "color": "#C8D4E3"
             },
             "line": {
              "color": "white"
             }
            },
            "type": "table"
           }
          ]
         },
         "layout": {
          "annotationdefaults": {
           "arrowcolor": "#2a3f5f",
           "arrowhead": 0,
           "arrowwidth": 1
          },
          "autotypenumbers": "strict",
          "coloraxis": {
           "colorbar": {
            "outlinewidth": 0,
            "ticks": ""
           }
          },
          "colorscale": {
           "diverging": [
            [
             0,
             "#8e0152"
            ],
            [
             0.1,
             "#c51b7d"
            ],
            [
             0.2,
             "#de77ae"
            ],
            [
             0.3,
             "#f1b6da"
            ],
            [
             0.4,
             "#fde0ef"
            ],
            [
             0.5,
             "#f7f7f7"
            ],
            [
             0.6,
             "#e6f5d0"
            ],
            [
             0.7,
             "#b8e186"
            ],
            [
             0.8,
             "#7fbc41"
            ],
            [
             0.9,
             "#4d9221"
            ],
            [
             1,
             "#276419"
            ]
           ],
           "sequential": [
            [
             0,
             "#0d0887"
            ],
            [
             0.1111111111111111,
             "#46039f"
            ],
            [
             0.2222222222222222,
             "#7201a8"
            ],
            [
             0.3333333333333333,
             "#9c179e"
            ],
            [
             0.4444444444444444,
             "#bd3786"
            ],
            [
             0.5555555555555556,
             "#d8576b"
            ],
            [
             0.6666666666666666,
             "#ed7953"
            ],
            [
             0.7777777777777778,
             "#fb9f3a"
            ],
            [
             0.8888888888888888,
             "#fdca26"
            ],
            [
             1,
             "#f0f921"
            ]
           ],
           "sequentialminus": [
            [
             0,
             "#0d0887"
            ],
            [
             0.1111111111111111,
             "#46039f"
            ],
            [
             0.2222222222222222,
             "#7201a8"
            ],
            [
             0.3333333333333333,
             "#9c179e"
            ],
            [
             0.4444444444444444,
             "#bd3786"
            ],
            [
             0.5555555555555556,
             "#d8576b"
            ],
            [
             0.6666666666666666,
             "#ed7953"
            ],
            [
             0.7777777777777778,
             "#fb9f3a"
            ],
            [
             0.8888888888888888,
             "#fdca26"
            ],
            [
             1,
             "#f0f921"
            ]
           ]
          },
          "colorway": [
           "#636efa",
           "#EF553B",
           "#00cc96",
           "#ab63fa",
           "#FFA15A",
           "#19d3f3",
           "#FF6692",
           "#B6E880",
           "#FF97FF",
           "#FECB52"
          ],
          "font": {
           "color": "#2a3f5f"
          },
          "geo": {
           "bgcolor": "white",
           "lakecolor": "white",
           "landcolor": "#E5ECF6",
           "showlakes": true,
           "showland": true,
           "subunitcolor": "white"
          },
          "hoverlabel": {
           "align": "left"
          },
          "hovermode": "closest",
          "mapbox": {
           "style": "light"
          },
          "paper_bgcolor": "white",
          "plot_bgcolor": "#E5ECF6",
          "polar": {
           "angularaxis": {
            "gridcolor": "white",
            "linecolor": "white",
            "ticks": ""
           },
           "bgcolor": "#E5ECF6",
           "radialaxis": {
            "gridcolor": "white",
            "linecolor": "white",
            "ticks": ""
           }
          },
          "scene": {
           "xaxis": {
            "backgroundcolor": "#E5ECF6",
            "gridcolor": "white",
            "gridwidth": 2,
            "linecolor": "white",
            "showbackground": true,
            "ticks": "",
            "zerolinecolor": "white"
           },
           "yaxis": {
            "backgroundcolor": "#E5ECF6",
            "gridcolor": "white",
            "gridwidth": 2,
            "linecolor": "white",
            "showbackground": true,
            "ticks": "",
            "zerolinecolor": "white"
           },
           "zaxis": {
            "backgroundcolor": "#E5ECF6",
            "gridcolor": "white",
            "gridwidth": 2,
            "linecolor": "white",
            "showbackground": true,
            "ticks": "",
            "zerolinecolor": "white"
           }
          },
          "shapedefaults": {
           "line": {
            "color": "#2a3f5f"
           }
          },
          "ternary": {
           "aaxis": {
            "gridcolor": "white",
            "linecolor": "white",
            "ticks": ""
           },
           "baxis": {
            "gridcolor": "white",
            "linecolor": "white",
            "ticks": ""
           },
           "bgcolor": "#E5ECF6",
           "caxis": {
            "gridcolor": "white",
            "linecolor": "white",
            "ticks": ""
           }
          },
          "title": {
           "x": 0.05
          },
          "xaxis": {
           "automargin": true,
           "gridcolor": "white",
           "linecolor": "white",
           "ticks": "",
           "title": {
            "standoff": 15
           },
           "zerolinecolor": "white",
           "zerolinewidth": 2
          },
          "yaxis": {
           "automargin": true,
           "gridcolor": "white",
           "linecolor": "white",
           "ticks": "",
           "title": {
            "standoff": 15
           },
           "zerolinecolor": "white",
           "zerolinewidth": 2
          }
         }
        },
        "xaxis": {
         "anchor": "y",
         "constrain": "domain",
         "domain": [
          0,
          1
         ],
         "scaleanchor": "y"
        },
        "yaxis": {
         "anchor": "x",
         "autorange": "reversed",
         "constrain": "domain",
         "domain": [
          0,
          1
         ],
         "title": {
          "text": "samples"
         }
        }
       }
      },
      "text/html": [
       "<div>                            <div id=\"51449a2f-362e-4d32-ab78-3c5a7ccd43f1\" class=\"plotly-graph-div\" style=\"height:525px; width:100%;\"></div>            <script type=\"text/javascript\">                require([\"plotly\"], function(Plotly) {                    window.PLOTLYENV=window.PLOTLYENV || {};                                    if (document.getElementById(\"51449a2f-362e-4d32-ab78-3c5a7ccd43f1\")) {                    Plotly.newPlot(                        \"51449a2f-362e-4d32-ab78-3c5a7ccd43f1\",                        [{\"coloraxis\": \"coloraxis\", \"hovertemplate\": \"x: %{x}<br>samples: %{y}<br>color: %{z}<extra></extra>\", \"name\": \"0\", \"type\": \"heatmap\", \"x\": [\"L1S105\", \"L1S140\", \"L1S208\", \"L1S257\", \"L1S281\", \"L1S57\", \"L1S76\", \"L1S8\", \"L2S155\", \"L2S175\", \"L2S204\", \"L2S222\", \"L2S240\", \"L2S309\", \"L2S357\", \"L2S382\", \"L3S242\", \"L3S294\", \"L3S313\", \"L3S341\", \"L3S360\", \"L3S378\", \"L4S112\", \"L4S137\", \"L4S63\", \"L5S104\", \"L5S155\", \"L5S174\", \"L5S203\", \"L5S222\", \"L5S240\", \"L6S20\", \"L6S68\", \"L6S93\"], \"xaxis\": \"x\", \"y\": [\"L1S105\", \"L1S140\", \"L1S208\", \"L1S257\", \"L1S281\", \"L1S57\", \"L1S76\", \"L1S8\", \"L2S155\", \"L2S175\", \"L2S204\", \"L2S222\", \"L2S240\", \"L2S309\", \"L2S357\", \"L2S382\", \"L3S242\", \"L3S294\", \"L3S313\", \"L3S341\", \"L3S360\", \"L3S378\", \"L4S112\", \"L4S137\", \"L4S63\", \"L5S104\", \"L5S155\", \"L5S174\", \"L5S203\", \"L5S222\", \"L5S240\", \"L6S20\", \"L6S68\", \"L6S93\"], \"yaxis\": \"y\", \"z\": [[0.0, 50.66047615917242, 53.00971392149783, 53.688079561165466, 53.45879402084539, 39.26619171290079, 34.249880721914934, 40.786793743699455, 68.20243255162173, 68.15231263221375, 64.07923909704328, 73.58514180931532, 59.77724252007217, 56.9088151039547, 58.332542716284266, 73.72967140154272, 40.284384091815085, 56.661713714061094, 54.873567056372195, 55.1519385717719, 57.95264203147496, 46.63412429394482, 78.72819979310081, 79.54944757224635, 89.54773972484615, 54.55214923864612, 52.92655531007002, 55.141801657510605, 55.76039463524064, 55.46775588381651, 53.600612376757944, 60.315564493756895, 59.753784942268396, 62.8068099560077], [50.66047615917242, 0.0, 48.609390496625025, 46.5309732209347, 45.72751656446959, 55.013434524580184, 50.05947021590738, 45.652814543793, 69.188427471429, 69.56704268880237, 65.56339354885188, 74.90497608687996, 59.7224235946099, 57.17800644686014, 59.63999228246985, 74.78541447049685, 44.999574243662515, 56.83974327298075, 56.23432972481989, 57.19131364535273, 57.994724579980605, 34.95097284023434, 79.84389253526302, 80.70870957597405, 90.41655579678356, 56.003679419825275, 53.537744627030314, 55.75936104182351, 55.6714133069339, 56.08172604817764, 53.97764040681854, 60.974521021717756, 60.438490317642405, 63.83685972182516], [53.00971392149783, 48.609390496625025, 0.0, 34.792110672752955, 35.98123103212861, 54.630892946716784, 50.56630562977383, 54.161752746813065, 73.83560459387017, 73.7448458204617, 70.15382020029517, 78.82655361783998, 64.78449757602642, 61.6163363564607, 64.26984549979512, 78.54438053921015, 51.16603723585246, 62.11210214810951, 61.46999418872902, 62.101349452335725, 63.25096460118355, 46.207858474605736, 83.75019122431871, 84.56845927727491, 94.4331557195958, 60.28665642365467, 57.96935302179034, 59.98680327875444, 59.92860396753187, 60.457243265592794, 58.88016170510985, 64.8330094922536, 64.42118737013952, 67.50225864896835], [53.688079561165466, 46.5309732209347, 34.792110672752955, 0.0, 29.785401763300285, 55.72040515860214, 50.07986860240577, 54.08683241872036, 72.48083251188405, 72.44708081536542, 68.40845207197131, 77.50610641311364, 63.9171271397061, 60.04331963326973, 62.75893435682061, 77.26833241564692, 50.2952685700591, 60.044912716218356, 59.814371024882455, 60.22317342409178, 61.17906344916648, 43.594929096152114, 82.68458298829785, 83.48895219060438, 93.38099872670843, 59.26253048163292, 56.96347154802924, 59.007057641054566, 58.94900382603579, 59.40030006409796, 57.39205492291918, 63.91752033470063, 63.45244564039486, 66.70897928041019], [53.45879402084539, 45.72751656446959, 35.98123103212861, 29.785401763300285, 0.0, 53.20402255316826, 47.8776243595763, 54.98185128286483, 72.46979682566872, 72.51059052195278, 68.34553673712142, 77.08968024647695, 63.55570405951463, 59.57564930405149, 62.81915527004217, 77.24901820357108, 50.20977215695584, 59.96973337002885, 59.835141168076156, 59.901397497746714, 60.7366940421375, 42.95780393777717, 82.84612288873431, 83.6124951802571, 93.49469755643715, 58.76855599945015, 56.54939144472615, 58.53577888346897, 58.469875490230486, 58.842935533883704, 56.8627811816977, 63.501542094779154, 62.98938518330914, 66.29388068753339], [39.26619171290079, 55.013434524580184, 54.630892946716784, 55.72040515860214, 53.20402255316826, 0.0, 30.930870450085035, 46.487716066843106, 71.58224498966916, 72.05557269715648, 67.84296838939792, 77.52281810254435, 63.611266846185025, 60.85115882784966, 62.201007206934726, 77.46602288964822, 46.68095320946507, 60.28345103962752, 59.40224646199025, 59.71305092814461, 62.16701240062139, 50.674896497798805, 82.22663557470409, 83.75585785892655, 93.65967281739962, 58.206829042653816, 56.60664481299036, 58.74745762436361, 59.30519881510618, 59.16959486545303, 57.8799712005886, 64.21836181021774, 63.710016040375464, 67.10268759809958], [34.249880721914934, 50.05947021590738, 50.56630562977383, 50.07986860240577, 47.8776243595763, 30.930870450085035, 0.0, 42.015113247922656, 68.70158411959879, 68.8607526656413, 64.32599653690171, 73.93029999224419, 60.08246806294477, 57.01541353928215, 58.47460224188035, 74.4791512172391, 41.143340120325654, 56.356916816812, 55.45167158586274, 55.40825664392109, 57.99781477556373, 45.195441354546425, 79.44863483149639, 81.08273487709931, 91.21946954348272, 54.199856456325264, 52.58755666614591, 54.82855608274841, 55.450643656865, 55.15636150861938, 53.87898570775861, 60.70401441034357, 60.10312819450019, 63.73690059419429], [40.786793743699455, 45.652814543793, 54.161752746813065, 54.08683241872036, 54.98185128286483, 46.487716066843106, 42.015113247922656, 0.0, 63.95809773314675, 63.70822339623406, 59.620729065403054, 70.05756705640114, 53.45191781274437, 52.071058348586185, 52.64651440151756, 70.02097319976936, 27.833356977186913, 50.890542930529826, 49.372173928785074, 49.994354889638274, 53.25148917969835, 40.014221242761245, 74.95635169564204, 76.58669938693517, 87.36486582295477, 47.14260142607136, 45.18067690508713, 47.87817101215544, 48.478772002747945, 48.320460639856684, 46.72465277025857, 54.22232986507175, 53.61040938675824, 57.66300895076869], [68.20243255162173, 69.188427471429, 73.83560459387017, 72.48083251188405, 72.46979682566872, 71.58224498966916, 68.70158411959879, 63.95809773314675, 0.0, 48.54592488497835, 57.029809546856335, 63.50880676261906, 58.62765844956599, 51.201858153874795, 49.01243310658888, 65.66825093937494, 56.22704112413723, 42.77683864466037, 44.210974124582236, 51.23855329013993, 56.3194932995704, 59.06606662433989, 60.592493261643156, 68.09800113915368, 74.19664068243054, 54.60738283159934, 55.17653090918421, 56.78539010981675, 55.066895000636244, 56.36699574626242, 55.67510106914187, 61.06646333115615, 59.39154937384242, 62.6157390957438], [68.15231263221375, 69.56704268880237, 73.7448458204617, 72.44708081536542, 72.51059052195278, 72.05557269715648, 68.8607526656413, 63.70822339623406, 48.54592488497835, 0.0, 54.54558177157058, 62.21034996595811, 56.891065121402725, 49.573120792227904, 49.51842940725539, 63.55271592817471, 56.37281159187805, 49.396701713688735, 39.70503520597604, 49.387907061646416, 56.05098056238127, 59.65028940704813, 59.19863211016373, 63.24354159643425, 74.20853034439442, 52.74039169357534, 52.513412680157835, 54.13803403500982, 51.705992877050925, 53.35473306247506, 52.99803580387681, 58.71129680267911, 56.2717229547337, 58.501812372230965], [64.07923909704328, 65.56339354885188, 70.15382020029517, 68.40845207197131, 68.34553673712142, 67.84296838939792, 64.32599653690171, 59.620729065403054, 57.029809546856335, 54.54558177157058, 0.0, 56.51650751441235, 57.61370922680835, 44.68332734662651, 45.11183633857505, 69.53566845050872, 51.54537271919096, 47.52825414660591, 45.64829089500611, 39.82153398307015, 47.82996564085267, 54.8187895618017, 62.56156109096646, 73.46310270736355, 72.39231753551788, 53.053152858690154, 52.76635192625816, 54.34265917428339, 53.921965766859394, 53.38865773695062, 52.54810228172462, 58.86780673550752, 57.60556303776789, 61.16720902465252], [73.58514180931532, 74.90497608687996, 78.82655361783998, 77.50610641311364, 77.08968024647695, 77.52281810254435, 73.93029999224419, 70.05756705640114, 63.50880676261906, 62.21034996595811, 56.51650751441235, 0.0, 68.24991353414445, 58.18879046466742, 59.589558629662264, 76.41574294779252, 63.6895969337231, 59.97920128875627, 57.23924096519129, 58.50398848914727, 49.92105588902604, 65.8177476612557, 69.0445371043934, 79.58188221805864, 74.00283795424963, 64.77259616443614, 64.04570235804685, 65.36878480398887, 64.61133816895976, 64.53181467253984, 63.832483692538496, 68.6354289672701, 67.33173496987261, 70.07674930346916], [59.77724252007217, 59.7224235946099, 64.78449757602642, 63.9171271397061, 63.55570405951463, 63.611266846185025, 60.08246806294477, 53.45191781274437, 58.62765844956599, 56.891065121402725, 57.61370922680835, 68.24991353414445, 0.0, 46.34060749631343, 47.19179193631131, 62.811635010227555, 44.06752545889306, 46.68615136209984, 43.43230917137144, 46.60799784687244, 51.24868178766535, 47.135285827007756, 66.35515220385895, 65.20283284635101, 79.42359604553307, 29.80310831441725, 28.44773548010558, 27.643861960574306, 31.000309546453142, 27.31042235947892, 24.153048538184443, 27.702871183868144, 31.01548318728893, 35.02609365246422], [56.9088151039547, 57.17800644686014, 61.6163363564607, 60.04331963326973, 59.57564930405149, 60.85115882784966, 57.01541353928215, 52.071058348586185, 51.201858153874795, 49.573120792227904, 44.68332734662651, 58.18879046466742, 46.34060749631343, 0.0, 35.4414815243601, 60.781534387855196, 41.96679337567334, 39.778424592696076, 38.06005668795643, 37.097296164156894, 42.31790566987053, 44.0276004950116, 59.36968125529712, 65.31509008128629, 69.3539761540468, 42.83820105155192, 41.69403831895693, 44.062793497439664, 43.043559637458074, 42.641715868385624, 40.82161744562863, 49.1237147649352, 47.36723260556662, 51.58525612988278], [58.332542716284266, 59.63999228246985, 64.26984549979512, 62.75893435682061, 62.81915527004217, 62.201007206934726, 58.47460224188035, 52.64651440151756, 49.01243310658888, 49.51842940725539, 45.11183633857505, 59.589558629662264, 47.19179193631131, 35.4414815243601, 0.0, 60.04708260675813, 43.34921368015688, 38.581136010347215, 36.903612947483275, 35.581438309339454, 44.898408807504715, 47.594740520974234, 52.22974606436474, 62.18592174716277, 69.74705388459364, 41.68833458333959, 42.26630931886903, 44.35094116162606, 43.07449659449433, 42.98300493456147, 41.4911195253627, 48.45012108524249, 45.92244551623844, 50.29127685211625], [73.72967140154272, 74.78541447049685, 78.54438053921015, 77.26833241564692, 77.24901820357108, 77.46602288964822, 74.4791512172391, 70.02097319976936, 65.66825093937494, 63.55271592817471, 69.53566845050872, 76.41574294779252, 62.811635010227555, 60.781534387855196, 60.04708260675813, 0.0, 62.50329149880627, 59.41997393407355, 57.80800014677978, 61.6922395378488, 64.40404623315341, 64.8478009733215, 73.24065368994366, 48.36620466402068, 87.70126531599506, 59.7361953578118, 59.338622716097575, 60.75455894808465, 59.061761951081415, 60.902901563889415, 59.14011184555416, 62.59552675470485, 60.75481798942013, 60.51777297825476], [40.284384091815085, 44.999574243662515, 51.16603723585246, 50.2952685700591, 50.20977215695584, 46.68095320946507, 41.143340120325654, 27.833356977186913, 56.22704112413723, 56.37281159187805, 51.54537271919096, 63.6895969337231, 44.06752545889306, 41.96679337567334, 43.34921368015688, 62.50329149880627, 0.0, 39.892778684547956, 38.97023708973874, 38.12109185784964, 43.21424584392164, 29.521077626449866, 69.11717365311232, 70.2168871280118, 81.71402510208645, 36.02793037672467, 33.32497678155615, 36.71510567247014, 37.5719171697105, 37.33585509639741, 35.226762471678924, 44.842406969940114, 44.083750471083356, 48.927080370633874], [56.661713714061094, 56.83974327298075, 62.11210214810951, 60.044912716218356, 59.96973337002885, 60.28345103962752, 56.356916816812, 50.890542930529826, 42.77683864466037, 49.396701713688735, 47.52825414660591, 59.97920128875627, 46.68615136209984, 39.778424592696076, 38.581136010347215, 59.41997393407355, 39.892778684547956, 0.0, 33.969834505538074, 39.21389976553591, 44.34663107059871, 43.01561998934274, 62.313374736316725, 65.6456698619252, 75.8412397830296, 41.09226583317067, 40.562433592530105, 42.26793014391398, 41.105733778782856, 41.807417714307974, 41.05451717069408, 49.12391277676558, 47.19718577320584, 51.48118943530225], [54.873567056372195, 56.23432972481989, 61.46999418872902, 59.814371024882455, 59.835141168076156, 59.40224646199025, 55.45167158586274, 49.372173928785074, 44.210974124582236, 39.70503520597604, 45.64829089500611, 57.23924096519129, 43.43230917137144, 38.06005668795643, 36.903612947483275, 57.80800014677978, 38.97023708973874, 33.969834505538074, 0.0, 37.0877877787333, 43.113949619385316, 43.46465344963334, 59.117251028692756, 61.62632898115295, 73.53248887895178, 37.886564440454016, 36.33904735996988, 38.550046147387484, 38.73493779433041, 38.57116286982386, 37.061422441778596, 45.74813699835991, 44.950112421304894, 48.70679766794862], [55.1519385717719, 57.19131364535273, 62.101349452335725, 60.22317342409178, 59.901397497746714, 59.71305092814461, 55.40825664392109, 49.994354889638274, 51.23855329013993, 49.387907061646416, 39.82153398307015, 58.50398848914727, 46.60799784687244, 37.097296164156894, 35.581438309339454, 61.6922395378488, 38.12109185784964, 39.21389976553591, 37.0877877787333, 0.0, 40.50199004569565, 42.013167797711105, 59.065124864889086, 65.59969197968148, 73.1336818640608, 40.63632729288639, 40.12471543799058, 42.16417682761494, 41.12205690894717, 40.5640886663162, 39.71483203302371, 47.736530285570836, 45.426516444283685, 49.31757529345926], [57.95264203147496, 57.994724579980605, 63.25096460118355, 61.17906344916648, 60.7366940421375, 62.16701240062139, 57.99781477556373, 53.25148917969835, 56.3194932995704, 56.05098056238127, 47.82996564085267, 49.92105588902604, 51.24868178766535, 42.31790566987053, 44.898408807504715, 64.40404623315341, 43.21424584392164, 44.34663107059871, 43.113949619385316, 40.50199004569565, 0.0, 44.88644614257106, 64.98372706822754, 70.2449239866758, 75.62630809598096, 45.222058691504486, 43.94582488674816, 46.003333068931816, 45.418287856015496, 45.443214423218436, 43.40158399158652, 51.053740436451676, 50.33862625406417, 54.18639160645326], [46.63412429394482, 34.95097284023434, 46.207858474605736, 43.594929096152114, 42.95780393777717, 50.674896497798805, 45.195441354546425, 40.014221242761245, 59.06606662433989, 59.65028940704813, 54.8187895618017, 65.8177476612557, 47.135285827007756, 44.0276004950116, 47.594740520974234, 64.8478009733215, 29.521077626449866, 43.01561998934274, 43.46465344963334, 42.013167797711105, 44.88644614257106, 0.0, 72.0730559322812, 72.33433356598489, 83.31958831108884, 41.1970506389715, 38.02509523607291, 40.922726642811, 40.922555019637855, 41.33420646902315, 38.673620280624434, 47.88179772555503, 47.12056185345924, 51.4531837697366], [78.72819979310081, 79.84389253526302, 83.75019122431871, 82.68458298829785, 82.84612288873431, 82.22663557470409, 79.44863483149639, 74.95635169564204, 60.592493261643156, 59.19863211016373, 62.56156109096646, 69.0445371043934, 66.35515220385895, 59.36968125529712, 52.22974606436474, 73.24065368994366, 69.11717365311232, 62.313374736316725, 59.117251028692756, 59.065124864889086, 64.98372706822754, 72.0730559322812, 0.0, 69.3584566511127, 70.92697341285108, 64.30418922133339, 65.50978120099751, 66.38106779128648, 64.90995560370587, 65.20312915500683, 64.89991689665078, 68.29288647522895, 64.82440601949615, 67.3567804866916], [79.54944757224635, 80.70870957597405, 84.56845927727491, 83.48895219060438, 83.6124951802571, 83.75585785892655, 81.08273487709931, 76.58669938693517, 68.09800113915368, 63.24354159643425, 73.46310270736355, 79.58188221805864, 65.20283284635101, 65.31509008128629, 62.18592174716277, 48.36620466402068, 70.2168871280118, 65.6456698619252, 61.62632898115295, 65.59969197968148, 70.2449239866758, 72.33433356598489, 69.3584566511127, 0.0, 85.90048413841237, 64.40868233865558, 64.7205396820554, 65.38745152644593, 63.39571978679023, 65.20911400904694, 63.990970576496956, 66.71232617181545, 62.88081967133285, 62.280045710862545], [89.54773972484615, 90.41655579678356, 94.4331557195958, 93.38099872670843, 93.49469755643715, 93.65967281739962, 91.21946954348272, 87.36486582295477, 74.19664068243054, 74.20853034439442, 72.39231753551788, 74.00283795424963, 79.42359604553307, 69.3539761540468, 69.74705388459364, 87.70126531599506, 81.71402510208645, 75.8412397830296, 73.53248887895178, 73.1336818640608, 75.62630809598096, 83.31958831108884, 70.92697341285108, 85.90048413841237, 0.0, 78.27944401312851, 78.19749666197151, 79.22657023810049, 78.51157225234662, 78.3099945655852, 77.644462981199, 80.724689698953, 79.18806596074236, 81.96884675660505], [54.55214923864612, 56.003679419825275, 60.28665642365467, 59.26253048163292, 58.76855599945015, 58.206829042653816, 54.199856456325264, 47.14260142607136, 54.60738283159934, 52.74039169357534, 53.053152858690154, 64.77259616443614, 29.80310831441725, 42.83820105155192, 41.68833458333959, 59.7361953578118, 36.02793037672467, 41.09226583317067, 37.886564440454016, 40.63632729288639, 45.222058691504486, 41.1970506389715, 64.30418922133339, 64.40868233865558, 78.27944401312851, 0.0, 21.974171382616444, 22.406018082144183, 21.805056146059396, 20.089250708518612, 22.992284157160068, 31.294429908567352, 31.1584268170896, 36.025675586064395], [52.92655531007002, 53.537744627030314, 57.96935302179034, 56.96347154802924, 56.54939144472615, 56.60664481299036, 52.58755666614591, 45.18067690508713, 55.17653090918421, 52.513412680157835, 52.76635192625816, 64.04570235804685, 28.44773548010558, 41.69403831895693, 42.26630931886903, 59.338622716097575, 33.32497678155615, 40.562433592530105, 36.33904735996988, 40.12471543799058, 43.94582488674816, 38.02509523607291, 65.50978120099751, 64.7205396820554, 78.19749666197151, 21.974171382616444, 0.0, 19.1175023059538, 17.444377945463692, 17.825033268830737, 18.931374999681093, 29.728532424938976, 31.83396487941842, 36.85662607684782], [55.141801657510605, 55.75936104182351, 59.98680327875444, 59.007057641054566, 58.53577888346897, 58.74745762436361, 54.82855608274841, 47.87817101215544, 56.78539010981675, 54.13803403500982, 54.34265917428339, 65.36878480398887, 27.643861960574306, 44.062793497439664, 44.35094116162606, 60.75455894808465, 36.71510567247014, 42.26793014391398, 38.550046147387484, 42.16417682761494, 46.003333068931816, 40.922726642811, 66.38106779128648, 65.38745152644593, 79.22657023810049, 22.406018082144183, 19.1175023059538, 0.0, 20.99737777182878, 18.668330224943517, 22.23600847879882, 28.07763592819566, 30.34942896900658, 33.647765794625364], [55.76039463524064, 55.6714133069339, 59.92860396753187, 58.94900382603579, 58.469875490230486, 59.30519881510618, 55.450643656865, 48.478772002747945, 55.066895000636244, 51.705992877050925, 53.921965766859394, 64.61133816895976, 31.000309546453142, 43.043559637458074, 43.07449659449433, 59.061761951081415, 37.5719171697105, 41.105733778782856, 38.73493779433041, 41.12205690894717, 45.418287856015496, 40.922555019637855, 64.90995560370587, 63.39571978679023, 78.51157225234662, 21.805056146059396, 17.444377945463692, 20.99737777182878, 0.0, 16.40088635227896, 21.429562973982694, 28.10553243952352, 29.31935590692688, 34.894289928243424], [55.46775588381651, 56.08172604817764, 60.457243265592794, 59.40030006409796, 58.842935533883704, 59.16959486545303, 55.15636150861938, 48.320460639856684, 56.36699574626242, 53.35473306247506, 53.38865773695062, 64.53181467253984, 27.31042235947892, 42.641715868385624, 42.98300493456147, 60.902901563889415, 37.33585509639741, 41.807417714307974, 38.57116286982386, 40.5640886663162, 45.443214423218436, 41.33420646902315, 65.20312915500683, 65.20911400904694, 78.3099945655852, 20.089250708518612, 17.825033268830737, 18.668330224943517, 16.40088635227896, 0.0, 20.20524751355363, 25.487682558464968, 27.838168398108245, 33.22567689173866], [53.600612376757944, 53.97764040681854, 58.88016170510985, 57.39205492291918, 56.8627811816977, 57.8799712005886, 53.87898570775861, 46.72465277025857, 55.67510106914187, 52.99803580387681, 52.54810228172462, 63.832483692538496, 24.153048538184443, 40.82161744562863, 41.4911195253627, 59.14011184555416, 35.226762471678924, 41.05451717069408, 37.061422441778596, 39.71483203302371, 43.40158399158652, 38.673620280624434, 64.89991689665078, 63.990970576496956, 77.644462981199, 22.992284157160068, 18.931374999681093, 22.23600847879882, 21.429562973982694, 20.20524751355363, 0.0, 24.147094512875523, 25.619043072643166, 31.832508229740363], [60.315564493756895, 60.974521021717756, 64.8330094922536, 63.91752033470063, 63.501542094779154, 64.21836181021774, 60.70401441034357, 54.22232986507175, 61.06646333115615, 58.71129680267911, 58.86780673550752, 68.6354289672701, 27.702871183868144, 49.1237147649352, 48.45012108524249, 62.59552675470485, 44.842406969940114, 49.12391277676558, 45.74813699835991, 47.736530285570836, 51.053740436451676, 47.88179772555503, 68.29288647522895, 66.71232617181545, 80.724689698953, 31.294429908567352, 29.728532424938976, 28.07763592819566, 28.10553243952352, 25.487682558464968, 24.147094512875523, 0.0, 22.0767082066412, 30.231929003583158], [59.753784942268396, 60.438490317642405, 64.42118737013952, 63.45244564039486, 62.98938518330914, 63.710016040375464, 60.10312819450019, 53.61040938675824, 59.39154937384242, 56.2717229547337, 57.60556303776789, 67.33173496987261, 31.01548318728893, 47.36723260556662, 45.92244551623844, 60.75481798942013, 44.083750471083356, 47.19718577320584, 44.950112421304894, 45.426516444283685, 50.33862625406417, 47.12056185345924, 64.82440601949615, 62.88081967133285, 79.18806596074236, 31.1584268170896, 31.83396487941842, 30.34942896900658, 29.31935590692688, 27.838168398108245, 25.619043072643166, 22.0767082066412, 0.0, 25.623121547033357], [62.8068099560077, 63.83685972182516, 67.50225864896835, 66.70897928041019, 66.29388068753339, 67.10268759809958, 63.73690059419429, 57.66300895076869, 62.6157390957438, 58.501812372230965, 61.16720902465252, 70.07674930346916, 35.02609365246422, 51.58525612988278, 50.29127685211625, 60.51777297825476, 48.927080370633874, 51.48118943530225, 48.70679766794862, 49.31757529345926, 54.18639160645326, 51.4531837697366, 67.3567804866916, 62.280045710862545, 81.96884675660505, 36.025675586064395, 36.85662607684782, 33.647765794625364, 34.894289928243424, 33.22567689173866, 31.832508229740363, 30.231929003583158, 25.623121547033357, 0.0]]}],                        {\"coloraxis\": {\"colorscale\": [[0.0, \"#0d0887\"], [0.1111111111111111, \"#46039f\"], [0.2222222222222222, \"#7201a8\"], [0.3333333333333333, \"#9c179e\"], [0.4444444444444444, \"#bd3786\"], [0.5555555555555556, \"#d8576b\"], [0.6666666666666666, \"#ed7953\"], [0.7777777777777778, \"#fb9f3a\"], [0.8888888888888888, \"#fdca26\"], [1.0, \"#f0f921\"]]}, \"margin\": {\"t\": 60}, \"template\": {\"data\": {\"bar\": [{\"error_x\": {\"color\": \"#2a3f5f\"}, \"error_y\": {\"color\": \"#2a3f5f\"}, \"marker\": {\"line\": {\"color\": \"#E5ECF6\", \"width\": 0.5}}, \"type\": \"bar\"}], \"barpolar\": [{\"marker\": {\"line\": {\"color\": \"#E5ECF6\", \"width\": 0.5}}, \"type\": \"barpolar\"}], \"carpet\": [{\"aaxis\": {\"endlinecolor\": \"#2a3f5f\", \"gridcolor\": \"white\", \"linecolor\": \"white\", \"minorgridcolor\": \"white\", \"startlinecolor\": \"#2a3f5f\"}, \"baxis\": {\"endlinecolor\": \"#2a3f5f\", \"gridcolor\": \"white\", \"linecolor\": \"white\", \"minorgridcolor\": \"white\", \"startlinecolor\": \"#2a3f5f\"}, \"type\": \"carpet\"}], \"choropleth\": [{\"colorbar\": {\"outlinewidth\": 0, \"ticks\": \"\"}, \"type\": \"choropleth\"}], \"contour\": [{\"colorbar\": {\"outlinewidth\": 0, \"ticks\": \"\"}, \"colorscale\": [[0.0, \"#0d0887\"], [0.1111111111111111, \"#46039f\"], [0.2222222222222222, \"#7201a8\"], [0.3333333333333333, \"#9c179e\"], [0.4444444444444444, \"#bd3786\"], [0.5555555555555556, \"#d8576b\"], [0.6666666666666666, \"#ed7953\"], [0.7777777777777778, \"#fb9f3a\"], [0.8888888888888888, \"#fdca26\"], [1.0, \"#f0f921\"]], \"type\": \"contour\"}], \"contourcarpet\": [{\"colorbar\": {\"outlinewidth\": 0, \"ticks\": \"\"}, \"type\": \"contourcarpet\"}], \"heatmap\": [{\"colorbar\": {\"outlinewidth\": 0, \"ticks\": \"\"}, \"colorscale\": [[0.0, \"#0d0887\"], [0.1111111111111111, \"#46039f\"], [0.2222222222222222, \"#7201a8\"], [0.3333333333333333, \"#9c179e\"], [0.4444444444444444, \"#bd3786\"], [0.5555555555555556, \"#d8576b\"], [0.6666666666666666, \"#ed7953\"], [0.7777777777777778, \"#fb9f3a\"], [0.8888888888888888, \"#fdca26\"], [1.0, \"#f0f921\"]], \"type\": \"heatmap\"}], \"heatmapgl\": [{\"colorbar\": {\"outlinewidth\": 0, \"ticks\": \"\"}, \"colorscale\": [[0.0, \"#0d0887\"], [0.1111111111111111, \"#46039f\"], [0.2222222222222222, \"#7201a8\"], [0.3333333333333333, \"#9c179e\"], [0.4444444444444444, \"#bd3786\"], [0.5555555555555556, \"#d8576b\"], [0.6666666666666666, \"#ed7953\"], [0.7777777777777778, \"#fb9f3a\"], [0.8888888888888888, \"#fdca26\"], [1.0, \"#f0f921\"]], \"type\": \"heatmapgl\"}], \"histogram\": [{\"marker\": {\"colorbar\": {\"outlinewidth\": 0, \"ticks\": \"\"}}, \"type\": \"histogram\"}], \"histogram2d\": [{\"colorbar\": {\"outlinewidth\": 0, \"ticks\": \"\"}, \"colorscale\": [[0.0, \"#0d0887\"], [0.1111111111111111, \"#46039f\"], [0.2222222222222222, \"#7201a8\"], [0.3333333333333333, \"#9c179e\"], [0.4444444444444444, \"#bd3786\"], [0.5555555555555556, \"#d8576b\"], [0.6666666666666666, \"#ed7953\"], [0.7777777777777778, \"#fb9f3a\"], [0.8888888888888888, \"#fdca26\"], [1.0, \"#f0f921\"]], \"type\": \"histogram2d\"}], \"histogram2dcontour\": [{\"colorbar\": {\"outlinewidth\": 0, \"ticks\": \"\"}, \"colorscale\": [[0.0, \"#0d0887\"], [0.1111111111111111, \"#46039f\"], [0.2222222222222222, \"#7201a8\"], [0.3333333333333333, \"#9c179e\"], [0.4444444444444444, \"#bd3786\"], [0.5555555555555556, \"#d8576b\"], [0.6666666666666666, \"#ed7953\"], [0.7777777777777778, \"#fb9f3a\"], [0.8888888888888888, \"#fdca26\"], [1.0, \"#f0f921\"]], \"type\": \"histogram2dcontour\"}], \"mesh3d\": [{\"colorbar\": {\"outlinewidth\": 0, \"ticks\": \"\"}, \"type\": \"mesh3d\"}], \"parcoords\": [{\"line\": {\"colorbar\": {\"outlinewidth\": 0, \"ticks\": \"\"}}, \"type\": \"parcoords\"}], \"pie\": [{\"automargin\": true, \"type\": \"pie\"}], \"scatter\": [{\"marker\": {\"colorbar\": {\"outlinewidth\": 0, \"ticks\": \"\"}}, \"type\": \"scatter\"}], \"scatter3d\": [{\"line\": {\"colorbar\": {\"outlinewidth\": 0, \"ticks\": \"\"}}, \"marker\": {\"colorbar\": {\"outlinewidth\": 0, \"ticks\": \"\"}}, \"type\": \"scatter3d\"}], \"scattercarpet\": [{\"marker\": {\"colorbar\": {\"outlinewidth\": 0, \"ticks\": \"\"}}, \"type\": \"scattercarpet\"}], \"scattergeo\": [{\"marker\": {\"colorbar\": {\"outlinewidth\": 0, \"ticks\": \"\"}}, \"type\": \"scattergeo\"}], \"scattergl\": [{\"marker\": {\"colorbar\": {\"outlinewidth\": 0, \"ticks\": \"\"}}, \"type\": \"scattergl\"}], \"scattermapbox\": [{\"marker\": {\"colorbar\": {\"outlinewidth\": 0, \"ticks\": \"\"}}, \"type\": \"scattermapbox\"}], \"scatterpolar\": [{\"marker\": {\"colorbar\": {\"outlinewidth\": 0, \"ticks\": \"\"}}, \"type\": \"scatterpolar\"}], \"scatterpolargl\": [{\"marker\": {\"colorbar\": {\"outlinewidth\": 0, \"ticks\": \"\"}}, \"type\": \"scatterpolargl\"}], \"scatterternary\": [{\"marker\": {\"colorbar\": {\"outlinewidth\": 0, \"ticks\": \"\"}}, \"type\": \"scatterternary\"}], \"surface\": [{\"colorbar\": {\"outlinewidth\": 0, \"ticks\": \"\"}, \"colorscale\": [[0.0, \"#0d0887\"], [0.1111111111111111, \"#46039f\"], [0.2222222222222222, \"#7201a8\"], [0.3333333333333333, \"#9c179e\"], [0.4444444444444444, \"#bd3786\"], [0.5555555555555556, \"#d8576b\"], [0.6666666666666666, \"#ed7953\"], [0.7777777777777778, \"#fb9f3a\"], [0.8888888888888888, \"#fdca26\"], [1.0, \"#f0f921\"]], \"type\": \"surface\"}], \"table\": [{\"cells\": {\"fill\": {\"color\": \"#EBF0F8\"}, \"line\": {\"color\": \"white\"}}, \"header\": {\"fill\": {\"color\": \"#C8D4E3\"}, \"line\": {\"color\": \"white\"}}, \"type\": \"table\"}]}, \"layout\": {\"annotationdefaults\": {\"arrowcolor\": \"#2a3f5f\", \"arrowhead\": 0, \"arrowwidth\": 1}, \"autotypenumbers\": \"strict\", \"coloraxis\": {\"colorbar\": {\"outlinewidth\": 0, \"ticks\": \"\"}}, \"colorscale\": {\"diverging\": [[0, \"#8e0152\"], [0.1, \"#c51b7d\"], [0.2, \"#de77ae\"], [0.3, \"#f1b6da\"], [0.4, \"#fde0ef\"], [0.5, \"#f7f7f7\"], [0.6, \"#e6f5d0\"], [0.7, \"#b8e186\"], [0.8, \"#7fbc41\"], [0.9, \"#4d9221\"], [1, \"#276419\"]], \"sequential\": [[0.0, \"#0d0887\"], [0.1111111111111111, \"#46039f\"], [0.2222222222222222, \"#7201a8\"], [0.3333333333333333, \"#9c179e\"], [0.4444444444444444, \"#bd3786\"], [0.5555555555555556, \"#d8576b\"], [0.6666666666666666, \"#ed7953\"], [0.7777777777777778, \"#fb9f3a\"], [0.8888888888888888, \"#fdca26\"], [1.0, \"#f0f921\"]], \"sequentialminus\": [[0.0, \"#0d0887\"], [0.1111111111111111, \"#46039f\"], [0.2222222222222222, \"#7201a8\"], [0.3333333333333333, \"#9c179e\"], [0.4444444444444444, \"#bd3786\"], [0.5555555555555556, \"#d8576b\"], [0.6666666666666666, \"#ed7953\"], [0.7777777777777778, \"#fb9f3a\"], [0.8888888888888888, \"#fdca26\"], [1.0, \"#f0f921\"]]}, \"colorway\": [\"#636efa\", \"#EF553B\", \"#00cc96\", \"#ab63fa\", \"#FFA15A\", \"#19d3f3\", \"#FF6692\", \"#B6E880\", \"#FF97FF\", \"#FECB52\"], \"font\": {\"color\": \"#2a3f5f\"}, \"geo\": {\"bgcolor\": \"white\", \"lakecolor\": \"white\", \"landcolor\": \"#E5ECF6\", \"showlakes\": true, \"showland\": true, \"subunitcolor\": \"white\"}, \"hoverlabel\": {\"align\": \"left\"}, \"hovermode\": \"closest\", \"mapbox\": {\"style\": \"light\"}, \"paper_bgcolor\": \"white\", \"plot_bgcolor\": \"#E5ECF6\", \"polar\": {\"angularaxis\": {\"gridcolor\": \"white\", \"linecolor\": \"white\", \"ticks\": \"\"}, \"bgcolor\": \"#E5ECF6\", \"radialaxis\": {\"gridcolor\": \"white\", \"linecolor\": \"white\", \"ticks\": \"\"}}, \"scene\": {\"xaxis\": {\"backgroundcolor\": \"#E5ECF6\", \"gridcolor\": \"white\", \"gridwidth\": 2, \"linecolor\": \"white\", \"showbackground\": true, \"ticks\": \"\", \"zerolinecolor\": \"white\"}, \"yaxis\": {\"backgroundcolor\": \"#E5ECF6\", \"gridcolor\": \"white\", \"gridwidth\": 2, \"linecolor\": \"white\", \"showbackground\": true, \"ticks\": \"\", \"zerolinecolor\": \"white\"}, \"zaxis\": {\"backgroundcolor\": \"#E5ECF6\", \"gridcolor\": \"white\", \"gridwidth\": 2, \"linecolor\": \"white\", \"showbackground\": true, \"ticks\": \"\", \"zerolinecolor\": \"white\"}}, \"shapedefaults\": {\"line\": {\"color\": \"#2a3f5f\"}}, \"ternary\": {\"aaxis\": {\"gridcolor\": \"white\", \"linecolor\": \"white\", \"ticks\": \"\"}, \"baxis\": {\"gridcolor\": \"white\", \"linecolor\": \"white\", \"ticks\": \"\"}, \"bgcolor\": \"#E5ECF6\", \"caxis\": {\"gridcolor\": \"white\", \"linecolor\": \"white\", \"ticks\": \"\"}}, \"title\": {\"x\": 0.05}, \"xaxis\": {\"automargin\": true, \"gridcolor\": \"white\", \"linecolor\": \"white\", \"ticks\": \"\", \"title\": {\"standoff\": 15}, \"zerolinecolor\": \"white\", \"zerolinewidth\": 2}, \"yaxis\": {\"automargin\": true, \"gridcolor\": \"white\", \"linecolor\": \"white\", \"ticks\": \"\", \"title\": {\"standoff\": 15}, \"zerolinecolor\": \"white\", \"zerolinewidth\": 2}}}, \"xaxis\": {\"anchor\": \"y\", \"constrain\": \"domain\", \"domain\": [0.0, 1.0], \"scaleanchor\": \"y\"}, \"yaxis\": {\"anchor\": \"x\", \"autorange\": \"reversed\", \"constrain\": \"domain\", \"domain\": [0.0, 1.0], \"title\": {\"text\": \"samples\"}}},                        {\"responsive\": true}                    ).then(function(){\n",
       "                            \n",
       "var gd = document.getElementById('51449a2f-362e-4d32-ab78-3c5a7ccd43f1');\n",
       "var x = new MutationObserver(function (mutations, observer) {{\n",
       "        var display = window.getComputedStyle(gd).display;\n",
       "        if (!display || display === 'none') {{\n",
       "            console.log([gd, 'removed!']);\n",
       "            Plotly.purge(gd);\n",
       "            observer.disconnect();\n",
       "        }}\n",
       "}});\n",
       "\n",
       "// Listen for the removal of the full notebook cells\n",
       "var notebookContainer = gd.closest('#notebook-container');\n",
       "if (notebookContainer) {{\n",
       "    x.observe(notebookContainer, {childList: true});\n",
       "}}\n",
       "\n",
       "// Listen for the clearing of the current output cell\n",
       "var outputEl = gd.closest('.output');\n",
       "if (outputEl) {{\n",
       "    x.observe(outputEl, {childList: true});\n",
       "}}\n",
       "\n",
       "                        })                };                });            </script>        </div>"
      ]
     },
     "metadata": {},
     "output_type": "display_data"
    }
   ],
   "source": [
    "#Plot a covariance matrix to visualize the distance between each pairs of samples\n",
    "fig = px.imshow(distance_matrix)\n",
    "fig.show()"
   ]
  },
  {
   "cell_type": "code",
   "execution_count": 115,
   "metadata": {},
   "outputs": [],
   "source": [
    "#Let's import the metadata to make sense of the PCA\n",
    "#skip rows is now in brackets, meaning we remove the row 1, not the first row (python counts 0,1,2...)\n",
    "mtda = pd.read_csv('~/normalization_pipeline/test/sample-metadata.tsv', sep='\\t',skiprows=[1])"
   ]
  },
  {
   "cell_type": "code",
   "execution_count": 116,
   "metadata": {
    "scrolled": false
   },
   "outputs": [
    {
     "data": {
      "text/html": [
       "<div>\n",
       "<style scoped>\n",
       "    .dataframe tbody tr th:only-of-type {\n",
       "        vertical-align: middle;\n",
       "    }\n",
       "\n",
       "    .dataframe tbody tr th {\n",
       "        vertical-align: top;\n",
       "    }\n",
       "\n",
       "    .dataframe thead th {\n",
       "        text-align: right;\n",
       "    }\n",
       "</style>\n",
       "<table border=\"1\" class=\"dataframe\">\n",
       "  <thead>\n",
       "    <tr style=\"text-align: right;\">\n",
       "      <th></th>\n",
       "      <th>sample-id</th>\n",
       "      <th>barcode-sequence</th>\n",
       "      <th>body-site</th>\n",
       "      <th>year</th>\n",
       "      <th>month</th>\n",
       "      <th>day</th>\n",
       "      <th>subject</th>\n",
       "      <th>reported-antibiotic-usage</th>\n",
       "      <th>days-since-experiment-start</th>\n",
       "    </tr>\n",
       "  </thead>\n",
       "  <tbody>\n",
       "    <tr>\n",
       "      <th>0</th>\n",
       "      <td>L1S8</td>\n",
       "      <td>AGCTGACTAGTC</td>\n",
       "      <td>gut</td>\n",
       "      <td>2008</td>\n",
       "      <td>10</td>\n",
       "      <td>28</td>\n",
       "      <td>subject-1</td>\n",
       "      <td>Yes</td>\n",
       "      <td>0</td>\n",
       "    </tr>\n",
       "    <tr>\n",
       "      <th>1</th>\n",
       "      <td>L1S57</td>\n",
       "      <td>ACACACTATGGC</td>\n",
       "      <td>gut</td>\n",
       "      <td>2009</td>\n",
       "      <td>1</td>\n",
       "      <td>20</td>\n",
       "      <td>subject-1</td>\n",
       "      <td>No</td>\n",
       "      <td>84</td>\n",
       "    </tr>\n",
       "    <tr>\n",
       "      <th>2</th>\n",
       "      <td>L1S76</td>\n",
       "      <td>ACTACGTGTGGT</td>\n",
       "      <td>gut</td>\n",
       "      <td>2009</td>\n",
       "      <td>2</td>\n",
       "      <td>17</td>\n",
       "      <td>subject-1</td>\n",
       "      <td>No</td>\n",
       "      <td>112</td>\n",
       "    </tr>\n",
       "    <tr>\n",
       "      <th>3</th>\n",
       "      <td>L1S105</td>\n",
       "      <td>AGTGCGATGCGT</td>\n",
       "      <td>gut</td>\n",
       "      <td>2009</td>\n",
       "      <td>3</td>\n",
       "      <td>17</td>\n",
       "      <td>subject-1</td>\n",
       "      <td>No</td>\n",
       "      <td>140</td>\n",
       "    </tr>\n",
       "    <tr>\n",
       "      <th>4</th>\n",
       "      <td>L2S155</td>\n",
       "      <td>ACGATGCGACCA</td>\n",
       "      <td>left palm</td>\n",
       "      <td>2009</td>\n",
       "      <td>1</td>\n",
       "      <td>20</td>\n",
       "      <td>subject-1</td>\n",
       "      <td>No</td>\n",
       "      <td>84</td>\n",
       "    </tr>\n",
       "  </tbody>\n",
       "</table>\n",
       "</div>"
      ],
      "text/plain": [
       "  sample-id barcode-sequence  body-site  year  month  day    subject  \\\n",
       "0      L1S8     AGCTGACTAGTC        gut  2008     10   28  subject-1   \n",
       "1     L1S57     ACACACTATGGC        gut  2009      1   20  subject-1   \n",
       "2     L1S76     ACTACGTGTGGT        gut  2009      2   17  subject-1   \n",
       "3    L1S105     AGTGCGATGCGT        gut  2009      3   17  subject-1   \n",
       "4    L2S155     ACGATGCGACCA  left palm  2009      1   20  subject-1   \n",
       "\n",
       "  reported-antibiotic-usage  days-since-experiment-start  \n",
       "0                       Yes                            0  \n",
       "1                        No                           84  \n",
       "2                        No                          112  \n",
       "3                        No                          140  \n",
       "4                        No                           84  "
      ]
     },
     "execution_count": 116,
     "metadata": {},
     "output_type": "execute_result"
    }
   ],
   "source": [
    "mtda.head()"
   ]
  },
  {
   "cell_type": "code",
   "execution_count": 176,
   "metadata": {},
   "outputs": [],
   "source": [
    "#In order to compute the permanova test, the distance_matrix has to be reformatted\n",
    "dm = DistanceMatrix(distance_matrix)"
   ]
  },
  {
   "cell_type": "markdown",
   "metadata": {},
   "source": [
    "A permanova test statistically determines if two groups (their centre in geometrical space) are different. Are the samples different between body sites? <a href=\"https://onlinelibrary.wiley.com/doi/pdf/10.1002/9781118445112.stat07841\" target=\"_blank\">More readings</a>"
   ]
  },
  {
   "cell_type": "code",
   "execution_count": 175,
   "metadata": {},
   "outputs": [
    {
     "data": {
      "text/plain": [
       "method name               PERMANOVA\n",
       "test statistic name        pseudo-F\n",
       "sample size                      34\n",
       "number of groups                  4\n",
       "test statistic              1.72268\n",
       "p-value                       0.007\n",
       "number of permutations          999\n",
       "Name: PERMANOVA results, dtype: object"
      ]
     },
     "execution_count": 175,
     "metadata": {},
     "output_type": "execute_result"
    }
   ],
   "source": [
    "#perMANOVA tests the association of the microbiome composition with any of the covariate of\n",
    "#interest, 'body-site' is the column name of the covariate from your metadata\n",
    "permanova(dm, grouping=mtda['body-site'])"
   ]
  },
  {
   "cell_type": "markdown",
   "metadata": {},
   "source": [
    "### Make a PCA plot to visualize your data"
   ]
  },
  {
   "cell_type": "code",
   "execution_count": 154,
   "metadata": {},
   "outputs": [
    {
     "data": {
      "application/vnd.plotly.v1+json": {
       "config": {
        "plotlyServerURL": "https://plot.ly"
       },
       "data": [
        {
         "hovertemplate": "color=gut<br>0=%{x}<br>1=%{y}<extra></extra>",
         "legendgroup": "gut",
         "marker": {
          "color": "#636efa",
          "symbol": "circle"
         },
         "mode": "markers",
         "name": "gut",
         "orientation": "v",
         "showlegend": true,
         "type": "scatter",
         "x": [
          25.96319007913935,
          29.529901067022504,
          50.94588619492845,
          45.138137610574326,
          -33.97771569209307,
          -26.22299194472934,
          -5.907739711611932,
          -30.447873674307303
         ],
         "xaxis": "x",
         "y": [
          61.83820207414989,
          61.27521678214431,
          75.12495215962227,
          75.26456429459554,
          -17.110688074843353,
          -12.221618847151065,
          -7.595748205909772,
          44.081853720801085
         ],
         "yaxis": "y"
        },
        {
         "hovertemplate": "color=left palm<br>0=%{x}<br>1=%{y}<extra></extra>",
         "legendgroup": "left palm",
         "marker": {
          "color": "#EF553B",
          "symbol": "circle"
         },
         "mode": "markers",
         "name": "left palm",
         "orientation": "v",
         "showlegend": true,
         "type": "scatter",
         "x": [
          43.234049510191575,
          44.23893967243349,
          24.974803143556812,
          -2.32861933219428,
          89.68705861895847,
          89.6386218889886,
          158.53435753535342,
          -70.93511297468139
         ],
         "xaxis": "x",
         "y": [
          76.29628681025223,
          67.38319803377676,
          70.6181292459111,
          47.870842686460534,
          -57.048988339866746,
          -54.60030579164702,
          -63.33548025336289,
          -14.09709639728462
         ],
         "yaxis": "y"
        },
        {
         "hovertemplate": "color=right palm<br>0=%{x}<br>1=%{y}<extra></extra>",
         "legendgroup": "right palm",
         "marker": {
          "color": "#00cc96",
          "symbol": "circle"
         },
         "mode": "markers",
         "name": "right palm",
         "orientation": "v",
         "showlegend": true,
         "type": "scatter",
         "x": [
          40.482994755720355,
          32.05128181232353,
          27.21782156352091,
          82.27415348760242,
          -51.895706786907844,
          -78.5468007717351,
          -73.28038798780698,
          -74.54818013685802,
          -78.18891388391874
         ],
         "xaxis": "x",
         "y": [
          -35.308174923200774,
          -40.64893034641811,
          -22.49997290462292,
          -32.49620679911606,
          -22.912488035685712,
          -8.923897903801159,
          -13.372927176830366,
          -16.29076423766326,
          -16.850466123887603
         ],
         "yaxis": "y"
        },
        {
         "hovertemplate": "color=tongue<br>0=%{x}<br>1=%{y}<extra></extra>",
         "legendgroup": "tongue",
         "marker": {
          "color": "#ab63fa",
          "symbol": "circle"
         },
         "mode": "markers",
         "name": "tongue",
         "orientation": "v",
         "showlegend": true,
         "type": "scatter",
         "x": [
          -18.465812051599066,
          -17.19011396320015,
          66.28705636308969,
          -45.430432457214394,
          -22.420910109118033,
          -79.99225083828081,
          -53.659102866144984,
          -53.46471653695352,
          -33.29487158404872
         ],
         "xaxis": "x",
         "y": [
          -14.162268254853675,
          -23.713836538105205,
          -38.0887658425728,
          34.12656760936309,
          -11.818892754429148,
          -13.293055226257257,
          -23.48066745765707,
          -25.36711280295918,
          -28.641460178951167
         ],
         "yaxis": "y"
        }
       ],
       "layout": {
        "legend": {
         "title": {
          "text": "color"
         },
         "tracegroupgap": 0
        },
        "margin": {
         "t": 60
        },
        "template": {
         "data": {
          "bar": [
           {
            "error_x": {
             "color": "#2a3f5f"
            },
            "error_y": {
             "color": "#2a3f5f"
            },
            "marker": {
             "line": {
              "color": "#E5ECF6",
              "width": 0.5
             }
            },
            "type": "bar"
           }
          ],
          "barpolar": [
           {
            "marker": {
             "line": {
              "color": "#E5ECF6",
              "width": 0.5
             }
            },
            "type": "barpolar"
           }
          ],
          "carpet": [
           {
            "aaxis": {
             "endlinecolor": "#2a3f5f",
             "gridcolor": "white",
             "linecolor": "white",
             "minorgridcolor": "white",
             "startlinecolor": "#2a3f5f"
            },
            "baxis": {
             "endlinecolor": "#2a3f5f",
             "gridcolor": "white",
             "linecolor": "white",
             "minorgridcolor": "white",
             "startlinecolor": "#2a3f5f"
            },
            "type": "carpet"
           }
          ],
          "choropleth": [
           {
            "colorbar": {
             "outlinewidth": 0,
             "ticks": ""
            },
            "type": "choropleth"
           }
          ],
          "contour": [
           {
            "colorbar": {
             "outlinewidth": 0,
             "ticks": ""
            },
            "colorscale": [
             [
              0,
              "#0d0887"
             ],
             [
              0.1111111111111111,
              "#46039f"
             ],
             [
              0.2222222222222222,
              "#7201a8"
             ],
             [
              0.3333333333333333,
              "#9c179e"
             ],
             [
              0.4444444444444444,
              "#bd3786"
             ],
             [
              0.5555555555555556,
              "#d8576b"
             ],
             [
              0.6666666666666666,
              "#ed7953"
             ],
             [
              0.7777777777777778,
              "#fb9f3a"
             ],
             [
              0.8888888888888888,
              "#fdca26"
             ],
             [
              1,
              "#f0f921"
             ]
            ],
            "type": "contour"
           }
          ],
          "contourcarpet": [
           {
            "colorbar": {
             "outlinewidth": 0,
             "ticks": ""
            },
            "type": "contourcarpet"
           }
          ],
          "heatmap": [
           {
            "colorbar": {
             "outlinewidth": 0,
             "ticks": ""
            },
            "colorscale": [
             [
              0,
              "#0d0887"
             ],
             [
              0.1111111111111111,
              "#46039f"
             ],
             [
              0.2222222222222222,
              "#7201a8"
             ],
             [
              0.3333333333333333,
              "#9c179e"
             ],
             [
              0.4444444444444444,
              "#bd3786"
             ],
             [
              0.5555555555555556,
              "#d8576b"
             ],
             [
              0.6666666666666666,
              "#ed7953"
             ],
             [
              0.7777777777777778,
              "#fb9f3a"
             ],
             [
              0.8888888888888888,
              "#fdca26"
             ],
             [
              1,
              "#f0f921"
             ]
            ],
            "type": "heatmap"
           }
          ],
          "heatmapgl": [
           {
            "colorbar": {
             "outlinewidth": 0,
             "ticks": ""
            },
            "colorscale": [
             [
              0,
              "#0d0887"
             ],
             [
              0.1111111111111111,
              "#46039f"
             ],
             [
              0.2222222222222222,
              "#7201a8"
             ],
             [
              0.3333333333333333,
              "#9c179e"
             ],
             [
              0.4444444444444444,
              "#bd3786"
             ],
             [
              0.5555555555555556,
              "#d8576b"
             ],
             [
              0.6666666666666666,
              "#ed7953"
             ],
             [
              0.7777777777777778,
              "#fb9f3a"
             ],
             [
              0.8888888888888888,
              "#fdca26"
             ],
             [
              1,
              "#f0f921"
             ]
            ],
            "type": "heatmapgl"
           }
          ],
          "histogram": [
           {
            "marker": {
             "colorbar": {
              "outlinewidth": 0,
              "ticks": ""
             }
            },
            "type": "histogram"
           }
          ],
          "histogram2d": [
           {
            "colorbar": {
             "outlinewidth": 0,
             "ticks": ""
            },
            "colorscale": [
             [
              0,
              "#0d0887"
             ],
             [
              0.1111111111111111,
              "#46039f"
             ],
             [
              0.2222222222222222,
              "#7201a8"
             ],
             [
              0.3333333333333333,
              "#9c179e"
             ],
             [
              0.4444444444444444,
              "#bd3786"
             ],
             [
              0.5555555555555556,
              "#d8576b"
             ],
             [
              0.6666666666666666,
              "#ed7953"
             ],
             [
              0.7777777777777778,
              "#fb9f3a"
             ],
             [
              0.8888888888888888,
              "#fdca26"
             ],
             [
              1,
              "#f0f921"
             ]
            ],
            "type": "histogram2d"
           }
          ],
          "histogram2dcontour": [
           {
            "colorbar": {
             "outlinewidth": 0,
             "ticks": ""
            },
            "colorscale": [
             [
              0,
              "#0d0887"
             ],
             [
              0.1111111111111111,
              "#46039f"
             ],
             [
              0.2222222222222222,
              "#7201a8"
             ],
             [
              0.3333333333333333,
              "#9c179e"
             ],
             [
              0.4444444444444444,
              "#bd3786"
             ],
             [
              0.5555555555555556,
              "#d8576b"
             ],
             [
              0.6666666666666666,
              "#ed7953"
             ],
             [
              0.7777777777777778,
              "#fb9f3a"
             ],
             [
              0.8888888888888888,
              "#fdca26"
             ],
             [
              1,
              "#f0f921"
             ]
            ],
            "type": "histogram2dcontour"
           }
          ],
          "mesh3d": [
           {
            "colorbar": {
             "outlinewidth": 0,
             "ticks": ""
            },
            "type": "mesh3d"
           }
          ],
          "parcoords": [
           {
            "line": {
             "colorbar": {
              "outlinewidth": 0,
              "ticks": ""
             }
            },
            "type": "parcoords"
           }
          ],
          "pie": [
           {
            "automargin": true,
            "type": "pie"
           }
          ],
          "scatter": [
           {
            "marker": {
             "colorbar": {
              "outlinewidth": 0,
              "ticks": ""
             }
            },
            "type": "scatter"
           }
          ],
          "scatter3d": [
           {
            "line": {
             "colorbar": {
              "outlinewidth": 0,
              "ticks": ""
             }
            },
            "marker": {
             "colorbar": {
              "outlinewidth": 0,
              "ticks": ""
             }
            },
            "type": "scatter3d"
           }
          ],
          "scattercarpet": [
           {
            "marker": {
             "colorbar": {
              "outlinewidth": 0,
              "ticks": ""
             }
            },
            "type": "scattercarpet"
           }
          ],
          "scattergeo": [
           {
            "marker": {
             "colorbar": {
              "outlinewidth": 0,
              "ticks": ""
             }
            },
            "type": "scattergeo"
           }
          ],
          "scattergl": [
           {
            "marker": {
             "colorbar": {
              "outlinewidth": 0,
              "ticks": ""
             }
            },
            "type": "scattergl"
           }
          ],
          "scattermapbox": [
           {
            "marker": {
             "colorbar": {
              "outlinewidth": 0,
              "ticks": ""
             }
            },
            "type": "scattermapbox"
           }
          ],
          "scatterpolar": [
           {
            "marker": {
             "colorbar": {
              "outlinewidth": 0,
              "ticks": ""
             }
            },
            "type": "scatterpolar"
           }
          ],
          "scatterpolargl": [
           {
            "marker": {
             "colorbar": {
              "outlinewidth": 0,
              "ticks": ""
             }
            },
            "type": "scatterpolargl"
           }
          ],
          "scatterternary": [
           {
            "marker": {
             "colorbar": {
              "outlinewidth": 0,
              "ticks": ""
             }
            },
            "type": "scatterternary"
           }
          ],
          "surface": [
           {
            "colorbar": {
             "outlinewidth": 0,
             "ticks": ""
            },
            "colorscale": [
             [
              0,
              "#0d0887"
             ],
             [
              0.1111111111111111,
              "#46039f"
             ],
             [
              0.2222222222222222,
              "#7201a8"
             ],
             [
              0.3333333333333333,
              "#9c179e"
             ],
             [
              0.4444444444444444,
              "#bd3786"
             ],
             [
              0.5555555555555556,
              "#d8576b"
             ],
             [
              0.6666666666666666,
              "#ed7953"
             ],
             [
              0.7777777777777778,
              "#fb9f3a"
             ],
             [
              0.8888888888888888,
              "#fdca26"
             ],
             [
              1,
              "#f0f921"
             ]
            ],
            "type": "surface"
           }
          ],
          "table": [
           {
            "cells": {
             "fill": {
              "color": "#EBF0F8"
             },
             "line": {
              "color": "white"
             }
            },
            "header": {
             "fill": {
              "color": "#C8D4E3"
             },
             "line": {
              "color": "white"
             }
            },
            "type": "table"
           }
          ]
         },
         "layout": {
          "annotationdefaults": {
           "arrowcolor": "#2a3f5f",
           "arrowhead": 0,
           "arrowwidth": 1
          },
          "autotypenumbers": "strict",
          "coloraxis": {
           "colorbar": {
            "outlinewidth": 0,
            "ticks": ""
           }
          },
          "colorscale": {
           "diverging": [
            [
             0,
             "#8e0152"
            ],
            [
             0.1,
             "#c51b7d"
            ],
            [
             0.2,
             "#de77ae"
            ],
            [
             0.3,
             "#f1b6da"
            ],
            [
             0.4,
             "#fde0ef"
            ],
            [
             0.5,
             "#f7f7f7"
            ],
            [
             0.6,
             "#e6f5d0"
            ],
            [
             0.7,
             "#b8e186"
            ],
            [
             0.8,
             "#7fbc41"
            ],
            [
             0.9,
             "#4d9221"
            ],
            [
             1,
             "#276419"
            ]
           ],
           "sequential": [
            [
             0,
             "#0d0887"
            ],
            [
             0.1111111111111111,
             "#46039f"
            ],
            [
             0.2222222222222222,
             "#7201a8"
            ],
            [
             0.3333333333333333,
             "#9c179e"
            ],
            [
             0.4444444444444444,
             "#bd3786"
            ],
            [
             0.5555555555555556,
             "#d8576b"
            ],
            [
             0.6666666666666666,
             "#ed7953"
            ],
            [
             0.7777777777777778,
             "#fb9f3a"
            ],
            [
             0.8888888888888888,
             "#fdca26"
            ],
            [
             1,
             "#f0f921"
            ]
           ],
           "sequentialminus": [
            [
             0,
             "#0d0887"
            ],
            [
             0.1111111111111111,
             "#46039f"
            ],
            [
             0.2222222222222222,
             "#7201a8"
            ],
            [
             0.3333333333333333,
             "#9c179e"
            ],
            [
             0.4444444444444444,
             "#bd3786"
            ],
            [
             0.5555555555555556,
             "#d8576b"
            ],
            [
             0.6666666666666666,
             "#ed7953"
            ],
            [
             0.7777777777777778,
             "#fb9f3a"
            ],
            [
             0.8888888888888888,
             "#fdca26"
            ],
            [
             1,
             "#f0f921"
            ]
           ]
          },
          "colorway": [
           "#636efa",
           "#EF553B",
           "#00cc96",
           "#ab63fa",
           "#FFA15A",
           "#19d3f3",
           "#FF6692",
           "#B6E880",
           "#FF97FF",
           "#FECB52"
          ],
          "font": {
           "color": "#2a3f5f"
          },
          "geo": {
           "bgcolor": "white",
           "lakecolor": "white",
           "landcolor": "#E5ECF6",
           "showlakes": true,
           "showland": true,
           "subunitcolor": "white"
          },
          "hoverlabel": {
           "align": "left"
          },
          "hovermode": "closest",
          "mapbox": {
           "style": "light"
          },
          "paper_bgcolor": "white",
          "plot_bgcolor": "#E5ECF6",
          "polar": {
           "angularaxis": {
            "gridcolor": "white",
            "linecolor": "white",
            "ticks": ""
           },
           "bgcolor": "#E5ECF6",
           "radialaxis": {
            "gridcolor": "white",
            "linecolor": "white",
            "ticks": ""
           }
          },
          "scene": {
           "xaxis": {
            "backgroundcolor": "#E5ECF6",
            "gridcolor": "white",
            "gridwidth": 2,
            "linecolor": "white",
            "showbackground": true,
            "ticks": "",
            "zerolinecolor": "white"
           },
           "yaxis": {
            "backgroundcolor": "#E5ECF6",
            "gridcolor": "white",
            "gridwidth": 2,
            "linecolor": "white",
            "showbackground": true,
            "ticks": "",
            "zerolinecolor": "white"
           },
           "zaxis": {
            "backgroundcolor": "#E5ECF6",
            "gridcolor": "white",
            "gridwidth": 2,
            "linecolor": "white",
            "showbackground": true,
            "ticks": "",
            "zerolinecolor": "white"
           }
          },
          "shapedefaults": {
           "line": {
            "color": "#2a3f5f"
           }
          },
          "ternary": {
           "aaxis": {
            "gridcolor": "white",
            "linecolor": "white",
            "ticks": ""
           },
           "baxis": {
            "gridcolor": "white",
            "linecolor": "white",
            "ticks": ""
           },
           "bgcolor": "#E5ECF6",
           "caxis": {
            "gridcolor": "white",
            "linecolor": "white",
            "ticks": ""
           }
          },
          "title": {
           "x": 0.05
          },
          "xaxis": {
           "automargin": true,
           "gridcolor": "white",
           "linecolor": "white",
           "ticks": "",
           "title": {
            "standoff": 15
           },
           "zerolinecolor": "white",
           "zerolinewidth": 2
          },
          "yaxis": {
           "automargin": true,
           "gridcolor": "white",
           "linecolor": "white",
           "ticks": "",
           "title": {
            "standoff": 15
           },
           "zerolinecolor": "white",
           "zerolinewidth": 2
          }
         }
        },
        "xaxis": {
         "anchor": "y",
         "domain": [
          0,
          1
         ],
         "title": {
          "text": "0"
         }
        },
        "yaxis": {
         "anchor": "x",
         "domain": [
          0,
          1
         ],
         "title": {
          "text": "1"
         }
        }
       }
      },
      "text/html": [
       "<div>                            <div id=\"6bd3604f-2df6-4b16-b03d-0b03d66f66ee\" class=\"plotly-graph-div\" style=\"height:525px; width:100%;\"></div>            <script type=\"text/javascript\">                require([\"plotly\"], function(Plotly) {                    window.PLOTLYENV=window.PLOTLYENV || {};                                    if (document.getElementById(\"6bd3604f-2df6-4b16-b03d-0b03d66f66ee\")) {                    Plotly.newPlot(                        \"6bd3604f-2df6-4b16-b03d-0b03d66f66ee\",                        [{\"hovertemplate\": \"color=gut<br>0=%{x}<br>1=%{y}<extra></extra>\", \"legendgroup\": \"gut\", \"marker\": {\"color\": \"#636efa\", \"symbol\": \"circle\"}, \"mode\": \"markers\", \"name\": \"gut\", \"orientation\": \"v\", \"showlegend\": true, \"type\": \"scatter\", \"x\": [25.96319007913935, 29.529901067022504, 50.94588619492845, 45.138137610574326, -33.97771569209307, -26.22299194472934, -5.907739711611932, -30.447873674307303], \"xaxis\": \"x\", \"y\": [61.83820207414989, 61.27521678214431, 75.12495215962227, 75.26456429459554, -17.110688074843353, -12.221618847151065, -7.595748205909772, 44.081853720801085], \"yaxis\": \"y\"}, {\"hovertemplate\": \"color=left palm<br>0=%{x}<br>1=%{y}<extra></extra>\", \"legendgroup\": \"left palm\", \"marker\": {\"color\": \"#EF553B\", \"symbol\": \"circle\"}, \"mode\": \"markers\", \"name\": \"left palm\", \"orientation\": \"v\", \"showlegend\": true, \"type\": \"scatter\", \"x\": [43.234049510191575, 44.23893967243349, 24.974803143556812, -2.32861933219428, 89.68705861895847, 89.6386218889886, 158.53435753535342, -70.93511297468139], \"xaxis\": \"x\", \"y\": [76.29628681025223, 67.38319803377676, 70.6181292459111, 47.870842686460534, -57.048988339866746, -54.60030579164702, -63.33548025336289, -14.09709639728462], \"yaxis\": \"y\"}, {\"hovertemplate\": \"color=right palm<br>0=%{x}<br>1=%{y}<extra></extra>\", \"legendgroup\": \"right palm\", \"marker\": {\"color\": \"#00cc96\", \"symbol\": \"circle\"}, \"mode\": \"markers\", \"name\": \"right palm\", \"orientation\": \"v\", \"showlegend\": true, \"type\": \"scatter\", \"x\": [40.482994755720355, 32.05128181232353, 27.21782156352091, 82.27415348760242, -51.895706786907844, -78.5468007717351, -73.28038798780698, -74.54818013685802, -78.18891388391874], \"xaxis\": \"x\", \"y\": [-35.308174923200774, -40.64893034641811, -22.49997290462292, -32.49620679911606, -22.912488035685712, -8.923897903801159, -13.372927176830366, -16.29076423766326, -16.850466123887603], \"yaxis\": \"y\"}, {\"hovertemplate\": \"color=tongue<br>0=%{x}<br>1=%{y}<extra></extra>\", \"legendgroup\": \"tongue\", \"marker\": {\"color\": \"#ab63fa\", \"symbol\": \"circle\"}, \"mode\": \"markers\", \"name\": \"tongue\", \"orientation\": \"v\", \"showlegend\": true, \"type\": \"scatter\", \"x\": [-18.465812051599066, -17.19011396320015, 66.28705636308969, -45.430432457214394, -22.420910109118033, -79.99225083828081, -53.659102866144984, -53.46471653695352, -33.29487158404872], \"xaxis\": \"x\", \"y\": [-14.162268254853675, -23.713836538105205, -38.0887658425728, 34.12656760936309, -11.818892754429148, -13.293055226257257, -23.48066745765707, -25.36711280295918, -28.641460178951167], \"yaxis\": \"y\"}],                        {\"legend\": {\"title\": {\"text\": \"color\"}, \"tracegroupgap\": 0}, \"margin\": {\"t\": 60}, \"template\": {\"data\": {\"bar\": [{\"error_x\": {\"color\": \"#2a3f5f\"}, \"error_y\": {\"color\": \"#2a3f5f\"}, \"marker\": {\"line\": {\"color\": \"#E5ECF6\", \"width\": 0.5}}, \"type\": \"bar\"}], \"barpolar\": [{\"marker\": {\"line\": {\"color\": \"#E5ECF6\", \"width\": 0.5}}, \"type\": \"barpolar\"}], \"carpet\": [{\"aaxis\": {\"endlinecolor\": \"#2a3f5f\", \"gridcolor\": \"white\", \"linecolor\": \"white\", \"minorgridcolor\": \"white\", \"startlinecolor\": \"#2a3f5f\"}, \"baxis\": {\"endlinecolor\": \"#2a3f5f\", \"gridcolor\": \"white\", \"linecolor\": \"white\", \"minorgridcolor\": \"white\", \"startlinecolor\": \"#2a3f5f\"}, \"type\": \"carpet\"}], \"choropleth\": [{\"colorbar\": {\"outlinewidth\": 0, \"ticks\": \"\"}, \"type\": \"choropleth\"}], \"contour\": [{\"colorbar\": {\"outlinewidth\": 0, \"ticks\": \"\"}, \"colorscale\": [[0.0, \"#0d0887\"], [0.1111111111111111, \"#46039f\"], [0.2222222222222222, \"#7201a8\"], [0.3333333333333333, \"#9c179e\"], [0.4444444444444444, \"#bd3786\"], [0.5555555555555556, \"#d8576b\"], [0.6666666666666666, \"#ed7953\"], [0.7777777777777778, \"#fb9f3a\"], [0.8888888888888888, \"#fdca26\"], [1.0, \"#f0f921\"]], \"type\": \"contour\"}], \"contourcarpet\": [{\"colorbar\": {\"outlinewidth\": 0, \"ticks\": \"\"}, \"type\": \"contourcarpet\"}], \"heatmap\": [{\"colorbar\": {\"outlinewidth\": 0, \"ticks\": \"\"}, \"colorscale\": [[0.0, \"#0d0887\"], [0.1111111111111111, \"#46039f\"], [0.2222222222222222, \"#7201a8\"], [0.3333333333333333, \"#9c179e\"], [0.4444444444444444, \"#bd3786\"], [0.5555555555555556, \"#d8576b\"], [0.6666666666666666, \"#ed7953\"], [0.7777777777777778, \"#fb9f3a\"], [0.8888888888888888, \"#fdca26\"], [1.0, \"#f0f921\"]], \"type\": \"heatmap\"}], \"heatmapgl\": [{\"colorbar\": {\"outlinewidth\": 0, \"ticks\": \"\"}, \"colorscale\": [[0.0, \"#0d0887\"], [0.1111111111111111, \"#46039f\"], [0.2222222222222222, \"#7201a8\"], [0.3333333333333333, \"#9c179e\"], [0.4444444444444444, \"#bd3786\"], [0.5555555555555556, \"#d8576b\"], [0.6666666666666666, \"#ed7953\"], [0.7777777777777778, \"#fb9f3a\"], [0.8888888888888888, \"#fdca26\"], [1.0, \"#f0f921\"]], \"type\": \"heatmapgl\"}], \"histogram\": [{\"marker\": {\"colorbar\": {\"outlinewidth\": 0, \"ticks\": \"\"}}, \"type\": \"histogram\"}], \"histogram2d\": [{\"colorbar\": {\"outlinewidth\": 0, \"ticks\": \"\"}, \"colorscale\": [[0.0, \"#0d0887\"], [0.1111111111111111, \"#46039f\"], [0.2222222222222222, \"#7201a8\"], [0.3333333333333333, \"#9c179e\"], [0.4444444444444444, \"#bd3786\"], [0.5555555555555556, \"#d8576b\"], [0.6666666666666666, \"#ed7953\"], [0.7777777777777778, \"#fb9f3a\"], [0.8888888888888888, \"#fdca26\"], [1.0, \"#f0f921\"]], \"type\": \"histogram2d\"}], \"histogram2dcontour\": [{\"colorbar\": {\"outlinewidth\": 0, \"ticks\": \"\"}, \"colorscale\": [[0.0, \"#0d0887\"], [0.1111111111111111, \"#46039f\"], [0.2222222222222222, \"#7201a8\"], [0.3333333333333333, \"#9c179e\"], [0.4444444444444444, \"#bd3786\"], [0.5555555555555556, \"#d8576b\"], [0.6666666666666666, \"#ed7953\"], [0.7777777777777778, \"#fb9f3a\"], [0.8888888888888888, \"#fdca26\"], [1.0, \"#f0f921\"]], \"type\": \"histogram2dcontour\"}], \"mesh3d\": [{\"colorbar\": {\"outlinewidth\": 0, \"ticks\": \"\"}, \"type\": \"mesh3d\"}], \"parcoords\": [{\"line\": {\"colorbar\": {\"outlinewidth\": 0, \"ticks\": \"\"}}, \"type\": \"parcoords\"}], \"pie\": [{\"automargin\": true, \"type\": \"pie\"}], \"scatter\": [{\"marker\": {\"colorbar\": {\"outlinewidth\": 0, \"ticks\": \"\"}}, \"type\": \"scatter\"}], \"scatter3d\": [{\"line\": {\"colorbar\": {\"outlinewidth\": 0, \"ticks\": \"\"}}, \"marker\": {\"colorbar\": {\"outlinewidth\": 0, \"ticks\": \"\"}}, \"type\": \"scatter3d\"}], \"scattercarpet\": [{\"marker\": {\"colorbar\": {\"outlinewidth\": 0, \"ticks\": \"\"}}, \"type\": \"scattercarpet\"}], \"scattergeo\": [{\"marker\": {\"colorbar\": {\"outlinewidth\": 0, \"ticks\": \"\"}}, \"type\": \"scattergeo\"}], \"scattergl\": [{\"marker\": {\"colorbar\": {\"outlinewidth\": 0, \"ticks\": \"\"}}, \"type\": \"scattergl\"}], \"scattermapbox\": [{\"marker\": {\"colorbar\": {\"outlinewidth\": 0, \"ticks\": \"\"}}, \"type\": \"scattermapbox\"}], \"scatterpolar\": [{\"marker\": {\"colorbar\": {\"outlinewidth\": 0, \"ticks\": \"\"}}, \"type\": \"scatterpolar\"}], \"scatterpolargl\": [{\"marker\": {\"colorbar\": {\"outlinewidth\": 0, \"ticks\": \"\"}}, \"type\": \"scatterpolargl\"}], \"scatterternary\": [{\"marker\": {\"colorbar\": {\"outlinewidth\": 0, \"ticks\": \"\"}}, \"type\": \"scatterternary\"}], \"surface\": [{\"colorbar\": {\"outlinewidth\": 0, \"ticks\": \"\"}, \"colorscale\": [[0.0, \"#0d0887\"], [0.1111111111111111, \"#46039f\"], [0.2222222222222222, \"#7201a8\"], [0.3333333333333333, \"#9c179e\"], [0.4444444444444444, \"#bd3786\"], [0.5555555555555556, \"#d8576b\"], [0.6666666666666666, \"#ed7953\"], [0.7777777777777778, \"#fb9f3a\"], [0.8888888888888888, \"#fdca26\"], [1.0, \"#f0f921\"]], \"type\": \"surface\"}], \"table\": [{\"cells\": {\"fill\": {\"color\": \"#EBF0F8\"}, \"line\": {\"color\": \"white\"}}, \"header\": {\"fill\": {\"color\": \"#C8D4E3\"}, \"line\": {\"color\": \"white\"}}, \"type\": \"table\"}]}, \"layout\": {\"annotationdefaults\": {\"arrowcolor\": \"#2a3f5f\", \"arrowhead\": 0, \"arrowwidth\": 1}, \"autotypenumbers\": \"strict\", \"coloraxis\": {\"colorbar\": {\"outlinewidth\": 0, \"ticks\": \"\"}}, \"colorscale\": {\"diverging\": [[0, \"#8e0152\"], [0.1, \"#c51b7d\"], [0.2, \"#de77ae\"], [0.3, \"#f1b6da\"], [0.4, \"#fde0ef\"], [0.5, \"#f7f7f7\"], [0.6, \"#e6f5d0\"], [0.7, \"#b8e186\"], [0.8, \"#7fbc41\"], [0.9, \"#4d9221\"], [1, \"#276419\"]], \"sequential\": [[0.0, \"#0d0887\"], [0.1111111111111111, \"#46039f\"], [0.2222222222222222, \"#7201a8\"], [0.3333333333333333, \"#9c179e\"], [0.4444444444444444, \"#bd3786\"], [0.5555555555555556, \"#d8576b\"], [0.6666666666666666, \"#ed7953\"], [0.7777777777777778, \"#fb9f3a\"], [0.8888888888888888, \"#fdca26\"], [1.0, \"#f0f921\"]], \"sequentialminus\": [[0.0, \"#0d0887\"], [0.1111111111111111, \"#46039f\"], [0.2222222222222222, \"#7201a8\"], [0.3333333333333333, \"#9c179e\"], [0.4444444444444444, \"#bd3786\"], [0.5555555555555556, \"#d8576b\"], [0.6666666666666666, \"#ed7953\"], [0.7777777777777778, \"#fb9f3a\"], [0.8888888888888888, \"#fdca26\"], [1.0, \"#f0f921\"]]}, \"colorway\": [\"#636efa\", \"#EF553B\", \"#00cc96\", \"#ab63fa\", \"#FFA15A\", \"#19d3f3\", \"#FF6692\", \"#B6E880\", \"#FF97FF\", \"#FECB52\"], \"font\": {\"color\": \"#2a3f5f\"}, \"geo\": {\"bgcolor\": \"white\", \"lakecolor\": \"white\", \"landcolor\": \"#E5ECF6\", \"showlakes\": true, \"showland\": true, \"subunitcolor\": \"white\"}, \"hoverlabel\": {\"align\": \"left\"}, \"hovermode\": \"closest\", \"mapbox\": {\"style\": \"light\"}, \"paper_bgcolor\": \"white\", \"plot_bgcolor\": \"#E5ECF6\", \"polar\": {\"angularaxis\": {\"gridcolor\": \"white\", \"linecolor\": \"white\", \"ticks\": \"\"}, \"bgcolor\": \"#E5ECF6\", \"radialaxis\": {\"gridcolor\": \"white\", \"linecolor\": \"white\", \"ticks\": \"\"}}, \"scene\": {\"xaxis\": {\"backgroundcolor\": \"#E5ECF6\", \"gridcolor\": \"white\", \"gridwidth\": 2, \"linecolor\": \"white\", \"showbackground\": true, \"ticks\": \"\", \"zerolinecolor\": \"white\"}, \"yaxis\": {\"backgroundcolor\": \"#E5ECF6\", \"gridcolor\": \"white\", \"gridwidth\": 2, \"linecolor\": \"white\", \"showbackground\": true, \"ticks\": \"\", \"zerolinecolor\": \"white\"}, \"zaxis\": {\"backgroundcolor\": \"#E5ECF6\", \"gridcolor\": \"white\", \"gridwidth\": 2, \"linecolor\": \"white\", \"showbackground\": true, \"ticks\": \"\", \"zerolinecolor\": \"white\"}}, \"shapedefaults\": {\"line\": {\"color\": \"#2a3f5f\"}}, \"ternary\": {\"aaxis\": {\"gridcolor\": \"white\", \"linecolor\": \"white\", \"ticks\": \"\"}, \"baxis\": {\"gridcolor\": \"white\", \"linecolor\": \"white\", \"ticks\": \"\"}, \"bgcolor\": \"#E5ECF6\", \"caxis\": {\"gridcolor\": \"white\", \"linecolor\": \"white\", \"ticks\": \"\"}}, \"title\": {\"x\": 0.05}, \"xaxis\": {\"automargin\": true, \"gridcolor\": \"white\", \"linecolor\": \"white\", \"ticks\": \"\", \"title\": {\"standoff\": 15}, \"zerolinecolor\": \"white\", \"zerolinewidth\": 2}, \"yaxis\": {\"automargin\": true, \"gridcolor\": \"white\", \"linecolor\": \"white\", \"ticks\": \"\", \"title\": {\"standoff\": 15}, \"zerolinecolor\": \"white\", \"zerolinewidth\": 2}}}, \"xaxis\": {\"anchor\": \"y\", \"domain\": [0.0, 1.0], \"title\": {\"text\": \"0\"}}, \"yaxis\": {\"anchor\": \"x\", \"domain\": [0.0, 1.0], \"title\": {\"text\": \"1\"}}},                        {\"responsive\": true}                    ).then(function(){\n",
       "                            \n",
       "var gd = document.getElementById('6bd3604f-2df6-4b16-b03d-0b03d66f66ee');\n",
       "var x = new MutationObserver(function (mutations, observer) {{\n",
       "        var display = window.getComputedStyle(gd).display;\n",
       "        if (!display || display === 'none') {{\n",
       "            console.log([gd, 'removed!']);\n",
       "            Plotly.purge(gd);\n",
       "            observer.disconnect();\n",
       "        }}\n",
       "}});\n",
       "\n",
       "// Listen for the removal of the full notebook cells\n",
       "var notebookContainer = gd.closest('#notebook-container');\n",
       "if (notebookContainer) {{\n",
       "    x.observe(notebookContainer, {childList: true});\n",
       "}}\n",
       "\n",
       "// Listen for the clearing of the current output cell\n",
       "var outputEl = gd.closest('.output');\n",
       "if (outputEl) {{\n",
       "    x.observe(outputEl, {childList: true});\n",
       "}}\n",
       "\n",
       "                        })                };                });            </script>        </div>"
      ]
     },
     "metadata": {},
     "output_type": "display_data"
    }
   ],
   "source": [
    "#Relationship between samples with the distance matrix\n",
    "pca = PCA(n_components=2)\n",
    "components = pca.fit_transform(distance_matrix)\n",
    "\n",
    "fig = px.scatter(components, x=0, y=1, color=mtda['body-site'])\n",
    "fig.show()"
   ]
  },
  {
   "cell_type": "code",
   "execution_count": 135,
   "metadata": {},
   "outputs": [
    {
     "data": {
      "application/vnd.plotly.v1+json": {
       "config": {
        "plotlyServerURL": "https://plot.ly"
       },
       "data": [
        {
         "hovertemplate": "color=gut<br>0=%{x}<br>1=%{y}<extra></extra>",
         "legendgroup": "gut",
         "marker": {
          "color": "#636efa",
          "symbol": "circle"
         },
         "mode": "markers",
         "name": "gut",
         "orientation": "v",
         "showlegend": true,
         "type": "scatter",
         "x": [
          -26.92801780121723,
          -27.858189373247036,
          -35.31202370856248,
          -34.134423962067395,
          8.458659697427773,
          6.669647157934979,
          4.445681392337067,
          -17.410806142001164
         ],
         "xaxis": "x",
         "y": [
          8.308998020750575,
          7.280255409219719,
          9.337918964213282,
          9.925585280073037,
          3.3255266378399857,
          5.553324282651893,
          8.00265365314637,
          0.7965370251355492
         ],
         "yaxis": "y"
        },
        {
         "hovertemplate": "color=left palm<br>0=%{x}<br>1=%{y}<extra></extra>",
         "legendgroup": "left palm",
         "marker": {
          "color": "#EF553B",
          "symbol": "circle"
         },
         "mode": "markers",
         "name": "left palm",
         "orientation": "v",
         "showlegend": true,
         "type": "scatter",
         "x": [
          -34.598149878997596,
          -31.362491399020435,
          -30.528105209759882,
          -20.340139937974357,
          31.50877149982372,
          27.484693707882602,
          37.750040448224304,
          3.023881978773826
         ],
         "xaxis": "x",
         "y": [
          9.545614499859406,
          8.885184770191008,
          8.738165654829938,
          2.2860130237854057,
          18.031676713283044,
          -5.973040766107983,
          33.05391488228415,
          -17.024927317721
         ],
         "yaxis": "y"
        },
        {
         "hovertemplate": "color=right palm<br>0=%{x}<br>1=%{y}<extra></extra>",
         "legendgroup": "right palm",
         "marker": {
          "color": "#00cc96",
          "symbol": "circle"
         },
         "mode": "markers",
         "name": "right palm",
         "orientation": "v",
         "showlegend": true,
         "type": "scatter",
         "x": [
          18.497721841519805,
          20.72419914725236,
          12.177498315844689,
          17.927571408109436,
          6.110443748646802,
          0.6866755165622243,
          1.9151319757475893,
          3.5063736296260166,
          3.2541162605778124
         ],
         "xaxis": "x",
         "y": [
          14.093126871605298,
          9.665077656942643,
          16.909704873242376,
          25.30029442712364,
          -22.015466659709983,
          -16.7478521542198,
          -19.64948960635372,
          -18.626798294931888,
          -19.732080043227615
         ],
         "yaxis": "y"
        },
        {
         "hovertemplate": "color=tongue<br>0=%{x}<br>1=%{y}<extra></extra>",
         "legendgroup": "tongue",
         "marker": {
          "color": "#ab63fa",
          "symbol": "circle"
         },
         "mode": "markers",
         "name": "tongue",
         "orientation": "v",
         "showlegend": true,
         "type": "scatter",
         "x": [
          7.949987158077889,
          12.204691964634073,
          17.710446061879274,
          -12.921549688183354,
          6.088277095506111,
          2.2141089985355586,
          5.339561698784534,
          7.113592811397557,
          8.632123585924923
         ],
         "xaxis": "x",
         "y": [
          7.952832601662381,
          6.946294350604087,
          -6.458761764900151,
          -1.0682232749986915,
          4.383818453786704,
          -18.201843661639273,
          -25.328814619462452,
          -22.54282692628984,
          -24.952392962668053
         ],
         "yaxis": "y"
        }
       ],
       "layout": {
        "legend": {
         "title": {
          "text": "color"
         },
         "tracegroupgap": 0
        },
        "margin": {
         "t": 60
        },
        "template": {
         "data": {
          "bar": [
           {
            "error_x": {
             "color": "#2a3f5f"
            },
            "error_y": {
             "color": "#2a3f5f"
            },
            "marker": {
             "line": {
              "color": "#E5ECF6",
              "width": 0.5
             }
            },
            "type": "bar"
           }
          ],
          "barpolar": [
           {
            "marker": {
             "line": {
              "color": "#E5ECF6",
              "width": 0.5
             }
            },
            "type": "barpolar"
           }
          ],
          "carpet": [
           {
            "aaxis": {
             "endlinecolor": "#2a3f5f",
             "gridcolor": "white",
             "linecolor": "white",
             "minorgridcolor": "white",
             "startlinecolor": "#2a3f5f"
            },
            "baxis": {
             "endlinecolor": "#2a3f5f",
             "gridcolor": "white",
             "linecolor": "white",
             "minorgridcolor": "white",
             "startlinecolor": "#2a3f5f"
            },
            "type": "carpet"
           }
          ],
          "choropleth": [
           {
            "colorbar": {
             "outlinewidth": 0,
             "ticks": ""
            },
            "type": "choropleth"
           }
          ],
          "contour": [
           {
            "colorbar": {
             "outlinewidth": 0,
             "ticks": ""
            },
            "colorscale": [
             [
              0,
              "#0d0887"
             ],
             [
              0.1111111111111111,
              "#46039f"
             ],
             [
              0.2222222222222222,
              "#7201a8"
             ],
             [
              0.3333333333333333,
              "#9c179e"
             ],
             [
              0.4444444444444444,
              "#bd3786"
             ],
             [
              0.5555555555555556,
              "#d8576b"
             ],
             [
              0.6666666666666666,
              "#ed7953"
             ],
             [
              0.7777777777777778,
              "#fb9f3a"
             ],
             [
              0.8888888888888888,
              "#fdca26"
             ],
             [
              1,
              "#f0f921"
             ]
            ],
            "type": "contour"
           }
          ],
          "contourcarpet": [
           {
            "colorbar": {
             "outlinewidth": 0,
             "ticks": ""
            },
            "type": "contourcarpet"
           }
          ],
          "heatmap": [
           {
            "colorbar": {
             "outlinewidth": 0,
             "ticks": ""
            },
            "colorscale": [
             [
              0,
              "#0d0887"
             ],
             [
              0.1111111111111111,
              "#46039f"
             ],
             [
              0.2222222222222222,
              "#7201a8"
             ],
             [
              0.3333333333333333,
              "#9c179e"
             ],
             [
              0.4444444444444444,
              "#bd3786"
             ],
             [
              0.5555555555555556,
              "#d8576b"
             ],
             [
              0.6666666666666666,
              "#ed7953"
             ],
             [
              0.7777777777777778,
              "#fb9f3a"
             ],
             [
              0.8888888888888888,
              "#fdca26"
             ],
             [
              1,
              "#f0f921"
             ]
            ],
            "type": "heatmap"
           }
          ],
          "heatmapgl": [
           {
            "colorbar": {
             "outlinewidth": 0,
             "ticks": ""
            },
            "colorscale": [
             [
              0,
              "#0d0887"
             ],
             [
              0.1111111111111111,
              "#46039f"
             ],
             [
              0.2222222222222222,
              "#7201a8"
             ],
             [
              0.3333333333333333,
              "#9c179e"
             ],
             [
              0.4444444444444444,
              "#bd3786"
             ],
             [
              0.5555555555555556,
              "#d8576b"
             ],
             [
              0.6666666666666666,
              "#ed7953"
             ],
             [
              0.7777777777777778,
              "#fb9f3a"
             ],
             [
              0.8888888888888888,
              "#fdca26"
             ],
             [
              1,
              "#f0f921"
             ]
            ],
            "type": "heatmapgl"
           }
          ],
          "histogram": [
           {
            "marker": {
             "colorbar": {
              "outlinewidth": 0,
              "ticks": ""
             }
            },
            "type": "histogram"
           }
          ],
          "histogram2d": [
           {
            "colorbar": {
             "outlinewidth": 0,
             "ticks": ""
            },
            "colorscale": [
             [
              0,
              "#0d0887"
             ],
             [
              0.1111111111111111,
              "#46039f"
             ],
             [
              0.2222222222222222,
              "#7201a8"
             ],
             [
              0.3333333333333333,
              "#9c179e"
             ],
             [
              0.4444444444444444,
              "#bd3786"
             ],
             [
              0.5555555555555556,
              "#d8576b"
             ],
             [
              0.6666666666666666,
              "#ed7953"
             ],
             [
              0.7777777777777778,
              "#fb9f3a"
             ],
             [
              0.8888888888888888,
              "#fdca26"
             ],
             [
              1,
              "#f0f921"
             ]
            ],
            "type": "histogram2d"
           }
          ],
          "histogram2dcontour": [
           {
            "colorbar": {
             "outlinewidth": 0,
             "ticks": ""
            },
            "colorscale": [
             [
              0,
              "#0d0887"
             ],
             [
              0.1111111111111111,
              "#46039f"
             ],
             [
              0.2222222222222222,
              "#7201a8"
             ],
             [
              0.3333333333333333,
              "#9c179e"
             ],
             [
              0.4444444444444444,
              "#bd3786"
             ],
             [
              0.5555555555555556,
              "#d8576b"
             ],
             [
              0.6666666666666666,
              "#ed7953"
             ],
             [
              0.7777777777777778,
              "#fb9f3a"
             ],
             [
              0.8888888888888888,
              "#fdca26"
             ],
             [
              1,
              "#f0f921"
             ]
            ],
            "type": "histogram2dcontour"
           }
          ],
          "mesh3d": [
           {
            "colorbar": {
             "outlinewidth": 0,
             "ticks": ""
            },
            "type": "mesh3d"
           }
          ],
          "parcoords": [
           {
            "line": {
             "colorbar": {
              "outlinewidth": 0,
              "ticks": ""
             }
            },
            "type": "parcoords"
           }
          ],
          "pie": [
           {
            "automargin": true,
            "type": "pie"
           }
          ],
          "scatter": [
           {
            "marker": {
             "colorbar": {
              "outlinewidth": 0,
              "ticks": ""
             }
            },
            "type": "scatter"
           }
          ],
          "scatter3d": [
           {
            "line": {
             "colorbar": {
              "outlinewidth": 0,
              "ticks": ""
             }
            },
            "marker": {
             "colorbar": {
              "outlinewidth": 0,
              "ticks": ""
             }
            },
            "type": "scatter3d"
           }
          ],
          "scattercarpet": [
           {
            "marker": {
             "colorbar": {
              "outlinewidth": 0,
              "ticks": ""
             }
            },
            "type": "scattercarpet"
           }
          ],
          "scattergeo": [
           {
            "marker": {
             "colorbar": {
              "outlinewidth": 0,
              "ticks": ""
             }
            },
            "type": "scattergeo"
           }
          ],
          "scattergl": [
           {
            "marker": {
             "colorbar": {
              "outlinewidth": 0,
              "ticks": ""
             }
            },
            "type": "scattergl"
           }
          ],
          "scattermapbox": [
           {
            "marker": {
             "colorbar": {
              "outlinewidth": 0,
              "ticks": ""
             }
            },
            "type": "scattermapbox"
           }
          ],
          "scatterpolar": [
           {
            "marker": {
             "colorbar": {
              "outlinewidth": 0,
              "ticks": ""
             }
            },
            "type": "scatterpolar"
           }
          ],
          "scatterpolargl": [
           {
            "marker": {
             "colorbar": {
              "outlinewidth": 0,
              "ticks": ""
             }
            },
            "type": "scatterpolargl"
           }
          ],
          "scatterternary": [
           {
            "marker": {
             "colorbar": {
              "outlinewidth": 0,
              "ticks": ""
             }
            },
            "type": "scatterternary"
           }
          ],
          "surface": [
           {
            "colorbar": {
             "outlinewidth": 0,
             "ticks": ""
            },
            "colorscale": [
             [
              0,
              "#0d0887"
             ],
             [
              0.1111111111111111,
              "#46039f"
             ],
             [
              0.2222222222222222,
              "#7201a8"
             ],
             [
              0.3333333333333333,
              "#9c179e"
             ],
             [
              0.4444444444444444,
              "#bd3786"
             ],
             [
              0.5555555555555556,
              "#d8576b"
             ],
             [
              0.6666666666666666,
              "#ed7953"
             ],
             [
              0.7777777777777778,
              "#fb9f3a"
             ],
             [
              0.8888888888888888,
              "#fdca26"
             ],
             [
              1,
              "#f0f921"
             ]
            ],
            "type": "surface"
           }
          ],
          "table": [
           {
            "cells": {
             "fill": {
              "color": "#EBF0F8"
             },
             "line": {
              "color": "white"
             }
            },
            "header": {
             "fill": {
              "color": "#C8D4E3"
             },
             "line": {
              "color": "white"
             }
            },
            "type": "table"
           }
          ]
         },
         "layout": {
          "annotationdefaults": {
           "arrowcolor": "#2a3f5f",
           "arrowhead": 0,
           "arrowwidth": 1
          },
          "autotypenumbers": "strict",
          "coloraxis": {
           "colorbar": {
            "outlinewidth": 0,
            "ticks": ""
           }
          },
          "colorscale": {
           "diverging": [
            [
             0,
             "#8e0152"
            ],
            [
             0.1,
             "#c51b7d"
            ],
            [
             0.2,
             "#de77ae"
            ],
            [
             0.3,
             "#f1b6da"
            ],
            [
             0.4,
             "#fde0ef"
            ],
            [
             0.5,
             "#f7f7f7"
            ],
            [
             0.6,
             "#e6f5d0"
            ],
            [
             0.7,
             "#b8e186"
            ],
            [
             0.8,
             "#7fbc41"
            ],
            [
             0.9,
             "#4d9221"
            ],
            [
             1,
             "#276419"
            ]
           ],
           "sequential": [
            [
             0,
             "#0d0887"
            ],
            [
             0.1111111111111111,
             "#46039f"
            ],
            [
             0.2222222222222222,
             "#7201a8"
            ],
            [
             0.3333333333333333,
             "#9c179e"
            ],
            [
             0.4444444444444444,
             "#bd3786"
            ],
            [
             0.5555555555555556,
             "#d8576b"
            ],
            [
             0.6666666666666666,
             "#ed7953"
            ],
            [
             0.7777777777777778,
             "#fb9f3a"
            ],
            [
             0.8888888888888888,
             "#fdca26"
            ],
            [
             1,
             "#f0f921"
            ]
           ],
           "sequentialminus": [
            [
             0,
             "#0d0887"
            ],
            [
             0.1111111111111111,
             "#46039f"
            ],
            [
             0.2222222222222222,
             "#7201a8"
            ],
            [
             0.3333333333333333,
             "#9c179e"
            ],
            [
             0.4444444444444444,
             "#bd3786"
            ],
            [
             0.5555555555555556,
             "#d8576b"
            ],
            [
             0.6666666666666666,
             "#ed7953"
            ],
            [
             0.7777777777777778,
             "#fb9f3a"
            ],
            [
             0.8888888888888888,
             "#fdca26"
            ],
            [
             1,
             "#f0f921"
            ]
           ]
          },
          "colorway": [
           "#636efa",
           "#EF553B",
           "#00cc96",
           "#ab63fa",
           "#FFA15A",
           "#19d3f3",
           "#FF6692",
           "#B6E880",
           "#FF97FF",
           "#FECB52"
          ],
          "font": {
           "color": "#2a3f5f"
          },
          "geo": {
           "bgcolor": "white",
           "lakecolor": "white",
           "landcolor": "#E5ECF6",
           "showlakes": true,
           "showland": true,
           "subunitcolor": "white"
          },
          "hoverlabel": {
           "align": "left"
          },
          "hovermode": "closest",
          "mapbox": {
           "style": "light"
          },
          "paper_bgcolor": "white",
          "plot_bgcolor": "#E5ECF6",
          "polar": {
           "angularaxis": {
            "gridcolor": "white",
            "linecolor": "white",
            "ticks": ""
           },
           "bgcolor": "#E5ECF6",
           "radialaxis": {
            "gridcolor": "white",
            "linecolor": "white",
            "ticks": ""
           }
          },
          "scene": {
           "xaxis": {
            "backgroundcolor": "#E5ECF6",
            "gridcolor": "white",
            "gridwidth": 2,
            "linecolor": "white",
            "showbackground": true,
            "ticks": "",
            "zerolinecolor": "white"
           },
           "yaxis": {
            "backgroundcolor": "#E5ECF6",
            "gridcolor": "white",
            "gridwidth": 2,
            "linecolor": "white",
            "showbackground": true,
            "ticks": "",
            "zerolinecolor": "white"
           },
           "zaxis": {
            "backgroundcolor": "#E5ECF6",
            "gridcolor": "white",
            "gridwidth": 2,
            "linecolor": "white",
            "showbackground": true,
            "ticks": "",
            "zerolinecolor": "white"
           }
          },
          "shapedefaults": {
           "line": {
            "color": "#2a3f5f"
           }
          },
          "ternary": {
           "aaxis": {
            "gridcolor": "white",
            "linecolor": "white",
            "ticks": ""
           },
           "baxis": {
            "gridcolor": "white",
            "linecolor": "white",
            "ticks": ""
           },
           "bgcolor": "#E5ECF6",
           "caxis": {
            "gridcolor": "white",
            "linecolor": "white",
            "ticks": ""
           }
          },
          "title": {
           "x": 0.05
          },
          "xaxis": {
           "automargin": true,
           "gridcolor": "white",
           "linecolor": "white",
           "ticks": "",
           "title": {
            "standoff": 15
           },
           "zerolinecolor": "white",
           "zerolinewidth": 2
          },
          "yaxis": {
           "automargin": true,
           "gridcolor": "white",
           "linecolor": "white",
           "ticks": "",
           "title": {
            "standoff": 15
           },
           "zerolinecolor": "white",
           "zerolinewidth": 2
          }
         }
        },
        "xaxis": {
         "anchor": "y",
         "domain": [
          0,
          1
         ],
         "title": {
          "text": "0"
         }
        },
        "yaxis": {
         "anchor": "x",
         "domain": [
          0,
          1
         ],
         "title": {
          "text": "1"
         }
        }
       }
      },
      "text/html": [
       "<div>                            <div id=\"9a9a399b-2ef5-4d68-a5c4-0c0b37e32cc2\" class=\"plotly-graph-div\" style=\"height:525px; width:100%;\"></div>            <script type=\"text/javascript\">                require([\"plotly\"], function(Plotly) {                    window.PLOTLYENV=window.PLOTLYENV || {};                                    if (document.getElementById(\"9a9a399b-2ef5-4d68-a5c4-0c0b37e32cc2\")) {                    Plotly.newPlot(                        \"9a9a399b-2ef5-4d68-a5c4-0c0b37e32cc2\",                        [{\"hovertemplate\": \"color=gut<br>0=%{x}<br>1=%{y}<extra></extra>\", \"legendgroup\": \"gut\", \"marker\": {\"color\": \"#636efa\", \"symbol\": \"circle\"}, \"mode\": \"markers\", \"name\": \"gut\", \"orientation\": \"v\", \"showlegend\": true, \"type\": \"scatter\", \"x\": [-26.92801780121723, -27.858189373247036, -35.31202370856248, -34.134423962067395, 8.458659697427773, 6.669647157934979, 4.445681392337067, -17.410806142001164], \"xaxis\": \"x\", \"y\": [8.308998020750575, 7.280255409219719, 9.337918964213282, 9.925585280073037, 3.3255266378399857, 5.553324282651893, 8.00265365314637, 0.7965370251355492], \"yaxis\": \"y\"}, {\"hovertemplate\": \"color=left palm<br>0=%{x}<br>1=%{y}<extra></extra>\", \"legendgroup\": \"left palm\", \"marker\": {\"color\": \"#EF553B\", \"symbol\": \"circle\"}, \"mode\": \"markers\", \"name\": \"left palm\", \"orientation\": \"v\", \"showlegend\": true, \"type\": \"scatter\", \"x\": [-34.598149878997596, -31.362491399020435, -30.528105209759882, -20.340139937974357, 31.50877149982372, 27.484693707882602, 37.750040448224304, 3.023881978773826], \"xaxis\": \"x\", \"y\": [9.545614499859406, 8.885184770191008, 8.738165654829938, 2.2860130237854057, 18.031676713283044, -5.973040766107983, 33.05391488228415, -17.024927317721], \"yaxis\": \"y\"}, {\"hovertemplate\": \"color=right palm<br>0=%{x}<br>1=%{y}<extra></extra>\", \"legendgroup\": \"right palm\", \"marker\": {\"color\": \"#00cc96\", \"symbol\": \"circle\"}, \"mode\": \"markers\", \"name\": \"right palm\", \"orientation\": \"v\", \"showlegend\": true, \"type\": \"scatter\", \"x\": [18.497721841519805, 20.72419914725236, 12.177498315844689, 17.927571408109436, 6.110443748646802, 0.6866755165622243, 1.9151319757475893, 3.5063736296260166, 3.2541162605778124], \"xaxis\": \"x\", \"y\": [14.093126871605298, 9.665077656942643, 16.909704873242376, 25.30029442712364, -22.015466659709983, -16.7478521542198, -19.64948960635372, -18.626798294931888, -19.732080043227615], \"yaxis\": \"y\"}, {\"hovertemplate\": \"color=tongue<br>0=%{x}<br>1=%{y}<extra></extra>\", \"legendgroup\": \"tongue\", \"marker\": {\"color\": \"#ab63fa\", \"symbol\": \"circle\"}, \"mode\": \"markers\", \"name\": \"tongue\", \"orientation\": \"v\", \"showlegend\": true, \"type\": \"scatter\", \"x\": [7.949987158077889, 12.204691964634073, 17.710446061879274, -12.921549688183354, 6.088277095506111, 2.2141089985355586, 5.339561698784534, 7.113592811397557, 8.632123585924923], \"xaxis\": \"x\", \"y\": [7.952832601662381, 6.946294350604087, -6.458761764900151, -1.0682232749986915, 4.383818453786704, -18.201843661639273, -25.328814619462452, -22.54282692628984, -24.952392962668053], \"yaxis\": \"y\"}],                        {\"legend\": {\"title\": {\"text\": \"color\"}, \"tracegroupgap\": 0}, \"margin\": {\"t\": 60}, \"template\": {\"data\": {\"bar\": [{\"error_x\": {\"color\": \"#2a3f5f\"}, \"error_y\": {\"color\": \"#2a3f5f\"}, \"marker\": {\"line\": {\"color\": \"#E5ECF6\", \"width\": 0.5}}, \"type\": \"bar\"}], \"barpolar\": [{\"marker\": {\"line\": {\"color\": \"#E5ECF6\", \"width\": 0.5}}, \"type\": \"barpolar\"}], \"carpet\": [{\"aaxis\": {\"endlinecolor\": \"#2a3f5f\", \"gridcolor\": \"white\", \"linecolor\": \"white\", \"minorgridcolor\": \"white\", \"startlinecolor\": \"#2a3f5f\"}, \"baxis\": {\"endlinecolor\": \"#2a3f5f\", \"gridcolor\": \"white\", \"linecolor\": \"white\", \"minorgridcolor\": \"white\", \"startlinecolor\": \"#2a3f5f\"}, \"type\": \"carpet\"}], \"choropleth\": [{\"colorbar\": {\"outlinewidth\": 0, \"ticks\": \"\"}, \"type\": \"choropleth\"}], \"contour\": [{\"colorbar\": {\"outlinewidth\": 0, \"ticks\": \"\"}, \"colorscale\": [[0.0, \"#0d0887\"], [0.1111111111111111, \"#46039f\"], [0.2222222222222222, \"#7201a8\"], [0.3333333333333333, \"#9c179e\"], [0.4444444444444444, \"#bd3786\"], [0.5555555555555556, \"#d8576b\"], [0.6666666666666666, \"#ed7953\"], [0.7777777777777778, \"#fb9f3a\"], [0.8888888888888888, \"#fdca26\"], [1.0, \"#f0f921\"]], \"type\": \"contour\"}], \"contourcarpet\": [{\"colorbar\": {\"outlinewidth\": 0, \"ticks\": \"\"}, \"type\": \"contourcarpet\"}], \"heatmap\": [{\"colorbar\": {\"outlinewidth\": 0, \"ticks\": \"\"}, \"colorscale\": [[0.0, \"#0d0887\"], [0.1111111111111111, \"#46039f\"], [0.2222222222222222, \"#7201a8\"], [0.3333333333333333, \"#9c179e\"], [0.4444444444444444, \"#bd3786\"], [0.5555555555555556, \"#d8576b\"], [0.6666666666666666, \"#ed7953\"], [0.7777777777777778, \"#fb9f3a\"], [0.8888888888888888, \"#fdca26\"], [1.0, \"#f0f921\"]], \"type\": \"heatmap\"}], \"heatmapgl\": [{\"colorbar\": {\"outlinewidth\": 0, \"ticks\": \"\"}, \"colorscale\": [[0.0, \"#0d0887\"], [0.1111111111111111, \"#46039f\"], [0.2222222222222222, \"#7201a8\"], [0.3333333333333333, \"#9c179e\"], [0.4444444444444444, \"#bd3786\"], [0.5555555555555556, \"#d8576b\"], [0.6666666666666666, \"#ed7953\"], [0.7777777777777778, \"#fb9f3a\"], [0.8888888888888888, \"#fdca26\"], [1.0, \"#f0f921\"]], \"type\": \"heatmapgl\"}], \"histogram\": [{\"marker\": {\"colorbar\": {\"outlinewidth\": 0, \"ticks\": \"\"}}, \"type\": \"histogram\"}], \"histogram2d\": [{\"colorbar\": {\"outlinewidth\": 0, \"ticks\": \"\"}, \"colorscale\": [[0.0, \"#0d0887\"], [0.1111111111111111, \"#46039f\"], [0.2222222222222222, \"#7201a8\"], [0.3333333333333333, \"#9c179e\"], [0.4444444444444444, \"#bd3786\"], [0.5555555555555556, \"#d8576b\"], [0.6666666666666666, \"#ed7953\"], [0.7777777777777778, \"#fb9f3a\"], [0.8888888888888888, \"#fdca26\"], [1.0, \"#f0f921\"]], \"type\": \"histogram2d\"}], \"histogram2dcontour\": [{\"colorbar\": {\"outlinewidth\": 0, \"ticks\": \"\"}, \"colorscale\": [[0.0, \"#0d0887\"], [0.1111111111111111, \"#46039f\"], [0.2222222222222222, \"#7201a8\"], [0.3333333333333333, \"#9c179e\"], [0.4444444444444444, \"#bd3786\"], [0.5555555555555556, \"#d8576b\"], [0.6666666666666666, \"#ed7953\"], [0.7777777777777778, \"#fb9f3a\"], [0.8888888888888888, \"#fdca26\"], [1.0, \"#f0f921\"]], \"type\": \"histogram2dcontour\"}], \"mesh3d\": [{\"colorbar\": {\"outlinewidth\": 0, \"ticks\": \"\"}, \"type\": \"mesh3d\"}], \"parcoords\": [{\"line\": {\"colorbar\": {\"outlinewidth\": 0, \"ticks\": \"\"}}, \"type\": \"parcoords\"}], \"pie\": [{\"automargin\": true, \"type\": \"pie\"}], \"scatter\": [{\"marker\": {\"colorbar\": {\"outlinewidth\": 0, \"ticks\": \"\"}}, \"type\": \"scatter\"}], \"scatter3d\": [{\"line\": {\"colorbar\": {\"outlinewidth\": 0, \"ticks\": \"\"}}, \"marker\": {\"colorbar\": {\"outlinewidth\": 0, \"ticks\": \"\"}}, \"type\": \"scatter3d\"}], \"scattercarpet\": [{\"marker\": {\"colorbar\": {\"outlinewidth\": 0, \"ticks\": \"\"}}, \"type\": \"scattercarpet\"}], \"scattergeo\": [{\"marker\": {\"colorbar\": {\"outlinewidth\": 0, \"ticks\": \"\"}}, \"type\": \"scattergeo\"}], \"scattergl\": [{\"marker\": {\"colorbar\": {\"outlinewidth\": 0, \"ticks\": \"\"}}, \"type\": \"scattergl\"}], \"scattermapbox\": [{\"marker\": {\"colorbar\": {\"outlinewidth\": 0, \"ticks\": \"\"}}, \"type\": \"scattermapbox\"}], \"scatterpolar\": [{\"marker\": {\"colorbar\": {\"outlinewidth\": 0, \"ticks\": \"\"}}, \"type\": \"scatterpolar\"}], \"scatterpolargl\": [{\"marker\": {\"colorbar\": {\"outlinewidth\": 0, \"ticks\": \"\"}}, \"type\": \"scatterpolargl\"}], \"scatterternary\": [{\"marker\": {\"colorbar\": {\"outlinewidth\": 0, \"ticks\": \"\"}}, \"type\": \"scatterternary\"}], \"surface\": [{\"colorbar\": {\"outlinewidth\": 0, \"ticks\": \"\"}, \"colorscale\": [[0.0, \"#0d0887\"], [0.1111111111111111, \"#46039f\"], [0.2222222222222222, \"#7201a8\"], [0.3333333333333333, \"#9c179e\"], [0.4444444444444444, \"#bd3786\"], [0.5555555555555556, \"#d8576b\"], [0.6666666666666666, \"#ed7953\"], [0.7777777777777778, \"#fb9f3a\"], [0.8888888888888888, \"#fdca26\"], [1.0, \"#f0f921\"]], \"type\": \"surface\"}], \"table\": [{\"cells\": {\"fill\": {\"color\": \"#EBF0F8\"}, \"line\": {\"color\": \"white\"}}, \"header\": {\"fill\": {\"color\": \"#C8D4E3\"}, \"line\": {\"color\": \"white\"}}, \"type\": \"table\"}]}, \"layout\": {\"annotationdefaults\": {\"arrowcolor\": \"#2a3f5f\", \"arrowhead\": 0, \"arrowwidth\": 1}, \"autotypenumbers\": \"strict\", \"coloraxis\": {\"colorbar\": {\"outlinewidth\": 0, \"ticks\": \"\"}}, \"colorscale\": {\"diverging\": [[0, \"#8e0152\"], [0.1, \"#c51b7d\"], [0.2, \"#de77ae\"], [0.3, \"#f1b6da\"], [0.4, \"#fde0ef\"], [0.5, \"#f7f7f7\"], [0.6, \"#e6f5d0\"], [0.7, \"#b8e186\"], [0.8, \"#7fbc41\"], [0.9, \"#4d9221\"], [1, \"#276419\"]], \"sequential\": [[0.0, \"#0d0887\"], [0.1111111111111111, \"#46039f\"], [0.2222222222222222, \"#7201a8\"], [0.3333333333333333, \"#9c179e\"], [0.4444444444444444, \"#bd3786\"], [0.5555555555555556, \"#d8576b\"], [0.6666666666666666, \"#ed7953\"], [0.7777777777777778, \"#fb9f3a\"], [0.8888888888888888, \"#fdca26\"], [1.0, \"#f0f921\"]], \"sequentialminus\": [[0.0, \"#0d0887\"], [0.1111111111111111, \"#46039f\"], [0.2222222222222222, \"#7201a8\"], [0.3333333333333333, \"#9c179e\"], [0.4444444444444444, \"#bd3786\"], [0.5555555555555556, \"#d8576b\"], [0.6666666666666666, \"#ed7953\"], [0.7777777777777778, \"#fb9f3a\"], [0.8888888888888888, \"#fdca26\"], [1.0, \"#f0f921\"]]}, \"colorway\": [\"#636efa\", \"#EF553B\", \"#00cc96\", \"#ab63fa\", \"#FFA15A\", \"#19d3f3\", \"#FF6692\", \"#B6E880\", \"#FF97FF\", \"#FECB52\"], \"font\": {\"color\": \"#2a3f5f\"}, \"geo\": {\"bgcolor\": \"white\", \"lakecolor\": \"white\", \"landcolor\": \"#E5ECF6\", \"showlakes\": true, \"showland\": true, \"subunitcolor\": \"white\"}, \"hoverlabel\": {\"align\": \"left\"}, \"hovermode\": \"closest\", \"mapbox\": {\"style\": \"light\"}, \"paper_bgcolor\": \"white\", \"plot_bgcolor\": \"#E5ECF6\", \"polar\": {\"angularaxis\": {\"gridcolor\": \"white\", \"linecolor\": \"white\", \"ticks\": \"\"}, \"bgcolor\": \"#E5ECF6\", \"radialaxis\": {\"gridcolor\": \"white\", \"linecolor\": \"white\", \"ticks\": \"\"}}, \"scene\": {\"xaxis\": {\"backgroundcolor\": \"#E5ECF6\", \"gridcolor\": \"white\", \"gridwidth\": 2, \"linecolor\": \"white\", \"showbackground\": true, \"ticks\": \"\", \"zerolinecolor\": \"white\"}, \"yaxis\": {\"backgroundcolor\": \"#E5ECF6\", \"gridcolor\": \"white\", \"gridwidth\": 2, \"linecolor\": \"white\", \"showbackground\": true, \"ticks\": \"\", \"zerolinecolor\": \"white\"}, \"zaxis\": {\"backgroundcolor\": \"#E5ECF6\", \"gridcolor\": \"white\", \"gridwidth\": 2, \"linecolor\": \"white\", \"showbackground\": true, \"ticks\": \"\", \"zerolinecolor\": \"white\"}}, \"shapedefaults\": {\"line\": {\"color\": \"#2a3f5f\"}}, \"ternary\": {\"aaxis\": {\"gridcolor\": \"white\", \"linecolor\": \"white\", \"ticks\": \"\"}, \"baxis\": {\"gridcolor\": \"white\", \"linecolor\": \"white\", \"ticks\": \"\"}, \"bgcolor\": \"#E5ECF6\", \"caxis\": {\"gridcolor\": \"white\", \"linecolor\": \"white\", \"ticks\": \"\"}}, \"title\": {\"x\": 0.05}, \"xaxis\": {\"automargin\": true, \"gridcolor\": \"white\", \"linecolor\": \"white\", \"ticks\": \"\", \"title\": {\"standoff\": 15}, \"zerolinecolor\": \"white\", \"zerolinewidth\": 2}, \"yaxis\": {\"automargin\": true, \"gridcolor\": \"white\", \"linecolor\": \"white\", \"ticks\": \"\", \"title\": {\"standoff\": 15}, \"zerolinecolor\": \"white\", \"zerolinewidth\": 2}}}, \"xaxis\": {\"anchor\": \"y\", \"domain\": [0.0, 1.0], \"title\": {\"text\": \"0\"}}, \"yaxis\": {\"anchor\": \"x\", \"domain\": [0.0, 1.0], \"title\": {\"text\": \"1\"}}},                        {\"responsive\": true}                    ).then(function(){\n",
       "                            \n",
       "var gd = document.getElementById('9a9a399b-2ef5-4d68-a5c4-0c0b37e32cc2');\n",
       "var x = new MutationObserver(function (mutations, observer) {{\n",
       "        var display = window.getComputedStyle(gd).display;\n",
       "        if (!display || display === 'none') {{\n",
       "            console.log([gd, 'removed!']);\n",
       "            Plotly.purge(gd);\n",
       "            observer.disconnect();\n",
       "        }}\n",
       "}});\n",
       "\n",
       "// Listen for the removal of the full notebook cells\n",
       "var notebookContainer = gd.closest('#notebook-container');\n",
       "if (notebookContainer) {{\n",
       "    x.observe(notebookContainer, {childList: true});\n",
       "}}\n",
       "\n",
       "// Listen for the clearing of the current output cell\n",
       "var outputEl = gd.closest('.output');\n",
       "if (outputEl) {{\n",
       "    x.observe(outputEl, {childList: true});\n",
       "}}\n",
       "\n",
       "                        })                };                });            </script>        </div>"
      ]
     },
     "metadata": {},
     "output_type": "display_data"
    }
   ],
   "source": [
    "#Relationship between samples with the clr transformed data\n",
    "pca = PCA(n_components=2)\n",
    "components = pca.fit_transform(clr_transformed.T)\n",
    "\n",
    "fig = px.scatter(components, x=0, y=1, color=mtda['body-site'])\n",
    "fig.show()"
   ]
  },
  {
   "cell_type": "code",
   "execution_count": 142,
   "metadata": {},
   "outputs": [
    {
     "data": {
      "application/vnd.plotly.v1+json": {
       "config": {
        "plotlyServerURL": "https://plot.ly"
       },
       "data": [
        {
         "hovertemplate": "color=gut<br>0=%{x}<br>1=%{y}<extra></extra>",
         "legendgroup": "gut",
         "marker": {
          "color": "#636efa",
          "symbol": "circle"
         },
         "mode": "markers",
         "name": "gut",
         "orientation": "v",
         "showlegend": true,
         "type": "scatter",
         "x": [
          2209.08570687255,
          544.1010391421818,
          412.80856911940464,
          200.34742035916608,
          -282.21411120600436,
          -270.14851119143793,
          -260.09819032419773,
          -122.07199803786015
         ],
         "xaxis": "x",
         "y": [
          407.5583188579291,
          -1836.6616016130833,
          -1811.5585812978284,
          -1215.208531429855,
          -180.73050987448087,
          -178.8092862315396,
          -201.05222409772153,
          -455.30743394173146
         ],
         "yaxis": "y"
        },
        {
         "hovertemplate": "color=left palm<br>0=%{x}<br>1=%{y}<extra></extra>",
         "legendgroup": "left palm",
         "marker": {
          "color": "#EF553B",
          "symbol": "circle"
         },
         "mode": "markers",
         "name": "left palm",
         "orientation": "v",
         "showlegend": true,
         "type": "scatter",
         "x": [
          158.78109141957106,
          2674.9223270455986,
          2985.397775784359,
          2586.117273235439,
          -631.6407676029814,
          -728.0647482847992,
          -504.30694705439413,
          -392.7953705241629
         ],
         "xaxis": "x",
         "y": [
          -1454.5567305745158,
          780.8527860786264,
          979.3201182259702,
          683.8710097545355,
          181.65434906849703,
          316.0056018830566,
          -35.72272044563504,
          19.781265459745384
         ],
         "yaxis": "y"
        },
        {
         "hovertemplate": "color=right palm<br>0=%{x}<br>1=%{y}<extra></extra>",
         "legendgroup": "right palm",
         "marker": {
          "color": "#00cc96",
          "symbol": "circle"
         },
         "mode": "markers",
         "name": "right palm",
         "orientation": "v",
         "showlegend": true,
         "type": "scatter",
         "x": [
          -321.6402959080688,
          -408.9702465815097,
          -298.75132950932624,
          -278.25869120173775,
          -823.627617441949,
          -367.15547898713015,
          -358.92930456845954,
          -381.3918322791916,
          -415.4197463679967
         ],
         "xaxis": "x",
         "y": [
          -162.2897319253561,
          -98.0078408811964,
          -189.27205002596503,
          -177.7311449616879,
          836.3029446966885,
          -32.210507047841844,
          -46.78893949176354,
          -22.651150978246342,
          45.83008711998331
         ],
         "yaxis": "y"
        },
        {
         "hovertemplate": "color=tongue<br>0=%{x}<br>1=%{y}<extra></extra>",
         "legendgroup": "tongue",
         "marker": {
          "color": "#ab63fa",
          "symbol": "circle"
         },
         "mode": "markers",
         "name": "tongue",
         "orientation": "v",
         "showlegend": true,
         "type": "scatter",
         "x": [
          -312.7014945145914,
          -369.63621170011294,
          -371.51313346808405,
          134.63860828283669,
          -265.52036900048563,
          -467.7734064953574,
          -1355.3538894006056,
          -1052.4389223314133,
          -865.7771972792534
         ],
         "xaxis": "x",
         "y": [
          -155.71005850082167,
          -78.57501276041619,
          -75.94554796847005,
          -83.56864978069945,
          -201.8378671129363,
          190.45549233048885,
          2032.9411917316177,
          1297.3648411009815,
          922.2581146336643
         ],
         "yaxis": "y"
        }
       ],
       "layout": {
        "legend": {
         "title": {
          "text": "color"
         },
         "tracegroupgap": 0
        },
        "margin": {
         "t": 60
        },
        "template": {
         "data": {
          "bar": [
           {
            "error_x": {
             "color": "#2a3f5f"
            },
            "error_y": {
             "color": "#2a3f5f"
            },
            "marker": {
             "line": {
              "color": "#E5ECF6",
              "width": 0.5
             }
            },
            "type": "bar"
           }
          ],
          "barpolar": [
           {
            "marker": {
             "line": {
              "color": "#E5ECF6",
              "width": 0.5
             }
            },
            "type": "barpolar"
           }
          ],
          "carpet": [
           {
            "aaxis": {
             "endlinecolor": "#2a3f5f",
             "gridcolor": "white",
             "linecolor": "white",
             "minorgridcolor": "white",
             "startlinecolor": "#2a3f5f"
            },
            "baxis": {
             "endlinecolor": "#2a3f5f",
             "gridcolor": "white",
             "linecolor": "white",
             "minorgridcolor": "white",
             "startlinecolor": "#2a3f5f"
            },
            "type": "carpet"
           }
          ],
          "choropleth": [
           {
            "colorbar": {
             "outlinewidth": 0,
             "ticks": ""
            },
            "type": "choropleth"
           }
          ],
          "contour": [
           {
            "colorbar": {
             "outlinewidth": 0,
             "ticks": ""
            },
            "colorscale": [
             [
              0,
              "#0d0887"
             ],
             [
              0.1111111111111111,
              "#46039f"
             ],
             [
              0.2222222222222222,
              "#7201a8"
             ],
             [
              0.3333333333333333,
              "#9c179e"
             ],
             [
              0.4444444444444444,
              "#bd3786"
             ],
             [
              0.5555555555555556,
              "#d8576b"
             ],
             [
              0.6666666666666666,
              "#ed7953"
             ],
             [
              0.7777777777777778,
              "#fb9f3a"
             ],
             [
              0.8888888888888888,
              "#fdca26"
             ],
             [
              1,
              "#f0f921"
             ]
            ],
            "type": "contour"
           }
          ],
          "contourcarpet": [
           {
            "colorbar": {
             "outlinewidth": 0,
             "ticks": ""
            },
            "type": "contourcarpet"
           }
          ],
          "heatmap": [
           {
            "colorbar": {
             "outlinewidth": 0,
             "ticks": ""
            },
            "colorscale": [
             [
              0,
              "#0d0887"
             ],
             [
              0.1111111111111111,
              "#46039f"
             ],
             [
              0.2222222222222222,
              "#7201a8"
             ],
             [
              0.3333333333333333,
              "#9c179e"
             ],
             [
              0.4444444444444444,
              "#bd3786"
             ],
             [
              0.5555555555555556,
              "#d8576b"
             ],
             [
              0.6666666666666666,
              "#ed7953"
             ],
             [
              0.7777777777777778,
              "#fb9f3a"
             ],
             [
              0.8888888888888888,
              "#fdca26"
             ],
             [
              1,
              "#f0f921"
             ]
            ],
            "type": "heatmap"
           }
          ],
          "heatmapgl": [
           {
            "colorbar": {
             "outlinewidth": 0,
             "ticks": ""
            },
            "colorscale": [
             [
              0,
              "#0d0887"
             ],
             [
              0.1111111111111111,
              "#46039f"
             ],
             [
              0.2222222222222222,
              "#7201a8"
             ],
             [
              0.3333333333333333,
              "#9c179e"
             ],
             [
              0.4444444444444444,
              "#bd3786"
             ],
             [
              0.5555555555555556,
              "#d8576b"
             ],
             [
              0.6666666666666666,
              "#ed7953"
             ],
             [
              0.7777777777777778,
              "#fb9f3a"
             ],
             [
              0.8888888888888888,
              "#fdca26"
             ],
             [
              1,
              "#f0f921"
             ]
            ],
            "type": "heatmapgl"
           }
          ],
          "histogram": [
           {
            "marker": {
             "colorbar": {
              "outlinewidth": 0,
              "ticks": ""
             }
            },
            "type": "histogram"
           }
          ],
          "histogram2d": [
           {
            "colorbar": {
             "outlinewidth": 0,
             "ticks": ""
            },
            "colorscale": [
             [
              0,
              "#0d0887"
             ],
             [
              0.1111111111111111,
              "#46039f"
             ],
             [
              0.2222222222222222,
              "#7201a8"
             ],
             [
              0.3333333333333333,
              "#9c179e"
             ],
             [
              0.4444444444444444,
              "#bd3786"
             ],
             [
              0.5555555555555556,
              "#d8576b"
             ],
             [
              0.6666666666666666,
              "#ed7953"
             ],
             [
              0.7777777777777778,
              "#fb9f3a"
             ],
             [
              0.8888888888888888,
              "#fdca26"
             ],
             [
              1,
              "#f0f921"
             ]
            ],
            "type": "histogram2d"
           }
          ],
          "histogram2dcontour": [
           {
            "colorbar": {
             "outlinewidth": 0,
             "ticks": ""
            },
            "colorscale": [
             [
              0,
              "#0d0887"
             ],
             [
              0.1111111111111111,
              "#46039f"
             ],
             [
              0.2222222222222222,
              "#7201a8"
             ],
             [
              0.3333333333333333,
              "#9c179e"
             ],
             [
              0.4444444444444444,
              "#bd3786"
             ],
             [
              0.5555555555555556,
              "#d8576b"
             ],
             [
              0.6666666666666666,
              "#ed7953"
             ],
             [
              0.7777777777777778,
              "#fb9f3a"
             ],
             [
              0.8888888888888888,
              "#fdca26"
             ],
             [
              1,
              "#f0f921"
             ]
            ],
            "type": "histogram2dcontour"
           }
          ],
          "mesh3d": [
           {
            "colorbar": {
             "outlinewidth": 0,
             "ticks": ""
            },
            "type": "mesh3d"
           }
          ],
          "parcoords": [
           {
            "line": {
             "colorbar": {
              "outlinewidth": 0,
              "ticks": ""
             }
            },
            "type": "parcoords"
           }
          ],
          "pie": [
           {
            "automargin": true,
            "type": "pie"
           }
          ],
          "scatter": [
           {
            "marker": {
             "colorbar": {
              "outlinewidth": 0,
              "ticks": ""
             }
            },
            "type": "scatter"
           }
          ],
          "scatter3d": [
           {
            "line": {
             "colorbar": {
              "outlinewidth": 0,
              "ticks": ""
             }
            },
            "marker": {
             "colorbar": {
              "outlinewidth": 0,
              "ticks": ""
             }
            },
            "type": "scatter3d"
           }
          ],
          "scattercarpet": [
           {
            "marker": {
             "colorbar": {
              "outlinewidth": 0,
              "ticks": ""
             }
            },
            "type": "scattercarpet"
           }
          ],
          "scattergeo": [
           {
            "marker": {
             "colorbar": {
              "outlinewidth": 0,
              "ticks": ""
             }
            },
            "type": "scattergeo"
           }
          ],
          "scattergl": [
           {
            "marker": {
             "colorbar": {
              "outlinewidth": 0,
              "ticks": ""
             }
            },
            "type": "scattergl"
           }
          ],
          "scattermapbox": [
           {
            "marker": {
             "colorbar": {
              "outlinewidth": 0,
              "ticks": ""
             }
            },
            "type": "scattermapbox"
           }
          ],
          "scatterpolar": [
           {
            "marker": {
             "colorbar": {
              "outlinewidth": 0,
              "ticks": ""
             }
            },
            "type": "scatterpolar"
           }
          ],
          "scatterpolargl": [
           {
            "marker": {
             "colorbar": {
              "outlinewidth": 0,
              "ticks": ""
             }
            },
            "type": "scatterpolargl"
           }
          ],
          "scatterternary": [
           {
            "marker": {
             "colorbar": {
              "outlinewidth": 0,
              "ticks": ""
             }
            },
            "type": "scatterternary"
           }
          ],
          "surface": [
           {
            "colorbar": {
             "outlinewidth": 0,
             "ticks": ""
            },
            "colorscale": [
             [
              0,
              "#0d0887"
             ],
             [
              0.1111111111111111,
              "#46039f"
             ],
             [
              0.2222222222222222,
              "#7201a8"
             ],
             [
              0.3333333333333333,
              "#9c179e"
             ],
             [
              0.4444444444444444,
              "#bd3786"
             ],
             [
              0.5555555555555556,
              "#d8576b"
             ],
             [
              0.6666666666666666,
              "#ed7953"
             ],
             [
              0.7777777777777778,
              "#fb9f3a"
             ],
             [
              0.8888888888888888,
              "#fdca26"
             ],
             [
              1,
              "#f0f921"
             ]
            ],
            "type": "surface"
           }
          ],
          "table": [
           {
            "cells": {
             "fill": {
              "color": "#EBF0F8"
             },
             "line": {
              "color": "white"
             }
            },
            "header": {
             "fill": {
              "color": "#C8D4E3"
             },
             "line": {
              "color": "white"
             }
            },
            "type": "table"
           }
          ]
         },
         "layout": {
          "annotationdefaults": {
           "arrowcolor": "#2a3f5f",
           "arrowhead": 0,
           "arrowwidth": 1
          },
          "autotypenumbers": "strict",
          "coloraxis": {
           "colorbar": {
            "outlinewidth": 0,
            "ticks": ""
           }
          },
          "colorscale": {
           "diverging": [
            [
             0,
             "#8e0152"
            ],
            [
             0.1,
             "#c51b7d"
            ],
            [
             0.2,
             "#de77ae"
            ],
            [
             0.3,
             "#f1b6da"
            ],
            [
             0.4,
             "#fde0ef"
            ],
            [
             0.5,
             "#f7f7f7"
            ],
            [
             0.6,
             "#e6f5d0"
            ],
            [
             0.7,
             "#b8e186"
            ],
            [
             0.8,
             "#7fbc41"
            ],
            [
             0.9,
             "#4d9221"
            ],
            [
             1,
             "#276419"
            ]
           ],
           "sequential": [
            [
             0,
             "#0d0887"
            ],
            [
             0.1111111111111111,
             "#46039f"
            ],
            [
             0.2222222222222222,
             "#7201a8"
            ],
            [
             0.3333333333333333,
             "#9c179e"
            ],
            [
             0.4444444444444444,
             "#bd3786"
            ],
            [
             0.5555555555555556,
             "#d8576b"
            ],
            [
             0.6666666666666666,
             "#ed7953"
            ],
            [
             0.7777777777777778,
             "#fb9f3a"
            ],
            [
             0.8888888888888888,
             "#fdca26"
            ],
            [
             1,
             "#f0f921"
            ]
           ],
           "sequentialminus": [
            [
             0,
             "#0d0887"
            ],
            [
             0.1111111111111111,
             "#46039f"
            ],
            [
             0.2222222222222222,
             "#7201a8"
            ],
            [
             0.3333333333333333,
             "#9c179e"
            ],
            [
             0.4444444444444444,
             "#bd3786"
            ],
            [
             0.5555555555555556,
             "#d8576b"
            ],
            [
             0.6666666666666666,
             "#ed7953"
            ],
            [
             0.7777777777777778,
             "#fb9f3a"
            ],
            [
             0.8888888888888888,
             "#fdca26"
            ],
            [
             1,
             "#f0f921"
            ]
           ]
          },
          "colorway": [
           "#636efa",
           "#EF553B",
           "#00cc96",
           "#ab63fa",
           "#FFA15A",
           "#19d3f3",
           "#FF6692",
           "#B6E880",
           "#FF97FF",
           "#FECB52"
          ],
          "font": {
           "color": "#2a3f5f"
          },
          "geo": {
           "bgcolor": "white",
           "lakecolor": "white",
           "landcolor": "#E5ECF6",
           "showlakes": true,
           "showland": true,
           "subunitcolor": "white"
          },
          "hoverlabel": {
           "align": "left"
          },
          "hovermode": "closest",
          "mapbox": {
           "style": "light"
          },
          "paper_bgcolor": "white",
          "plot_bgcolor": "#E5ECF6",
          "polar": {
           "angularaxis": {
            "gridcolor": "white",
            "linecolor": "white",
            "ticks": ""
           },
           "bgcolor": "#E5ECF6",
           "radialaxis": {
            "gridcolor": "white",
            "linecolor": "white",
            "ticks": ""
           }
          },
          "scene": {
           "xaxis": {
            "backgroundcolor": "#E5ECF6",
            "gridcolor": "white",
            "gridwidth": 2,
            "linecolor": "white",
            "showbackground": true,
            "ticks": "",
            "zerolinecolor": "white"
           },
           "yaxis": {
            "backgroundcolor": "#E5ECF6",
            "gridcolor": "white",
            "gridwidth": 2,
            "linecolor": "white",
            "showbackground": true,
            "ticks": "",
            "zerolinecolor": "white"
           },
           "zaxis": {
            "backgroundcolor": "#E5ECF6",
            "gridcolor": "white",
            "gridwidth": 2,
            "linecolor": "white",
            "showbackground": true,
            "ticks": "",
            "zerolinecolor": "white"
           }
          },
          "shapedefaults": {
           "line": {
            "color": "#2a3f5f"
           }
          },
          "ternary": {
           "aaxis": {
            "gridcolor": "white",
            "linecolor": "white",
            "ticks": ""
           },
           "baxis": {
            "gridcolor": "white",
            "linecolor": "white",
            "ticks": ""
           },
           "bgcolor": "#E5ECF6",
           "caxis": {
            "gridcolor": "white",
            "linecolor": "white",
            "ticks": ""
           }
          },
          "title": {
           "x": 0.05
          },
          "xaxis": {
           "automargin": true,
           "gridcolor": "white",
           "linecolor": "white",
           "ticks": "",
           "title": {
            "standoff": 15
           },
           "zerolinecolor": "white",
           "zerolinewidth": 2
          },
          "yaxis": {
           "automargin": true,
           "gridcolor": "white",
           "linecolor": "white",
           "ticks": "",
           "title": {
            "standoff": 15
           },
           "zerolinecolor": "white",
           "zerolinewidth": 2
          }
         }
        },
        "xaxis": {
         "anchor": "y",
         "domain": [
          0,
          1
         ],
         "title": {
          "text": "0"
         }
        },
        "yaxis": {
         "anchor": "x",
         "domain": [
          0,
          1
         ],
         "title": {
          "text": "1"
         }
        }
       }
      },
      "text/html": [
       "<div>                            <div id=\"977f1840-55b3-42b1-9cf3-e184f17fef8f\" class=\"plotly-graph-div\" style=\"height:525px; width:100%;\"></div>            <script type=\"text/javascript\">                require([\"plotly\"], function(Plotly) {                    window.PLOTLYENV=window.PLOTLYENV || {};                                    if (document.getElementById(\"977f1840-55b3-42b1-9cf3-e184f17fef8f\")) {                    Plotly.newPlot(                        \"977f1840-55b3-42b1-9cf3-e184f17fef8f\",                        [{\"hovertemplate\": \"color=gut<br>0=%{x}<br>1=%{y}<extra></extra>\", \"legendgroup\": \"gut\", \"marker\": {\"color\": \"#636efa\", \"symbol\": \"circle\"}, \"mode\": \"markers\", \"name\": \"gut\", \"orientation\": \"v\", \"showlegend\": true, \"type\": \"scatter\", \"x\": [2209.08570687255, 544.1010391421818, 412.80856911940464, 200.34742035916608, -282.21411120600436, -270.14851119143793, -260.09819032419773, -122.07199803786015], \"xaxis\": \"x\", \"y\": [407.5583188579291, -1836.6616016130833, -1811.5585812978284, -1215.208531429855, -180.73050987448087, -178.8092862315396, -201.05222409772153, -455.30743394173146], \"yaxis\": \"y\"}, {\"hovertemplate\": \"color=left palm<br>0=%{x}<br>1=%{y}<extra></extra>\", \"legendgroup\": \"left palm\", \"marker\": {\"color\": \"#EF553B\", \"symbol\": \"circle\"}, \"mode\": \"markers\", \"name\": \"left palm\", \"orientation\": \"v\", \"showlegend\": true, \"type\": \"scatter\", \"x\": [158.78109141957106, 2674.9223270455986, 2985.397775784359, 2586.117273235439, -631.6407676029814, -728.0647482847992, -504.30694705439413, -392.7953705241629], \"xaxis\": \"x\", \"y\": [-1454.5567305745158, 780.8527860786264, 979.3201182259702, 683.8710097545355, 181.65434906849703, 316.0056018830566, -35.72272044563504, 19.781265459745384], \"yaxis\": \"y\"}, {\"hovertemplate\": \"color=right palm<br>0=%{x}<br>1=%{y}<extra></extra>\", \"legendgroup\": \"right palm\", \"marker\": {\"color\": \"#00cc96\", \"symbol\": \"circle\"}, \"mode\": \"markers\", \"name\": \"right palm\", \"orientation\": \"v\", \"showlegend\": true, \"type\": \"scatter\", \"x\": [-321.6402959080688, -408.9702465815097, -298.75132950932624, -278.25869120173775, -823.627617441949, -367.15547898713015, -358.92930456845954, -381.3918322791916, -415.4197463679967], \"xaxis\": \"x\", \"y\": [-162.2897319253561, -98.0078408811964, -189.27205002596503, -177.7311449616879, 836.3029446966885, -32.210507047841844, -46.78893949176354, -22.651150978246342, 45.83008711998331], \"yaxis\": \"y\"}, {\"hovertemplate\": \"color=tongue<br>0=%{x}<br>1=%{y}<extra></extra>\", \"legendgroup\": \"tongue\", \"marker\": {\"color\": \"#ab63fa\", \"symbol\": \"circle\"}, \"mode\": \"markers\", \"name\": \"tongue\", \"orientation\": \"v\", \"showlegend\": true, \"type\": \"scatter\", \"x\": [-312.7014945145914, -369.63621170011294, -371.51313346808405, 134.63860828283669, -265.52036900048563, -467.7734064953574, -1355.3538894006056, -1052.4389223314133, -865.7771972792534], \"xaxis\": \"x\", \"y\": [-155.71005850082167, -78.57501276041619, -75.94554796847005, -83.56864978069945, -201.8378671129363, 190.45549233048885, 2032.9411917316177, 1297.3648411009815, 922.2581146336643], \"yaxis\": \"y\"}],                        {\"legend\": {\"title\": {\"text\": \"color\"}, \"tracegroupgap\": 0}, \"margin\": {\"t\": 60}, \"template\": {\"data\": {\"bar\": [{\"error_x\": {\"color\": \"#2a3f5f\"}, \"error_y\": {\"color\": \"#2a3f5f\"}, \"marker\": {\"line\": {\"color\": \"#E5ECF6\", \"width\": 0.5}}, \"type\": \"bar\"}], \"barpolar\": [{\"marker\": {\"line\": {\"color\": \"#E5ECF6\", \"width\": 0.5}}, \"type\": \"barpolar\"}], \"carpet\": [{\"aaxis\": {\"endlinecolor\": \"#2a3f5f\", \"gridcolor\": \"white\", \"linecolor\": \"white\", \"minorgridcolor\": \"white\", \"startlinecolor\": \"#2a3f5f\"}, \"baxis\": {\"endlinecolor\": \"#2a3f5f\", \"gridcolor\": \"white\", \"linecolor\": \"white\", \"minorgridcolor\": \"white\", \"startlinecolor\": \"#2a3f5f\"}, \"type\": \"carpet\"}], \"choropleth\": [{\"colorbar\": {\"outlinewidth\": 0, \"ticks\": \"\"}, \"type\": \"choropleth\"}], \"contour\": [{\"colorbar\": {\"outlinewidth\": 0, \"ticks\": \"\"}, \"colorscale\": [[0.0, \"#0d0887\"], [0.1111111111111111, \"#46039f\"], [0.2222222222222222, \"#7201a8\"], [0.3333333333333333, \"#9c179e\"], [0.4444444444444444, \"#bd3786\"], [0.5555555555555556, \"#d8576b\"], [0.6666666666666666, \"#ed7953\"], [0.7777777777777778, \"#fb9f3a\"], [0.8888888888888888, \"#fdca26\"], [1.0, \"#f0f921\"]], \"type\": \"contour\"}], \"contourcarpet\": [{\"colorbar\": {\"outlinewidth\": 0, \"ticks\": \"\"}, \"type\": \"contourcarpet\"}], \"heatmap\": [{\"colorbar\": {\"outlinewidth\": 0, \"ticks\": \"\"}, \"colorscale\": [[0.0, \"#0d0887\"], [0.1111111111111111, \"#46039f\"], [0.2222222222222222, \"#7201a8\"], [0.3333333333333333, \"#9c179e\"], [0.4444444444444444, \"#bd3786\"], [0.5555555555555556, \"#d8576b\"], [0.6666666666666666, \"#ed7953\"], [0.7777777777777778, \"#fb9f3a\"], [0.8888888888888888, \"#fdca26\"], [1.0, \"#f0f921\"]], \"type\": \"heatmap\"}], \"heatmapgl\": [{\"colorbar\": {\"outlinewidth\": 0, \"ticks\": \"\"}, \"colorscale\": [[0.0, \"#0d0887\"], [0.1111111111111111, \"#46039f\"], [0.2222222222222222, \"#7201a8\"], [0.3333333333333333, \"#9c179e\"], [0.4444444444444444, \"#bd3786\"], [0.5555555555555556, \"#d8576b\"], [0.6666666666666666, \"#ed7953\"], [0.7777777777777778, \"#fb9f3a\"], [0.8888888888888888, \"#fdca26\"], [1.0, \"#f0f921\"]], \"type\": \"heatmapgl\"}], \"histogram\": [{\"marker\": {\"colorbar\": {\"outlinewidth\": 0, \"ticks\": \"\"}}, \"type\": \"histogram\"}], \"histogram2d\": [{\"colorbar\": {\"outlinewidth\": 0, \"ticks\": \"\"}, \"colorscale\": [[0.0, \"#0d0887\"], [0.1111111111111111, \"#46039f\"], [0.2222222222222222, \"#7201a8\"], [0.3333333333333333, \"#9c179e\"], [0.4444444444444444, \"#bd3786\"], [0.5555555555555556, \"#d8576b\"], [0.6666666666666666, \"#ed7953\"], [0.7777777777777778, \"#fb9f3a\"], [0.8888888888888888, \"#fdca26\"], [1.0, \"#f0f921\"]], \"type\": \"histogram2d\"}], \"histogram2dcontour\": [{\"colorbar\": {\"outlinewidth\": 0, \"ticks\": \"\"}, \"colorscale\": [[0.0, \"#0d0887\"], [0.1111111111111111, \"#46039f\"], [0.2222222222222222, \"#7201a8\"], [0.3333333333333333, \"#9c179e\"], [0.4444444444444444, \"#bd3786\"], [0.5555555555555556, \"#d8576b\"], [0.6666666666666666, \"#ed7953\"], [0.7777777777777778, \"#fb9f3a\"], [0.8888888888888888, \"#fdca26\"], [1.0, \"#f0f921\"]], \"type\": \"histogram2dcontour\"}], \"mesh3d\": [{\"colorbar\": {\"outlinewidth\": 0, \"ticks\": \"\"}, \"type\": \"mesh3d\"}], \"parcoords\": [{\"line\": {\"colorbar\": {\"outlinewidth\": 0, \"ticks\": \"\"}}, \"type\": \"parcoords\"}], \"pie\": [{\"automargin\": true, \"type\": \"pie\"}], \"scatter\": [{\"marker\": {\"colorbar\": {\"outlinewidth\": 0, \"ticks\": \"\"}}, \"type\": \"scatter\"}], \"scatter3d\": [{\"line\": {\"colorbar\": {\"outlinewidth\": 0, \"ticks\": \"\"}}, \"marker\": {\"colorbar\": {\"outlinewidth\": 0, \"ticks\": \"\"}}, \"type\": \"scatter3d\"}], \"scattercarpet\": [{\"marker\": {\"colorbar\": {\"outlinewidth\": 0, \"ticks\": \"\"}}, \"type\": \"scattercarpet\"}], \"scattergeo\": [{\"marker\": {\"colorbar\": {\"outlinewidth\": 0, \"ticks\": \"\"}}, \"type\": \"scattergeo\"}], \"scattergl\": [{\"marker\": {\"colorbar\": {\"outlinewidth\": 0, \"ticks\": \"\"}}, \"type\": \"scattergl\"}], \"scattermapbox\": [{\"marker\": {\"colorbar\": {\"outlinewidth\": 0, \"ticks\": \"\"}}, \"type\": \"scattermapbox\"}], \"scatterpolar\": [{\"marker\": {\"colorbar\": {\"outlinewidth\": 0, \"ticks\": \"\"}}, \"type\": \"scatterpolar\"}], \"scatterpolargl\": [{\"marker\": {\"colorbar\": {\"outlinewidth\": 0, \"ticks\": \"\"}}, \"type\": \"scatterpolargl\"}], \"scatterternary\": [{\"marker\": {\"colorbar\": {\"outlinewidth\": 0, \"ticks\": \"\"}}, \"type\": \"scatterternary\"}], \"surface\": [{\"colorbar\": {\"outlinewidth\": 0, \"ticks\": \"\"}, \"colorscale\": [[0.0, \"#0d0887\"], [0.1111111111111111, \"#46039f\"], [0.2222222222222222, \"#7201a8\"], [0.3333333333333333, \"#9c179e\"], [0.4444444444444444, \"#bd3786\"], [0.5555555555555556, \"#d8576b\"], [0.6666666666666666, \"#ed7953\"], [0.7777777777777778, \"#fb9f3a\"], [0.8888888888888888, \"#fdca26\"], [1.0, \"#f0f921\"]], \"type\": \"surface\"}], \"table\": [{\"cells\": {\"fill\": {\"color\": \"#EBF0F8\"}, \"line\": {\"color\": \"white\"}}, \"header\": {\"fill\": {\"color\": \"#C8D4E3\"}, \"line\": {\"color\": \"white\"}}, \"type\": \"table\"}]}, \"layout\": {\"annotationdefaults\": {\"arrowcolor\": \"#2a3f5f\", \"arrowhead\": 0, \"arrowwidth\": 1}, \"autotypenumbers\": \"strict\", \"coloraxis\": {\"colorbar\": {\"outlinewidth\": 0, \"ticks\": \"\"}}, \"colorscale\": {\"diverging\": [[0, \"#8e0152\"], [0.1, \"#c51b7d\"], [0.2, \"#de77ae\"], [0.3, \"#f1b6da\"], [0.4, \"#fde0ef\"], [0.5, \"#f7f7f7\"], [0.6, \"#e6f5d0\"], [0.7, \"#b8e186\"], [0.8, \"#7fbc41\"], [0.9, \"#4d9221\"], [1, \"#276419\"]], \"sequential\": [[0.0, \"#0d0887\"], [0.1111111111111111, \"#46039f\"], [0.2222222222222222, \"#7201a8\"], [0.3333333333333333, \"#9c179e\"], [0.4444444444444444, \"#bd3786\"], [0.5555555555555556, \"#d8576b\"], [0.6666666666666666, \"#ed7953\"], [0.7777777777777778, \"#fb9f3a\"], [0.8888888888888888, \"#fdca26\"], [1.0, \"#f0f921\"]], \"sequentialminus\": [[0.0, \"#0d0887\"], [0.1111111111111111, \"#46039f\"], [0.2222222222222222, \"#7201a8\"], [0.3333333333333333, \"#9c179e\"], [0.4444444444444444, \"#bd3786\"], [0.5555555555555556, \"#d8576b\"], [0.6666666666666666, \"#ed7953\"], [0.7777777777777778, \"#fb9f3a\"], [0.8888888888888888, \"#fdca26\"], [1.0, \"#f0f921\"]]}, \"colorway\": [\"#636efa\", \"#EF553B\", \"#00cc96\", \"#ab63fa\", \"#FFA15A\", \"#19d3f3\", \"#FF6692\", \"#B6E880\", \"#FF97FF\", \"#FECB52\"], \"font\": {\"color\": \"#2a3f5f\"}, \"geo\": {\"bgcolor\": \"white\", \"lakecolor\": \"white\", \"landcolor\": \"#E5ECF6\", \"showlakes\": true, \"showland\": true, \"subunitcolor\": \"white\"}, \"hoverlabel\": {\"align\": \"left\"}, \"hovermode\": \"closest\", \"mapbox\": {\"style\": \"light\"}, \"paper_bgcolor\": \"white\", \"plot_bgcolor\": \"#E5ECF6\", \"polar\": {\"angularaxis\": {\"gridcolor\": \"white\", \"linecolor\": \"white\", \"ticks\": \"\"}, \"bgcolor\": \"#E5ECF6\", \"radialaxis\": {\"gridcolor\": \"white\", \"linecolor\": \"white\", \"ticks\": \"\"}}, \"scene\": {\"xaxis\": {\"backgroundcolor\": \"#E5ECF6\", \"gridcolor\": \"white\", \"gridwidth\": 2, \"linecolor\": \"white\", \"showbackground\": true, \"ticks\": \"\", \"zerolinecolor\": \"white\"}, \"yaxis\": {\"backgroundcolor\": \"#E5ECF6\", \"gridcolor\": \"white\", \"gridwidth\": 2, \"linecolor\": \"white\", \"showbackground\": true, \"ticks\": \"\", \"zerolinecolor\": \"white\"}, \"zaxis\": {\"backgroundcolor\": \"#E5ECF6\", \"gridcolor\": \"white\", \"gridwidth\": 2, \"linecolor\": \"white\", \"showbackground\": true, \"ticks\": \"\", \"zerolinecolor\": \"white\"}}, \"shapedefaults\": {\"line\": {\"color\": \"#2a3f5f\"}}, \"ternary\": {\"aaxis\": {\"gridcolor\": \"white\", \"linecolor\": \"white\", \"ticks\": \"\"}, \"baxis\": {\"gridcolor\": \"white\", \"linecolor\": \"white\", \"ticks\": \"\"}, \"bgcolor\": \"#E5ECF6\", \"caxis\": {\"gridcolor\": \"white\", \"linecolor\": \"white\", \"ticks\": \"\"}}, \"title\": {\"x\": 0.05}, \"xaxis\": {\"automargin\": true, \"gridcolor\": \"white\", \"linecolor\": \"white\", \"ticks\": \"\", \"title\": {\"standoff\": 15}, \"zerolinecolor\": \"white\", \"zerolinewidth\": 2}, \"yaxis\": {\"automargin\": true, \"gridcolor\": \"white\", \"linecolor\": \"white\", \"ticks\": \"\", \"title\": {\"standoff\": 15}, \"zerolinecolor\": \"white\", \"zerolinewidth\": 2}}}, \"xaxis\": {\"anchor\": \"y\", \"domain\": [0.0, 1.0], \"title\": {\"text\": \"0\"}}, \"yaxis\": {\"anchor\": \"x\", \"domain\": [0.0, 1.0], \"title\": {\"text\": \"1\"}}},                        {\"responsive\": true}                    ).then(function(){\n",
       "                            \n",
       "var gd = document.getElementById('977f1840-55b3-42b1-9cf3-e184f17fef8f');\n",
       "var x = new MutationObserver(function (mutations, observer) {{\n",
       "        var display = window.getComputedStyle(gd).display;\n",
       "        if (!display || display === 'none') {{\n",
       "            console.log([gd, 'removed!']);\n",
       "            Plotly.purge(gd);\n",
       "            observer.disconnect();\n",
       "        }}\n",
       "}});\n",
       "\n",
       "// Listen for the removal of the full notebook cells\n",
       "var notebookContainer = gd.closest('#notebook-container');\n",
       "if (notebookContainer) {{\n",
       "    x.observe(notebookContainer, {childList: true});\n",
       "}}\n",
       "\n",
       "// Listen for the clearing of the current output cell\n",
       "var outputEl = gd.closest('.output');\n",
       "if (outputEl) {{\n",
       "    x.observe(outputEl, {childList: true});\n",
       "}}\n",
       "\n",
       "                        })                };                });            </script>        </div>"
      ]
     },
     "metadata": {},
     "output_type": "display_data"
    }
   ],
   "source": [
    "#Here is the PCA with the raw data\n",
    "pca = PCA(n_components=2)\n",
    "components = pca.fit_transform(feature_table_sparse.T)\n",
    "\n",
    "fig = px.scatter(components, x=0, y=1,color=mtda['body-site'])\n",
    "fig.show()"
   ]
  },
  {
   "cell_type": "code",
   "execution_count": 134,
   "metadata": {},
   "outputs": [
    {
     "data": {
      "application/vnd.plotly.v1+json": {
       "config": {
        "plotlyServerURL": "https://plot.ly"
       },
       "data": [
        {
         "hovertemplate": "color=gut<br>0=%{x}<br>1=%{y}<br>2=%{z}<extra></extra>",
         "legendgroup": "gut",
         "marker": {
          "color": "#636efa",
          "symbol": "circle"
         },
         "mode": "markers",
         "name": "gut",
         "scene": "scene",
         "showlegend": true,
         "type": "scatter3d",
         "x": [
          -26.92801779449196,
          -27.858189366323053,
          -35.31202371496704,
          -34.13442396690605,
          8.458659700237002,
          6.66964716077727,
          4.445681421795837,
          -17.410806136948167
         ],
         "y": [
          8.308997948511145,
          7.28025505636807,
          9.337918497333296,
          9.92558522346584,
          3.3255271792920977,
          5.553324461233161,
          8.002655378074746,
          0.7965372745294521
         ],
         "z": [
          2.847353333627503,
          2.67810976751914,
          5.879367373635797,
          5.855915865499813,
          0.6024749159501854,
          -4.608285769796638,
          -7.913679388642278,
          -1.0949685038907644
         ]
        },
        {
         "hovertemplate": "color=left palm<br>0=%{x}<br>1=%{y}<br>2=%{z}<extra></extra>",
         "legendgroup": "left palm",
         "marker": {
          "color": "#EF553B",
          "symbol": "circle"
         },
         "mode": "markers",
         "name": "left palm",
         "scene": "scene",
         "showlegend": true,
         "type": "scatter3d",
         "x": [
          -34.59814987795242,
          -31.362491394639786,
          -30.528105206357438,
          -20.340139957397792,
          31.508771496241064,
          27.484693719042056,
          37.75004044745741,
          3.023881977865926
         ],
         "y": [
          9.545614759458632,
          8.885185134598315,
          8.738165910568423,
          2.2860122156851035,
          18.03167621207625,
          -5.97303919560693,
          33.05391483202427,
          -17.02492720319826
         ],
         "z": [
          5.33406845184141,
          3.170387608969106,
          2.734198755870775,
          -1.1262562507108387,
          3.6900082299770443,
          43.391189937214286,
          -18.132723233561247,
          -6.395893387365299
         ]
        },
        {
         "hovertemplate": "color=right palm<br>0=%{x}<br>1=%{y}<br>2=%{z}<extra></extra>",
         "legendgroup": "right palm",
         "marker": {
          "color": "#00cc96",
          "symbol": "circle"
         },
         "mode": "markers",
         "name": "right palm",
         "scene": "scene",
         "showlegend": true,
         "type": "scatter3d",
         "x": [
          18.49772183462786,
          20.724199158826263,
          12.17749829486882,
          17.927571398902373,
          6.110443749697625,
          0.6866755172110949,
          1.9151319747679183,
          3.5063736305200273,
          3.2541162608036176
         ],
         "y": [
          14.093125949814217,
          9.665078147258535,
          16.909702226696705,
          25.300294247607123,
          -22.015466706407317,
          -16.747851938695895,
          -19.649489598265355,
          -18.626798144442727,
          -19.732079938691054
         ],
         "z": [
          4.365912231564931,
          6.316988719702097,
          -9.841523179033949,
          -13.071406224138753,
          -7.288948287157617,
          -6.709471032162801,
          -7.603627723226724,
          -5.767111848282092,
          -8.746100380597685
         ]
        },
        {
         "hovertemplate": "color=tongue<br>0=%{x}<br>1=%{y}<br>2=%{z}<extra></extra>",
         "legendgroup": "tongue",
         "marker": {
          "color": "#ab63fa",
          "symbol": "circle"
         },
         "mode": "markers",
         "name": "tongue",
         "scene": "scene",
         "showlegend": true,
         "type": "scatter3d",
         "x": [
          7.9499871767555765,
          12.204691967883198,
          17.710446046702934,
          -12.921549695823034,
          6.088277089767741,
          2.214109001032042,
          5.339561695657254,
          7.113592808428735,
          8.632123581937169
         ],
         "y": [
          7.952834504814355,
          6.946295637188943,
          -6.458763658888407,
          -1.0682233753729733,
          4.383818539438041,
          -18.201843481806595,
          -25.328815183533774,
          -22.54282731362763,
          -24.952393597499825
         ],
         "z": [
          -3.443327072356299,
          -0.8258967601867901,
          39.64877969843074,
          -2.6535394500446827,
          -0.07284556479819107,
          -7.060159410972534,
          -8.180121897210206,
          -4.809630270753549,
          -1.1692392549139103
         ]
        }
       ],
       "layout": {
        "legend": {
         "title": {
          "text": "color"
         },
         "tracegroupgap": 0
        },
        "margin": {
         "t": 60
        },
        "scene": {
         "domain": {
          "x": [
           0,
           1
          ],
          "y": [
           0,
           1
          ]
         },
         "xaxis": {
          "title": {
           "text": "0"
          }
         },
         "yaxis": {
          "title": {
           "text": "1"
          }
         },
         "zaxis": {
          "title": {
           "text": "2"
          }
         }
        },
        "template": {
         "data": {
          "bar": [
           {
            "error_x": {
             "color": "#2a3f5f"
            },
            "error_y": {
             "color": "#2a3f5f"
            },
            "marker": {
             "line": {
              "color": "#E5ECF6",
              "width": 0.5
             }
            },
            "type": "bar"
           }
          ],
          "barpolar": [
           {
            "marker": {
             "line": {
              "color": "#E5ECF6",
              "width": 0.5
             }
            },
            "type": "barpolar"
           }
          ],
          "carpet": [
           {
            "aaxis": {
             "endlinecolor": "#2a3f5f",
             "gridcolor": "white",
             "linecolor": "white",
             "minorgridcolor": "white",
             "startlinecolor": "#2a3f5f"
            },
            "baxis": {
             "endlinecolor": "#2a3f5f",
             "gridcolor": "white",
             "linecolor": "white",
             "minorgridcolor": "white",
             "startlinecolor": "#2a3f5f"
            },
            "type": "carpet"
           }
          ],
          "choropleth": [
           {
            "colorbar": {
             "outlinewidth": 0,
             "ticks": ""
            },
            "type": "choropleth"
           }
          ],
          "contour": [
           {
            "colorbar": {
             "outlinewidth": 0,
             "ticks": ""
            },
            "colorscale": [
             [
              0,
              "#0d0887"
             ],
             [
              0.1111111111111111,
              "#46039f"
             ],
             [
              0.2222222222222222,
              "#7201a8"
             ],
             [
              0.3333333333333333,
              "#9c179e"
             ],
             [
              0.4444444444444444,
              "#bd3786"
             ],
             [
              0.5555555555555556,
              "#d8576b"
             ],
             [
              0.6666666666666666,
              "#ed7953"
             ],
             [
              0.7777777777777778,
              "#fb9f3a"
             ],
             [
              0.8888888888888888,
              "#fdca26"
             ],
             [
              1,
              "#f0f921"
             ]
            ],
            "type": "contour"
           }
          ],
          "contourcarpet": [
           {
            "colorbar": {
             "outlinewidth": 0,
             "ticks": ""
            },
            "type": "contourcarpet"
           }
          ],
          "heatmap": [
           {
            "colorbar": {
             "outlinewidth": 0,
             "ticks": ""
            },
            "colorscale": [
             [
              0,
              "#0d0887"
             ],
             [
              0.1111111111111111,
              "#46039f"
             ],
             [
              0.2222222222222222,
              "#7201a8"
             ],
             [
              0.3333333333333333,
              "#9c179e"
             ],
             [
              0.4444444444444444,
              "#bd3786"
             ],
             [
              0.5555555555555556,
              "#d8576b"
             ],
             [
              0.6666666666666666,
              "#ed7953"
             ],
             [
              0.7777777777777778,
              "#fb9f3a"
             ],
             [
              0.8888888888888888,
              "#fdca26"
             ],
             [
              1,
              "#f0f921"
             ]
            ],
            "type": "heatmap"
           }
          ],
          "heatmapgl": [
           {
            "colorbar": {
             "outlinewidth": 0,
             "ticks": ""
            },
            "colorscale": [
             [
              0,
              "#0d0887"
             ],
             [
              0.1111111111111111,
              "#46039f"
             ],
             [
              0.2222222222222222,
              "#7201a8"
             ],
             [
              0.3333333333333333,
              "#9c179e"
             ],
             [
              0.4444444444444444,
              "#bd3786"
             ],
             [
              0.5555555555555556,
              "#d8576b"
             ],
             [
              0.6666666666666666,
              "#ed7953"
             ],
             [
              0.7777777777777778,
              "#fb9f3a"
             ],
             [
              0.8888888888888888,
              "#fdca26"
             ],
             [
              1,
              "#f0f921"
             ]
            ],
            "type": "heatmapgl"
           }
          ],
          "histogram": [
           {
            "marker": {
             "colorbar": {
              "outlinewidth": 0,
              "ticks": ""
             }
            },
            "type": "histogram"
           }
          ],
          "histogram2d": [
           {
            "colorbar": {
             "outlinewidth": 0,
             "ticks": ""
            },
            "colorscale": [
             [
              0,
              "#0d0887"
             ],
             [
              0.1111111111111111,
              "#46039f"
             ],
             [
              0.2222222222222222,
              "#7201a8"
             ],
             [
              0.3333333333333333,
              "#9c179e"
             ],
             [
              0.4444444444444444,
              "#bd3786"
             ],
             [
              0.5555555555555556,
              "#d8576b"
             ],
             [
              0.6666666666666666,
              "#ed7953"
             ],
             [
              0.7777777777777778,
              "#fb9f3a"
             ],
             [
              0.8888888888888888,
              "#fdca26"
             ],
             [
              1,
              "#f0f921"
             ]
            ],
            "type": "histogram2d"
           }
          ],
          "histogram2dcontour": [
           {
            "colorbar": {
             "outlinewidth": 0,
             "ticks": ""
            },
            "colorscale": [
             [
              0,
              "#0d0887"
             ],
             [
              0.1111111111111111,
              "#46039f"
             ],
             [
              0.2222222222222222,
              "#7201a8"
             ],
             [
              0.3333333333333333,
              "#9c179e"
             ],
             [
              0.4444444444444444,
              "#bd3786"
             ],
             [
              0.5555555555555556,
              "#d8576b"
             ],
             [
              0.6666666666666666,
              "#ed7953"
             ],
             [
              0.7777777777777778,
              "#fb9f3a"
             ],
             [
              0.8888888888888888,
              "#fdca26"
             ],
             [
              1,
              "#f0f921"
             ]
            ],
            "type": "histogram2dcontour"
           }
          ],
          "mesh3d": [
           {
            "colorbar": {
             "outlinewidth": 0,
             "ticks": ""
            },
            "type": "mesh3d"
           }
          ],
          "parcoords": [
           {
            "line": {
             "colorbar": {
              "outlinewidth": 0,
              "ticks": ""
             }
            },
            "type": "parcoords"
           }
          ],
          "pie": [
           {
            "automargin": true,
            "type": "pie"
           }
          ],
          "scatter": [
           {
            "marker": {
             "colorbar": {
              "outlinewidth": 0,
              "ticks": ""
             }
            },
            "type": "scatter"
           }
          ],
          "scatter3d": [
           {
            "line": {
             "colorbar": {
              "outlinewidth": 0,
              "ticks": ""
             }
            },
            "marker": {
             "colorbar": {
              "outlinewidth": 0,
              "ticks": ""
             }
            },
            "type": "scatter3d"
           }
          ],
          "scattercarpet": [
           {
            "marker": {
             "colorbar": {
              "outlinewidth": 0,
              "ticks": ""
             }
            },
            "type": "scattercarpet"
           }
          ],
          "scattergeo": [
           {
            "marker": {
             "colorbar": {
              "outlinewidth": 0,
              "ticks": ""
             }
            },
            "type": "scattergeo"
           }
          ],
          "scattergl": [
           {
            "marker": {
             "colorbar": {
              "outlinewidth": 0,
              "ticks": ""
             }
            },
            "type": "scattergl"
           }
          ],
          "scattermapbox": [
           {
            "marker": {
             "colorbar": {
              "outlinewidth": 0,
              "ticks": ""
             }
            },
            "type": "scattermapbox"
           }
          ],
          "scatterpolar": [
           {
            "marker": {
             "colorbar": {
              "outlinewidth": 0,
              "ticks": ""
             }
            },
            "type": "scatterpolar"
           }
          ],
          "scatterpolargl": [
           {
            "marker": {
             "colorbar": {
              "outlinewidth": 0,
              "ticks": ""
             }
            },
            "type": "scatterpolargl"
           }
          ],
          "scatterternary": [
           {
            "marker": {
             "colorbar": {
              "outlinewidth": 0,
              "ticks": ""
             }
            },
            "type": "scatterternary"
           }
          ],
          "surface": [
           {
            "colorbar": {
             "outlinewidth": 0,
             "ticks": ""
            },
            "colorscale": [
             [
              0,
              "#0d0887"
             ],
             [
              0.1111111111111111,
              "#46039f"
             ],
             [
              0.2222222222222222,
              "#7201a8"
             ],
             [
              0.3333333333333333,
              "#9c179e"
             ],
             [
              0.4444444444444444,
              "#bd3786"
             ],
             [
              0.5555555555555556,
              "#d8576b"
             ],
             [
              0.6666666666666666,
              "#ed7953"
             ],
             [
              0.7777777777777778,
              "#fb9f3a"
             ],
             [
              0.8888888888888888,
              "#fdca26"
             ],
             [
              1,
              "#f0f921"
             ]
            ],
            "type": "surface"
           }
          ],
          "table": [
           {
            "cells": {
             "fill": {
              "color": "#EBF0F8"
             },
             "line": {
              "color": "white"
             }
            },
            "header": {
             "fill": {
              "color": "#C8D4E3"
             },
             "line": {
              "color": "white"
             }
            },
            "type": "table"
           }
          ]
         },
         "layout": {
          "annotationdefaults": {
           "arrowcolor": "#2a3f5f",
           "arrowhead": 0,
           "arrowwidth": 1
          },
          "autotypenumbers": "strict",
          "coloraxis": {
           "colorbar": {
            "outlinewidth": 0,
            "ticks": ""
           }
          },
          "colorscale": {
           "diverging": [
            [
             0,
             "#8e0152"
            ],
            [
             0.1,
             "#c51b7d"
            ],
            [
             0.2,
             "#de77ae"
            ],
            [
             0.3,
             "#f1b6da"
            ],
            [
             0.4,
             "#fde0ef"
            ],
            [
             0.5,
             "#f7f7f7"
            ],
            [
             0.6,
             "#e6f5d0"
            ],
            [
             0.7,
             "#b8e186"
            ],
            [
             0.8,
             "#7fbc41"
            ],
            [
             0.9,
             "#4d9221"
            ],
            [
             1,
             "#276419"
            ]
           ],
           "sequential": [
            [
             0,
             "#0d0887"
            ],
            [
             0.1111111111111111,
             "#46039f"
            ],
            [
             0.2222222222222222,
             "#7201a8"
            ],
            [
             0.3333333333333333,
             "#9c179e"
            ],
            [
             0.4444444444444444,
             "#bd3786"
            ],
            [
             0.5555555555555556,
             "#d8576b"
            ],
            [
             0.6666666666666666,
             "#ed7953"
            ],
            [
             0.7777777777777778,
             "#fb9f3a"
            ],
            [
             0.8888888888888888,
             "#fdca26"
            ],
            [
             1,
             "#f0f921"
            ]
           ],
           "sequentialminus": [
            [
             0,
             "#0d0887"
            ],
            [
             0.1111111111111111,
             "#46039f"
            ],
            [
             0.2222222222222222,
             "#7201a8"
            ],
            [
             0.3333333333333333,
             "#9c179e"
            ],
            [
             0.4444444444444444,
             "#bd3786"
            ],
            [
             0.5555555555555556,
             "#d8576b"
            ],
            [
             0.6666666666666666,
             "#ed7953"
            ],
            [
             0.7777777777777778,
             "#fb9f3a"
            ],
            [
             0.8888888888888888,
             "#fdca26"
            ],
            [
             1,
             "#f0f921"
            ]
           ]
          },
          "colorway": [
           "#636efa",
           "#EF553B",
           "#00cc96",
           "#ab63fa",
           "#FFA15A",
           "#19d3f3",
           "#FF6692",
           "#B6E880",
           "#FF97FF",
           "#FECB52"
          ],
          "font": {
           "color": "#2a3f5f"
          },
          "geo": {
           "bgcolor": "white",
           "lakecolor": "white",
           "landcolor": "#E5ECF6",
           "showlakes": true,
           "showland": true,
           "subunitcolor": "white"
          },
          "hoverlabel": {
           "align": "left"
          },
          "hovermode": "closest",
          "mapbox": {
           "style": "light"
          },
          "paper_bgcolor": "white",
          "plot_bgcolor": "#E5ECF6",
          "polar": {
           "angularaxis": {
            "gridcolor": "white",
            "linecolor": "white",
            "ticks": ""
           },
           "bgcolor": "#E5ECF6",
           "radialaxis": {
            "gridcolor": "white",
            "linecolor": "white",
            "ticks": ""
           }
          },
          "scene": {
           "xaxis": {
            "backgroundcolor": "#E5ECF6",
            "gridcolor": "white",
            "gridwidth": 2,
            "linecolor": "white",
            "showbackground": true,
            "ticks": "",
            "zerolinecolor": "white"
           },
           "yaxis": {
            "backgroundcolor": "#E5ECF6",
            "gridcolor": "white",
            "gridwidth": 2,
            "linecolor": "white",
            "showbackground": true,
            "ticks": "",
            "zerolinecolor": "white"
           },
           "zaxis": {
            "backgroundcolor": "#E5ECF6",
            "gridcolor": "white",
            "gridwidth": 2,
            "linecolor": "white",
            "showbackground": true,
            "ticks": "",
            "zerolinecolor": "white"
           }
          },
          "shapedefaults": {
           "line": {
            "color": "#2a3f5f"
           }
          },
          "ternary": {
           "aaxis": {
            "gridcolor": "white",
            "linecolor": "white",
            "ticks": ""
           },
           "baxis": {
            "gridcolor": "white",
            "linecolor": "white",
            "ticks": ""
           },
           "bgcolor": "#E5ECF6",
           "caxis": {
            "gridcolor": "white",
            "linecolor": "white",
            "ticks": ""
           }
          },
          "title": {
           "x": 0.05
          },
          "xaxis": {
           "automargin": true,
           "gridcolor": "white",
           "linecolor": "white",
           "ticks": "",
           "title": {
            "standoff": 15
           },
           "zerolinecolor": "white",
           "zerolinewidth": 2
          },
          "yaxis": {
           "automargin": true,
           "gridcolor": "white",
           "linecolor": "white",
           "ticks": "",
           "title": {
            "standoff": 15
           },
           "zerolinecolor": "white",
           "zerolinewidth": 2
          }
         }
        }
       }
      },
      "text/html": [
       "<div>                            <div id=\"f34f1552-7b5c-4f87-a372-de11aea3e7a6\" class=\"plotly-graph-div\" style=\"height:525px; width:100%;\"></div>            <script type=\"text/javascript\">                require([\"plotly\"], function(Plotly) {                    window.PLOTLYENV=window.PLOTLYENV || {};                                    if (document.getElementById(\"f34f1552-7b5c-4f87-a372-de11aea3e7a6\")) {                    Plotly.newPlot(                        \"f34f1552-7b5c-4f87-a372-de11aea3e7a6\",                        [{\"hovertemplate\": \"color=gut<br>0=%{x}<br>1=%{y}<br>2=%{z}<extra></extra>\", \"legendgroup\": \"gut\", \"marker\": {\"color\": \"#636efa\", \"symbol\": \"circle\"}, \"mode\": \"markers\", \"name\": \"gut\", \"scene\": \"scene\", \"showlegend\": true, \"type\": \"scatter3d\", \"x\": [-26.92801779449196, -27.858189366323053, -35.31202371496704, -34.13442396690605, 8.458659700237002, 6.66964716077727, 4.445681421795837, -17.410806136948167], \"y\": [8.308997948511145, 7.28025505636807, 9.337918497333296, 9.92558522346584, 3.3255271792920977, 5.553324461233161, 8.002655378074746, 0.7965372745294521], \"z\": [2.847353333627503, 2.67810976751914, 5.879367373635797, 5.855915865499813, 0.6024749159501854, -4.608285769796638, -7.913679388642278, -1.0949685038907644]}, {\"hovertemplate\": \"color=left palm<br>0=%{x}<br>1=%{y}<br>2=%{z}<extra></extra>\", \"legendgroup\": \"left palm\", \"marker\": {\"color\": \"#EF553B\", \"symbol\": \"circle\"}, \"mode\": \"markers\", \"name\": \"left palm\", \"scene\": \"scene\", \"showlegend\": true, \"type\": \"scatter3d\", \"x\": [-34.59814987795242, -31.362491394639786, -30.528105206357438, -20.340139957397792, 31.508771496241064, 27.484693719042056, 37.75004044745741, 3.023881977865926], \"y\": [9.545614759458632, 8.885185134598315, 8.738165910568423, 2.2860122156851035, 18.03167621207625, -5.97303919560693, 33.05391483202427, -17.02492720319826], \"z\": [5.33406845184141, 3.170387608969106, 2.734198755870775, -1.1262562507108387, 3.6900082299770443, 43.391189937214286, -18.132723233561247, -6.395893387365299]}, {\"hovertemplate\": \"color=right palm<br>0=%{x}<br>1=%{y}<br>2=%{z}<extra></extra>\", \"legendgroup\": \"right palm\", \"marker\": {\"color\": \"#00cc96\", \"symbol\": \"circle\"}, \"mode\": \"markers\", \"name\": \"right palm\", \"scene\": \"scene\", \"showlegend\": true, \"type\": \"scatter3d\", \"x\": [18.49772183462786, 20.724199158826263, 12.17749829486882, 17.927571398902373, 6.110443749697625, 0.6866755172110949, 1.9151319747679183, 3.5063736305200273, 3.2541162608036176], \"y\": [14.093125949814217, 9.665078147258535, 16.909702226696705, 25.300294247607123, -22.015466706407317, -16.747851938695895, -19.649489598265355, -18.626798144442727, -19.732079938691054], \"z\": [4.365912231564931, 6.316988719702097, -9.841523179033949, -13.071406224138753, -7.288948287157617, -6.709471032162801, -7.603627723226724, -5.767111848282092, -8.746100380597685]}, {\"hovertemplate\": \"color=tongue<br>0=%{x}<br>1=%{y}<br>2=%{z}<extra></extra>\", \"legendgroup\": \"tongue\", \"marker\": {\"color\": \"#ab63fa\", \"symbol\": \"circle\"}, \"mode\": \"markers\", \"name\": \"tongue\", \"scene\": \"scene\", \"showlegend\": true, \"type\": \"scatter3d\", \"x\": [7.9499871767555765, 12.204691967883198, 17.710446046702934, -12.921549695823034, 6.088277089767741, 2.214109001032042, 5.339561695657254, 7.113592808428735, 8.632123581937169], \"y\": [7.952834504814355, 6.946295637188943, -6.458763658888407, -1.0682233753729733, 4.383818539438041, -18.201843481806595, -25.328815183533774, -22.54282731362763, -24.952393597499825], \"z\": [-3.443327072356299, -0.8258967601867901, 39.64877969843074, -2.6535394500446827, -0.07284556479819107, -7.060159410972534, -8.180121897210206, -4.809630270753549, -1.1692392549139103]}],                        {\"legend\": {\"title\": {\"text\": \"color\"}, \"tracegroupgap\": 0}, \"margin\": {\"t\": 60}, \"scene\": {\"domain\": {\"x\": [0.0, 1.0], \"y\": [0.0, 1.0]}, \"xaxis\": {\"title\": {\"text\": \"0\"}}, \"yaxis\": {\"title\": {\"text\": \"1\"}}, \"zaxis\": {\"title\": {\"text\": \"2\"}}}, \"template\": {\"data\": {\"bar\": [{\"error_x\": {\"color\": \"#2a3f5f\"}, \"error_y\": {\"color\": \"#2a3f5f\"}, \"marker\": {\"line\": {\"color\": \"#E5ECF6\", \"width\": 0.5}}, \"type\": \"bar\"}], \"barpolar\": [{\"marker\": {\"line\": {\"color\": \"#E5ECF6\", \"width\": 0.5}}, \"type\": \"barpolar\"}], \"carpet\": [{\"aaxis\": {\"endlinecolor\": \"#2a3f5f\", \"gridcolor\": \"white\", \"linecolor\": \"white\", \"minorgridcolor\": \"white\", \"startlinecolor\": \"#2a3f5f\"}, \"baxis\": {\"endlinecolor\": \"#2a3f5f\", \"gridcolor\": \"white\", \"linecolor\": \"white\", \"minorgridcolor\": \"white\", \"startlinecolor\": \"#2a3f5f\"}, \"type\": \"carpet\"}], \"choropleth\": [{\"colorbar\": {\"outlinewidth\": 0, \"ticks\": \"\"}, \"type\": \"choropleth\"}], \"contour\": [{\"colorbar\": {\"outlinewidth\": 0, \"ticks\": \"\"}, \"colorscale\": [[0.0, \"#0d0887\"], [0.1111111111111111, \"#46039f\"], [0.2222222222222222, \"#7201a8\"], [0.3333333333333333, \"#9c179e\"], [0.4444444444444444, \"#bd3786\"], [0.5555555555555556, \"#d8576b\"], [0.6666666666666666, \"#ed7953\"], [0.7777777777777778, \"#fb9f3a\"], [0.8888888888888888, \"#fdca26\"], [1.0, \"#f0f921\"]], \"type\": \"contour\"}], \"contourcarpet\": [{\"colorbar\": {\"outlinewidth\": 0, \"ticks\": \"\"}, \"type\": \"contourcarpet\"}], \"heatmap\": [{\"colorbar\": {\"outlinewidth\": 0, \"ticks\": \"\"}, \"colorscale\": [[0.0, \"#0d0887\"], [0.1111111111111111, \"#46039f\"], [0.2222222222222222, \"#7201a8\"], [0.3333333333333333, \"#9c179e\"], [0.4444444444444444, \"#bd3786\"], [0.5555555555555556, \"#d8576b\"], [0.6666666666666666, \"#ed7953\"], [0.7777777777777778, \"#fb9f3a\"], [0.8888888888888888, \"#fdca26\"], [1.0, \"#f0f921\"]], \"type\": \"heatmap\"}], \"heatmapgl\": [{\"colorbar\": {\"outlinewidth\": 0, \"ticks\": \"\"}, \"colorscale\": [[0.0, \"#0d0887\"], [0.1111111111111111, \"#46039f\"], [0.2222222222222222, \"#7201a8\"], [0.3333333333333333, \"#9c179e\"], [0.4444444444444444, \"#bd3786\"], [0.5555555555555556, \"#d8576b\"], [0.6666666666666666, \"#ed7953\"], [0.7777777777777778, \"#fb9f3a\"], [0.8888888888888888, \"#fdca26\"], [1.0, \"#f0f921\"]], \"type\": \"heatmapgl\"}], \"histogram\": [{\"marker\": {\"colorbar\": {\"outlinewidth\": 0, \"ticks\": \"\"}}, \"type\": \"histogram\"}], \"histogram2d\": [{\"colorbar\": {\"outlinewidth\": 0, \"ticks\": \"\"}, \"colorscale\": [[0.0, \"#0d0887\"], [0.1111111111111111, \"#46039f\"], [0.2222222222222222, \"#7201a8\"], [0.3333333333333333, \"#9c179e\"], [0.4444444444444444, \"#bd3786\"], [0.5555555555555556, \"#d8576b\"], [0.6666666666666666, \"#ed7953\"], [0.7777777777777778, \"#fb9f3a\"], [0.8888888888888888, \"#fdca26\"], [1.0, \"#f0f921\"]], \"type\": \"histogram2d\"}], \"histogram2dcontour\": [{\"colorbar\": {\"outlinewidth\": 0, \"ticks\": \"\"}, \"colorscale\": [[0.0, \"#0d0887\"], [0.1111111111111111, \"#46039f\"], [0.2222222222222222, \"#7201a8\"], [0.3333333333333333, \"#9c179e\"], [0.4444444444444444, \"#bd3786\"], [0.5555555555555556, \"#d8576b\"], [0.6666666666666666, \"#ed7953\"], [0.7777777777777778, \"#fb9f3a\"], [0.8888888888888888, \"#fdca26\"], [1.0, \"#f0f921\"]], \"type\": \"histogram2dcontour\"}], \"mesh3d\": [{\"colorbar\": {\"outlinewidth\": 0, \"ticks\": \"\"}, \"type\": \"mesh3d\"}], \"parcoords\": [{\"line\": {\"colorbar\": {\"outlinewidth\": 0, \"ticks\": \"\"}}, \"type\": \"parcoords\"}], \"pie\": [{\"automargin\": true, \"type\": \"pie\"}], \"scatter\": [{\"marker\": {\"colorbar\": {\"outlinewidth\": 0, \"ticks\": \"\"}}, \"type\": \"scatter\"}], \"scatter3d\": [{\"line\": {\"colorbar\": {\"outlinewidth\": 0, \"ticks\": \"\"}}, \"marker\": {\"colorbar\": {\"outlinewidth\": 0, \"ticks\": \"\"}}, \"type\": \"scatter3d\"}], \"scattercarpet\": [{\"marker\": {\"colorbar\": {\"outlinewidth\": 0, \"ticks\": \"\"}}, \"type\": \"scattercarpet\"}], \"scattergeo\": [{\"marker\": {\"colorbar\": {\"outlinewidth\": 0, \"ticks\": \"\"}}, \"type\": \"scattergeo\"}], \"scattergl\": [{\"marker\": {\"colorbar\": {\"outlinewidth\": 0, \"ticks\": \"\"}}, \"type\": \"scattergl\"}], \"scattermapbox\": [{\"marker\": {\"colorbar\": {\"outlinewidth\": 0, \"ticks\": \"\"}}, \"type\": \"scattermapbox\"}], \"scatterpolar\": [{\"marker\": {\"colorbar\": {\"outlinewidth\": 0, \"ticks\": \"\"}}, \"type\": \"scatterpolar\"}], \"scatterpolargl\": [{\"marker\": {\"colorbar\": {\"outlinewidth\": 0, \"ticks\": \"\"}}, \"type\": \"scatterpolargl\"}], \"scatterternary\": [{\"marker\": {\"colorbar\": {\"outlinewidth\": 0, \"ticks\": \"\"}}, \"type\": \"scatterternary\"}], \"surface\": [{\"colorbar\": {\"outlinewidth\": 0, \"ticks\": \"\"}, \"colorscale\": [[0.0, \"#0d0887\"], [0.1111111111111111, \"#46039f\"], [0.2222222222222222, \"#7201a8\"], [0.3333333333333333, \"#9c179e\"], [0.4444444444444444, \"#bd3786\"], [0.5555555555555556, \"#d8576b\"], [0.6666666666666666, \"#ed7953\"], [0.7777777777777778, \"#fb9f3a\"], [0.8888888888888888, \"#fdca26\"], [1.0, \"#f0f921\"]], \"type\": \"surface\"}], \"table\": [{\"cells\": {\"fill\": {\"color\": \"#EBF0F8\"}, \"line\": {\"color\": \"white\"}}, \"header\": {\"fill\": {\"color\": \"#C8D4E3\"}, \"line\": {\"color\": \"white\"}}, \"type\": \"table\"}]}, \"layout\": {\"annotationdefaults\": {\"arrowcolor\": \"#2a3f5f\", \"arrowhead\": 0, \"arrowwidth\": 1}, \"autotypenumbers\": \"strict\", \"coloraxis\": {\"colorbar\": {\"outlinewidth\": 0, \"ticks\": \"\"}}, \"colorscale\": {\"diverging\": [[0, \"#8e0152\"], [0.1, \"#c51b7d\"], [0.2, \"#de77ae\"], [0.3, \"#f1b6da\"], [0.4, \"#fde0ef\"], [0.5, \"#f7f7f7\"], [0.6, \"#e6f5d0\"], [0.7, \"#b8e186\"], [0.8, \"#7fbc41\"], [0.9, \"#4d9221\"], [1, \"#276419\"]], \"sequential\": [[0.0, \"#0d0887\"], [0.1111111111111111, \"#46039f\"], [0.2222222222222222, \"#7201a8\"], [0.3333333333333333, \"#9c179e\"], [0.4444444444444444, \"#bd3786\"], [0.5555555555555556, \"#d8576b\"], [0.6666666666666666, \"#ed7953\"], [0.7777777777777778, \"#fb9f3a\"], [0.8888888888888888, \"#fdca26\"], [1.0, \"#f0f921\"]], \"sequentialminus\": [[0.0, \"#0d0887\"], [0.1111111111111111, \"#46039f\"], [0.2222222222222222, \"#7201a8\"], [0.3333333333333333, \"#9c179e\"], [0.4444444444444444, \"#bd3786\"], [0.5555555555555556, \"#d8576b\"], [0.6666666666666666, \"#ed7953\"], [0.7777777777777778, \"#fb9f3a\"], [0.8888888888888888, \"#fdca26\"], [1.0, \"#f0f921\"]]}, \"colorway\": [\"#636efa\", \"#EF553B\", \"#00cc96\", \"#ab63fa\", \"#FFA15A\", \"#19d3f3\", \"#FF6692\", \"#B6E880\", \"#FF97FF\", \"#FECB52\"], \"font\": {\"color\": \"#2a3f5f\"}, \"geo\": {\"bgcolor\": \"white\", \"lakecolor\": \"white\", \"landcolor\": \"#E5ECF6\", \"showlakes\": true, \"showland\": true, \"subunitcolor\": \"white\"}, \"hoverlabel\": {\"align\": \"left\"}, \"hovermode\": \"closest\", \"mapbox\": {\"style\": \"light\"}, \"paper_bgcolor\": \"white\", \"plot_bgcolor\": \"#E5ECF6\", \"polar\": {\"angularaxis\": {\"gridcolor\": \"white\", \"linecolor\": \"white\", \"ticks\": \"\"}, \"bgcolor\": \"#E5ECF6\", \"radialaxis\": {\"gridcolor\": \"white\", \"linecolor\": \"white\", \"ticks\": \"\"}}, \"scene\": {\"xaxis\": {\"backgroundcolor\": \"#E5ECF6\", \"gridcolor\": \"white\", \"gridwidth\": 2, \"linecolor\": \"white\", \"showbackground\": true, \"ticks\": \"\", \"zerolinecolor\": \"white\"}, \"yaxis\": {\"backgroundcolor\": \"#E5ECF6\", \"gridcolor\": \"white\", \"gridwidth\": 2, \"linecolor\": \"white\", \"showbackground\": true, \"ticks\": \"\", \"zerolinecolor\": \"white\"}, \"zaxis\": {\"backgroundcolor\": \"#E5ECF6\", \"gridcolor\": \"white\", \"gridwidth\": 2, \"linecolor\": \"white\", \"showbackground\": true, \"ticks\": \"\", \"zerolinecolor\": \"white\"}}, \"shapedefaults\": {\"line\": {\"color\": \"#2a3f5f\"}}, \"ternary\": {\"aaxis\": {\"gridcolor\": \"white\", \"linecolor\": \"white\", \"ticks\": \"\"}, \"baxis\": {\"gridcolor\": \"white\", \"linecolor\": \"white\", \"ticks\": \"\"}, \"bgcolor\": \"#E5ECF6\", \"caxis\": {\"gridcolor\": \"white\", \"linecolor\": \"white\", \"ticks\": \"\"}}, \"title\": {\"x\": 0.05}, \"xaxis\": {\"automargin\": true, \"gridcolor\": \"white\", \"linecolor\": \"white\", \"ticks\": \"\", \"title\": {\"standoff\": 15}, \"zerolinecolor\": \"white\", \"zerolinewidth\": 2}, \"yaxis\": {\"automargin\": true, \"gridcolor\": \"white\", \"linecolor\": \"white\", \"ticks\": \"\", \"title\": {\"standoff\": 15}, \"zerolinecolor\": \"white\", \"zerolinewidth\": 2}}}},                        {\"responsive\": true}                    ).then(function(){\n",
       "                            \n",
       "var gd = document.getElementById('f34f1552-7b5c-4f87-a372-de11aea3e7a6');\n",
       "var x = new MutationObserver(function (mutations, observer) {{\n",
       "        var display = window.getComputedStyle(gd).display;\n",
       "        if (!display || display === 'none') {{\n",
       "            console.log([gd, 'removed!']);\n",
       "            Plotly.purge(gd);\n",
       "            observer.disconnect();\n",
       "        }}\n",
       "}});\n",
       "\n",
       "// Listen for the removal of the full notebook cells\n",
       "var notebookContainer = gd.closest('#notebook-container');\n",
       "if (notebookContainer) {{\n",
       "    x.observe(notebookContainer, {childList: true});\n",
       "}}\n",
       "\n",
       "// Listen for the clearing of the current output cell\n",
       "var outputEl = gd.closest('.output');\n",
       "if (outputEl) {{\n",
       "    x.observe(outputEl, {childList: true});\n",
       "}}\n",
       "\n",
       "                        })                };                });            </script>        </div>"
      ]
     },
     "metadata": {},
     "output_type": "display_data"
    }
   ],
   "source": [
    "#Relationship between samples in 3d\n",
    "pca = PCA(n_components=3)\n",
    "components = pca.fit_transform(clr_transformed.T)\n",
    "\n",
    "fig = px.scatter_3d(components, x=0, y=1, z=2, color=mtda['body-site'])\n",
    "fig.show()"
   ]
  },
  {
   "cell_type": "code",
   "execution_count": 143,
   "metadata": {},
   "outputs": [
    {
     "data": {
      "application/vnd.plotly.v1+json": {
       "config": {
        "plotlyServerURL": "https://plot.ly"
       },
       "data": [
        {
         "hovertemplate": "color=gut<br>0=%{x}<br>1=%{y}<br>2=%{z}<extra></extra>",
         "legendgroup": "gut",
         "marker": {
          "color": "#636efa",
          "symbol": "circle"
         },
         "mode": "markers",
         "name": "gut",
         "scene": "scene",
         "showlegend": true,
         "type": "scatter3d",
         "x": [
          2209.0857068725572,
          544.1010391421848,
          412.80856911940265,
          200.3474203591624,
          -282.2141112060047,
          -270.1485111914378,
          -260.0981903241979,
          -122.07199803786048
         ],
         "y": [
          407.5583188578521,
          -1836.6616016132261,
          -1811.558581297812,
          -1215.2085314297094,
          -180.7305098744565,
          -178.80928623151047,
          -201.052224097685,
          -455.3074339417045
         ],
         "z": [
          114.41531886090577,
          1399.407948933379,
          1321.5779242200058,
          699.7238168154367,
          -440.95308446470574,
          -415.2166499121723,
          -381.9571176061252,
          -101.33166593060736
         ]
        },
        {
         "hovertemplate": "color=left palm<br>0=%{x}<br>1=%{y}<br>2=%{z}<extra></extra>",
         "legendgroup": "left palm",
         "marker": {
          "color": "#EF553B",
          "symbol": "circle"
         },
         "mode": "markers",
         "name": "left palm",
         "scene": "scene",
         "showlegend": true,
         "type": "scatter3d",
         "x": [
          158.78109141956887,
          2674.9223270456046,
          2985.3977757843654,
          2586.117273235444,
          -631.6407676029796,
          -728.0647482847986,
          -504.3069470543944,
          -392.79537052416435
         ],
         "y": [
          -1454.5567305744648,
          780.8527860786339,
          979.3201182259438,
          683.8710097546185,
          181.654349068433,
          316.00560188303683,
          -35.72272044558992,
          19.781265459898634
         ],
         "z": [
          897.1836506498964,
          -24.16221803095518,
          -69.69839524294808,
          30.266572748472576,
          -727.6831230248108,
          -503.26438712911516,
          -721.5636929586873,
          -245.94121736434474
         ]
        },
        {
         "hovertemplate": "color=right palm<br>0=%{x}<br>1=%{y}<br>2=%{z}<extra></extra>",
         "legendgroup": "right palm",
         "marker": {
          "color": "#00cc96",
          "symbol": "circle"
         },
         "mode": "markers",
         "name": "right palm",
         "scene": "scene",
         "showlegend": true,
         "type": "scatter3d",
         "x": [
          -321.6402959080681,
          -408.9702465815099,
          -298.75132950932635,
          -278.25869120173815,
          -823.62761744195,
          -367.1554789871279,
          -358.9293045684589,
          -381.3918322791901,
          -415.41974636799534
         ],
         "y": [
          -162.28973192543057,
          -98.00784088119066,
          -189.27205002595915,
          -177.73114496164476,
          836.3029446967726,
          -32.21050704806519,
          -46.78893949179912,
          -22.651150978433503,
          45.83008711980242
         ],
         "z": [
          -510.2404227892663,
          -613.0754291561868,
          -548.9303771734224,
          -403.88938273149563,
          588.1346329128686,
          -270.8028974511305,
          -275.64383411992986,
          -274.03880637365717,
          -197.61980639059578
         ]
        },
        {
         "hovertemplate": "color=tongue<br>0=%{x}<br>1=%{y}<br>2=%{z}<extra></extra>",
         "legendgroup": "tongue",
         "marker": {
          "color": "#ab63fa",
          "symbol": "circle"
         },
         "mode": "markers",
         "name": "tongue",
         "scene": "scene",
         "showlegend": true,
         "type": "scatter3d",
         "x": [
          -312.70149451459156,
          -369.63621170011265,
          -371.5131334680842,
          134.6386082828365,
          -265.52036900048523,
          -467.7734064953581,
          -1355.353889400606,
          -1052.4389223314158,
          -865.7771972792548
         ],
         "y": [
          -155.71005850079104,
          -78.57501276040932,
          -75.9455479684244,
          -83.56864978066008,
          -201.83786711294607,
          190.45549233055476,
          2032.9411917314355,
          1297.3648411011784,
          922.2581146337535
         ],
         "z": [
          -430.54306920628005,
          -469.74613831650504,
          -423.94647182700015,
          -318.9091923830139,
          -420.97039538550854,
          2.903867034115757,
          1989.9546249628443,
          1064.0836829344123,
          682.4757348961297
         ]
        }
       ],
       "layout": {
        "legend": {
         "title": {
          "text": "color"
         },
         "tracegroupgap": 0
        },
        "margin": {
         "t": 60
        },
        "scene": {
         "domain": {
          "x": [
           0,
           1
          ],
          "y": [
           0,
           1
          ]
         },
         "xaxis": {
          "title": {
           "text": "0"
          }
         },
         "yaxis": {
          "title": {
           "text": "1"
          }
         },
         "zaxis": {
          "title": {
           "text": "2"
          }
         }
        },
        "template": {
         "data": {
          "bar": [
           {
            "error_x": {
             "color": "#2a3f5f"
            },
            "error_y": {
             "color": "#2a3f5f"
            },
            "marker": {
             "line": {
              "color": "#E5ECF6",
              "width": 0.5
             }
            },
            "type": "bar"
           }
          ],
          "barpolar": [
           {
            "marker": {
             "line": {
              "color": "#E5ECF6",
              "width": 0.5
             }
            },
            "type": "barpolar"
           }
          ],
          "carpet": [
           {
            "aaxis": {
             "endlinecolor": "#2a3f5f",
             "gridcolor": "white",
             "linecolor": "white",
             "minorgridcolor": "white",
             "startlinecolor": "#2a3f5f"
            },
            "baxis": {
             "endlinecolor": "#2a3f5f",
             "gridcolor": "white",
             "linecolor": "white",
             "minorgridcolor": "white",
             "startlinecolor": "#2a3f5f"
            },
            "type": "carpet"
           }
          ],
          "choropleth": [
           {
            "colorbar": {
             "outlinewidth": 0,
             "ticks": ""
            },
            "type": "choropleth"
           }
          ],
          "contour": [
           {
            "colorbar": {
             "outlinewidth": 0,
             "ticks": ""
            },
            "colorscale": [
             [
              0,
              "#0d0887"
             ],
             [
              0.1111111111111111,
              "#46039f"
             ],
             [
              0.2222222222222222,
              "#7201a8"
             ],
             [
              0.3333333333333333,
              "#9c179e"
             ],
             [
              0.4444444444444444,
              "#bd3786"
             ],
             [
              0.5555555555555556,
              "#d8576b"
             ],
             [
              0.6666666666666666,
              "#ed7953"
             ],
             [
              0.7777777777777778,
              "#fb9f3a"
             ],
             [
              0.8888888888888888,
              "#fdca26"
             ],
             [
              1,
              "#f0f921"
             ]
            ],
            "type": "contour"
           }
          ],
          "contourcarpet": [
           {
            "colorbar": {
             "outlinewidth": 0,
             "ticks": ""
            },
            "type": "contourcarpet"
           }
          ],
          "heatmap": [
           {
            "colorbar": {
             "outlinewidth": 0,
             "ticks": ""
            },
            "colorscale": [
             [
              0,
              "#0d0887"
             ],
             [
              0.1111111111111111,
              "#46039f"
             ],
             [
              0.2222222222222222,
              "#7201a8"
             ],
             [
              0.3333333333333333,
              "#9c179e"
             ],
             [
              0.4444444444444444,
              "#bd3786"
             ],
             [
              0.5555555555555556,
              "#d8576b"
             ],
             [
              0.6666666666666666,
              "#ed7953"
             ],
             [
              0.7777777777777778,
              "#fb9f3a"
             ],
             [
              0.8888888888888888,
              "#fdca26"
             ],
             [
              1,
              "#f0f921"
             ]
            ],
            "type": "heatmap"
           }
          ],
          "heatmapgl": [
           {
            "colorbar": {
             "outlinewidth": 0,
             "ticks": ""
            },
            "colorscale": [
             [
              0,
              "#0d0887"
             ],
             [
              0.1111111111111111,
              "#46039f"
             ],
             [
              0.2222222222222222,
              "#7201a8"
             ],
             [
              0.3333333333333333,
              "#9c179e"
             ],
             [
              0.4444444444444444,
              "#bd3786"
             ],
             [
              0.5555555555555556,
              "#d8576b"
             ],
             [
              0.6666666666666666,
              "#ed7953"
             ],
             [
              0.7777777777777778,
              "#fb9f3a"
             ],
             [
              0.8888888888888888,
              "#fdca26"
             ],
             [
              1,
              "#f0f921"
             ]
            ],
            "type": "heatmapgl"
           }
          ],
          "histogram": [
           {
            "marker": {
             "colorbar": {
              "outlinewidth": 0,
              "ticks": ""
             }
            },
            "type": "histogram"
           }
          ],
          "histogram2d": [
           {
            "colorbar": {
             "outlinewidth": 0,
             "ticks": ""
            },
            "colorscale": [
             [
              0,
              "#0d0887"
             ],
             [
              0.1111111111111111,
              "#46039f"
             ],
             [
              0.2222222222222222,
              "#7201a8"
             ],
             [
              0.3333333333333333,
              "#9c179e"
             ],
             [
              0.4444444444444444,
              "#bd3786"
             ],
             [
              0.5555555555555556,
              "#d8576b"
             ],
             [
              0.6666666666666666,
              "#ed7953"
             ],
             [
              0.7777777777777778,
              "#fb9f3a"
             ],
             [
              0.8888888888888888,
              "#fdca26"
             ],
             [
              1,
              "#f0f921"
             ]
            ],
            "type": "histogram2d"
           }
          ],
          "histogram2dcontour": [
           {
            "colorbar": {
             "outlinewidth": 0,
             "ticks": ""
            },
            "colorscale": [
             [
              0,
              "#0d0887"
             ],
             [
              0.1111111111111111,
              "#46039f"
             ],
             [
              0.2222222222222222,
              "#7201a8"
             ],
             [
              0.3333333333333333,
              "#9c179e"
             ],
             [
              0.4444444444444444,
              "#bd3786"
             ],
             [
              0.5555555555555556,
              "#d8576b"
             ],
             [
              0.6666666666666666,
              "#ed7953"
             ],
             [
              0.7777777777777778,
              "#fb9f3a"
             ],
             [
              0.8888888888888888,
              "#fdca26"
             ],
             [
              1,
              "#f0f921"
             ]
            ],
            "type": "histogram2dcontour"
           }
          ],
          "mesh3d": [
           {
            "colorbar": {
             "outlinewidth": 0,
             "ticks": ""
            },
            "type": "mesh3d"
           }
          ],
          "parcoords": [
           {
            "line": {
             "colorbar": {
              "outlinewidth": 0,
              "ticks": ""
             }
            },
            "type": "parcoords"
           }
          ],
          "pie": [
           {
            "automargin": true,
            "type": "pie"
           }
          ],
          "scatter": [
           {
            "marker": {
             "colorbar": {
              "outlinewidth": 0,
              "ticks": ""
             }
            },
            "type": "scatter"
           }
          ],
          "scatter3d": [
           {
            "line": {
             "colorbar": {
              "outlinewidth": 0,
              "ticks": ""
             }
            },
            "marker": {
             "colorbar": {
              "outlinewidth": 0,
              "ticks": ""
             }
            },
            "type": "scatter3d"
           }
          ],
          "scattercarpet": [
           {
            "marker": {
             "colorbar": {
              "outlinewidth": 0,
              "ticks": ""
             }
            },
            "type": "scattercarpet"
           }
          ],
          "scattergeo": [
           {
            "marker": {
             "colorbar": {
              "outlinewidth": 0,
              "ticks": ""
             }
            },
            "type": "scattergeo"
           }
          ],
          "scattergl": [
           {
            "marker": {
             "colorbar": {
              "outlinewidth": 0,
              "ticks": ""
             }
            },
            "type": "scattergl"
           }
          ],
          "scattermapbox": [
           {
            "marker": {
             "colorbar": {
              "outlinewidth": 0,
              "ticks": ""
             }
            },
            "type": "scattermapbox"
           }
          ],
          "scatterpolar": [
           {
            "marker": {
             "colorbar": {
              "outlinewidth": 0,
              "ticks": ""
             }
            },
            "type": "scatterpolar"
           }
          ],
          "scatterpolargl": [
           {
            "marker": {
             "colorbar": {
              "outlinewidth": 0,
              "ticks": ""
             }
            },
            "type": "scatterpolargl"
           }
          ],
          "scatterternary": [
           {
            "marker": {
             "colorbar": {
              "outlinewidth": 0,
              "ticks": ""
             }
            },
            "type": "scatterternary"
           }
          ],
          "surface": [
           {
            "colorbar": {
             "outlinewidth": 0,
             "ticks": ""
            },
            "colorscale": [
             [
              0,
              "#0d0887"
             ],
             [
              0.1111111111111111,
              "#46039f"
             ],
             [
              0.2222222222222222,
              "#7201a8"
             ],
             [
              0.3333333333333333,
              "#9c179e"
             ],
             [
              0.4444444444444444,
              "#bd3786"
             ],
             [
              0.5555555555555556,
              "#d8576b"
             ],
             [
              0.6666666666666666,
              "#ed7953"
             ],
             [
              0.7777777777777778,
              "#fb9f3a"
             ],
             [
              0.8888888888888888,
              "#fdca26"
             ],
             [
              1,
              "#f0f921"
             ]
            ],
            "type": "surface"
           }
          ],
          "table": [
           {
            "cells": {
             "fill": {
              "color": "#EBF0F8"
             },
             "line": {
              "color": "white"
             }
            },
            "header": {
             "fill": {
              "color": "#C8D4E3"
             },
             "line": {
              "color": "white"
             }
            },
            "type": "table"
           }
          ]
         },
         "layout": {
          "annotationdefaults": {
           "arrowcolor": "#2a3f5f",
           "arrowhead": 0,
           "arrowwidth": 1
          },
          "autotypenumbers": "strict",
          "coloraxis": {
           "colorbar": {
            "outlinewidth": 0,
            "ticks": ""
           }
          },
          "colorscale": {
           "diverging": [
            [
             0,
             "#8e0152"
            ],
            [
             0.1,
             "#c51b7d"
            ],
            [
             0.2,
             "#de77ae"
            ],
            [
             0.3,
             "#f1b6da"
            ],
            [
             0.4,
             "#fde0ef"
            ],
            [
             0.5,
             "#f7f7f7"
            ],
            [
             0.6,
             "#e6f5d0"
            ],
            [
             0.7,
             "#b8e186"
            ],
            [
             0.8,
             "#7fbc41"
            ],
            [
             0.9,
             "#4d9221"
            ],
            [
             1,
             "#276419"
            ]
           ],
           "sequential": [
            [
             0,
             "#0d0887"
            ],
            [
             0.1111111111111111,
             "#46039f"
            ],
            [
             0.2222222222222222,
             "#7201a8"
            ],
            [
             0.3333333333333333,
             "#9c179e"
            ],
            [
             0.4444444444444444,
             "#bd3786"
            ],
            [
             0.5555555555555556,
             "#d8576b"
            ],
            [
             0.6666666666666666,
             "#ed7953"
            ],
            [
             0.7777777777777778,
             "#fb9f3a"
            ],
            [
             0.8888888888888888,
             "#fdca26"
            ],
            [
             1,
             "#f0f921"
            ]
           ],
           "sequentialminus": [
            [
             0,
             "#0d0887"
            ],
            [
             0.1111111111111111,
             "#46039f"
            ],
            [
             0.2222222222222222,
             "#7201a8"
            ],
            [
             0.3333333333333333,
             "#9c179e"
            ],
            [
             0.4444444444444444,
             "#bd3786"
            ],
            [
             0.5555555555555556,
             "#d8576b"
            ],
            [
             0.6666666666666666,
             "#ed7953"
            ],
            [
             0.7777777777777778,
             "#fb9f3a"
            ],
            [
             0.8888888888888888,
             "#fdca26"
            ],
            [
             1,
             "#f0f921"
            ]
           ]
          },
          "colorway": [
           "#636efa",
           "#EF553B",
           "#00cc96",
           "#ab63fa",
           "#FFA15A",
           "#19d3f3",
           "#FF6692",
           "#B6E880",
           "#FF97FF",
           "#FECB52"
          ],
          "font": {
           "color": "#2a3f5f"
          },
          "geo": {
           "bgcolor": "white",
           "lakecolor": "white",
           "landcolor": "#E5ECF6",
           "showlakes": true,
           "showland": true,
           "subunitcolor": "white"
          },
          "hoverlabel": {
           "align": "left"
          },
          "hovermode": "closest",
          "mapbox": {
           "style": "light"
          },
          "paper_bgcolor": "white",
          "plot_bgcolor": "#E5ECF6",
          "polar": {
           "angularaxis": {
            "gridcolor": "white",
            "linecolor": "white",
            "ticks": ""
           },
           "bgcolor": "#E5ECF6",
           "radialaxis": {
            "gridcolor": "white",
            "linecolor": "white",
            "ticks": ""
           }
          },
          "scene": {
           "xaxis": {
            "backgroundcolor": "#E5ECF6",
            "gridcolor": "white",
            "gridwidth": 2,
            "linecolor": "white",
            "showbackground": true,
            "ticks": "",
            "zerolinecolor": "white"
           },
           "yaxis": {
            "backgroundcolor": "#E5ECF6",
            "gridcolor": "white",
            "gridwidth": 2,
            "linecolor": "white",
            "showbackground": true,
            "ticks": "",
            "zerolinecolor": "white"
           },
           "zaxis": {
            "backgroundcolor": "#E5ECF6",
            "gridcolor": "white",
            "gridwidth": 2,
            "linecolor": "white",
            "showbackground": true,
            "ticks": "",
            "zerolinecolor": "white"
           }
          },
          "shapedefaults": {
           "line": {
            "color": "#2a3f5f"
           }
          },
          "ternary": {
           "aaxis": {
            "gridcolor": "white",
            "linecolor": "white",
            "ticks": ""
           },
           "baxis": {
            "gridcolor": "white",
            "linecolor": "white",
            "ticks": ""
           },
           "bgcolor": "#E5ECF6",
           "caxis": {
            "gridcolor": "white",
            "linecolor": "white",
            "ticks": ""
           }
          },
          "title": {
           "x": 0.05
          },
          "xaxis": {
           "automargin": true,
           "gridcolor": "white",
           "linecolor": "white",
           "ticks": "",
           "title": {
            "standoff": 15
           },
           "zerolinecolor": "white",
           "zerolinewidth": 2
          },
          "yaxis": {
           "automargin": true,
           "gridcolor": "white",
           "linecolor": "white",
           "ticks": "",
           "title": {
            "standoff": 15
           },
           "zerolinecolor": "white",
           "zerolinewidth": 2
          }
         }
        }
       }
      },
      "text/html": [
       "<div>                            <div id=\"d7971d48-eb43-410c-a393-a9cb82dc5b17\" class=\"plotly-graph-div\" style=\"height:525px; width:100%;\"></div>            <script type=\"text/javascript\">                require([\"plotly\"], function(Plotly) {                    window.PLOTLYENV=window.PLOTLYENV || {};                                    if (document.getElementById(\"d7971d48-eb43-410c-a393-a9cb82dc5b17\")) {                    Plotly.newPlot(                        \"d7971d48-eb43-410c-a393-a9cb82dc5b17\",                        [{\"hovertemplate\": \"color=gut<br>0=%{x}<br>1=%{y}<br>2=%{z}<extra></extra>\", \"legendgroup\": \"gut\", \"marker\": {\"color\": \"#636efa\", \"symbol\": \"circle\"}, \"mode\": \"markers\", \"name\": \"gut\", \"scene\": \"scene\", \"showlegend\": true, \"type\": \"scatter3d\", \"x\": [2209.0857068725572, 544.1010391421848, 412.80856911940265, 200.3474203591624, -282.2141112060047, -270.1485111914378, -260.0981903241979, -122.07199803786048], \"y\": [407.5583188578521, -1836.6616016132261, -1811.558581297812, -1215.2085314297094, -180.7305098744565, -178.80928623151047, -201.052224097685, -455.3074339417045], \"z\": [114.41531886090577, 1399.407948933379, 1321.5779242200058, 699.7238168154367, -440.95308446470574, -415.2166499121723, -381.9571176061252, -101.33166593060736]}, {\"hovertemplate\": \"color=left palm<br>0=%{x}<br>1=%{y}<br>2=%{z}<extra></extra>\", \"legendgroup\": \"left palm\", \"marker\": {\"color\": \"#EF553B\", \"symbol\": \"circle\"}, \"mode\": \"markers\", \"name\": \"left palm\", \"scene\": \"scene\", \"showlegend\": true, \"type\": \"scatter3d\", \"x\": [158.78109141956887, 2674.9223270456046, 2985.3977757843654, 2586.117273235444, -631.6407676029796, -728.0647482847986, -504.3069470543944, -392.79537052416435], \"y\": [-1454.5567305744648, 780.8527860786339, 979.3201182259438, 683.8710097546185, 181.654349068433, 316.00560188303683, -35.72272044558992, 19.781265459898634], \"z\": [897.1836506498964, -24.16221803095518, -69.69839524294808, 30.266572748472576, -727.6831230248108, -503.26438712911516, -721.5636929586873, -245.94121736434474]}, {\"hovertemplate\": \"color=right palm<br>0=%{x}<br>1=%{y}<br>2=%{z}<extra></extra>\", \"legendgroup\": \"right palm\", \"marker\": {\"color\": \"#00cc96\", \"symbol\": \"circle\"}, \"mode\": \"markers\", \"name\": \"right palm\", \"scene\": \"scene\", \"showlegend\": true, \"type\": \"scatter3d\", \"x\": [-321.6402959080681, -408.9702465815099, -298.75132950932635, -278.25869120173815, -823.62761744195, -367.1554789871279, -358.9293045684589, -381.3918322791901, -415.41974636799534], \"y\": [-162.28973192543057, -98.00784088119066, -189.27205002595915, -177.73114496164476, 836.3029446967726, -32.21050704806519, -46.78893949179912, -22.651150978433503, 45.83008711980242], \"z\": [-510.2404227892663, -613.0754291561868, -548.9303771734224, -403.88938273149563, 588.1346329128686, -270.8028974511305, -275.64383411992986, -274.03880637365717, -197.61980639059578]}, {\"hovertemplate\": \"color=tongue<br>0=%{x}<br>1=%{y}<br>2=%{z}<extra></extra>\", \"legendgroup\": \"tongue\", \"marker\": {\"color\": \"#ab63fa\", \"symbol\": \"circle\"}, \"mode\": \"markers\", \"name\": \"tongue\", \"scene\": \"scene\", \"showlegend\": true, \"type\": \"scatter3d\", \"x\": [-312.70149451459156, -369.63621170011265, -371.5131334680842, 134.6386082828365, -265.52036900048523, -467.7734064953581, -1355.353889400606, -1052.4389223314158, -865.7771972792548], \"y\": [-155.71005850079104, -78.57501276040932, -75.9455479684244, -83.56864978066008, -201.83786711294607, 190.45549233055476, 2032.9411917314355, 1297.3648411011784, 922.2581146337535], \"z\": [-430.54306920628005, -469.74613831650504, -423.94647182700015, -318.9091923830139, -420.97039538550854, 2.903867034115757, 1989.9546249628443, 1064.0836829344123, 682.4757348961297]}],                        {\"legend\": {\"title\": {\"text\": \"color\"}, \"tracegroupgap\": 0}, \"margin\": {\"t\": 60}, \"scene\": {\"domain\": {\"x\": [0.0, 1.0], \"y\": [0.0, 1.0]}, \"xaxis\": {\"title\": {\"text\": \"0\"}}, \"yaxis\": {\"title\": {\"text\": \"1\"}}, \"zaxis\": {\"title\": {\"text\": \"2\"}}}, \"template\": {\"data\": {\"bar\": [{\"error_x\": {\"color\": \"#2a3f5f\"}, \"error_y\": {\"color\": \"#2a3f5f\"}, \"marker\": {\"line\": {\"color\": \"#E5ECF6\", \"width\": 0.5}}, \"type\": \"bar\"}], \"barpolar\": [{\"marker\": {\"line\": {\"color\": \"#E5ECF6\", \"width\": 0.5}}, \"type\": \"barpolar\"}], \"carpet\": [{\"aaxis\": {\"endlinecolor\": \"#2a3f5f\", \"gridcolor\": \"white\", \"linecolor\": \"white\", \"minorgridcolor\": \"white\", \"startlinecolor\": \"#2a3f5f\"}, \"baxis\": {\"endlinecolor\": \"#2a3f5f\", \"gridcolor\": \"white\", \"linecolor\": \"white\", \"minorgridcolor\": \"white\", \"startlinecolor\": \"#2a3f5f\"}, \"type\": \"carpet\"}], \"choropleth\": [{\"colorbar\": {\"outlinewidth\": 0, \"ticks\": \"\"}, \"type\": \"choropleth\"}], \"contour\": [{\"colorbar\": {\"outlinewidth\": 0, \"ticks\": \"\"}, \"colorscale\": [[0.0, \"#0d0887\"], [0.1111111111111111, \"#46039f\"], [0.2222222222222222, \"#7201a8\"], [0.3333333333333333, \"#9c179e\"], [0.4444444444444444, \"#bd3786\"], [0.5555555555555556, \"#d8576b\"], [0.6666666666666666, \"#ed7953\"], [0.7777777777777778, \"#fb9f3a\"], [0.8888888888888888, \"#fdca26\"], [1.0, \"#f0f921\"]], \"type\": \"contour\"}], \"contourcarpet\": [{\"colorbar\": {\"outlinewidth\": 0, \"ticks\": \"\"}, \"type\": \"contourcarpet\"}], \"heatmap\": [{\"colorbar\": {\"outlinewidth\": 0, \"ticks\": \"\"}, \"colorscale\": [[0.0, \"#0d0887\"], [0.1111111111111111, \"#46039f\"], [0.2222222222222222, \"#7201a8\"], [0.3333333333333333, \"#9c179e\"], [0.4444444444444444, \"#bd3786\"], [0.5555555555555556, \"#d8576b\"], [0.6666666666666666, \"#ed7953\"], [0.7777777777777778, \"#fb9f3a\"], [0.8888888888888888, \"#fdca26\"], [1.0, \"#f0f921\"]], \"type\": \"heatmap\"}], \"heatmapgl\": [{\"colorbar\": {\"outlinewidth\": 0, \"ticks\": \"\"}, \"colorscale\": [[0.0, \"#0d0887\"], [0.1111111111111111, \"#46039f\"], [0.2222222222222222, \"#7201a8\"], [0.3333333333333333, \"#9c179e\"], [0.4444444444444444, \"#bd3786\"], [0.5555555555555556, \"#d8576b\"], [0.6666666666666666, \"#ed7953\"], [0.7777777777777778, \"#fb9f3a\"], [0.8888888888888888, \"#fdca26\"], [1.0, \"#f0f921\"]], \"type\": \"heatmapgl\"}], \"histogram\": [{\"marker\": {\"colorbar\": {\"outlinewidth\": 0, \"ticks\": \"\"}}, \"type\": \"histogram\"}], \"histogram2d\": [{\"colorbar\": {\"outlinewidth\": 0, \"ticks\": \"\"}, \"colorscale\": [[0.0, \"#0d0887\"], [0.1111111111111111, \"#46039f\"], [0.2222222222222222, \"#7201a8\"], [0.3333333333333333, \"#9c179e\"], [0.4444444444444444, \"#bd3786\"], [0.5555555555555556, \"#d8576b\"], [0.6666666666666666, \"#ed7953\"], [0.7777777777777778, \"#fb9f3a\"], [0.8888888888888888, \"#fdca26\"], [1.0, \"#f0f921\"]], \"type\": \"histogram2d\"}], \"histogram2dcontour\": [{\"colorbar\": {\"outlinewidth\": 0, \"ticks\": \"\"}, \"colorscale\": [[0.0, \"#0d0887\"], [0.1111111111111111, \"#46039f\"], [0.2222222222222222, \"#7201a8\"], [0.3333333333333333, \"#9c179e\"], [0.4444444444444444, \"#bd3786\"], [0.5555555555555556, \"#d8576b\"], [0.6666666666666666, \"#ed7953\"], [0.7777777777777778, \"#fb9f3a\"], [0.8888888888888888, \"#fdca26\"], [1.0, \"#f0f921\"]], \"type\": \"histogram2dcontour\"}], \"mesh3d\": [{\"colorbar\": {\"outlinewidth\": 0, \"ticks\": \"\"}, \"type\": \"mesh3d\"}], \"parcoords\": [{\"line\": {\"colorbar\": {\"outlinewidth\": 0, \"ticks\": \"\"}}, \"type\": \"parcoords\"}], \"pie\": [{\"automargin\": true, \"type\": \"pie\"}], \"scatter\": [{\"marker\": {\"colorbar\": {\"outlinewidth\": 0, \"ticks\": \"\"}}, \"type\": \"scatter\"}], \"scatter3d\": [{\"line\": {\"colorbar\": {\"outlinewidth\": 0, \"ticks\": \"\"}}, \"marker\": {\"colorbar\": {\"outlinewidth\": 0, \"ticks\": \"\"}}, \"type\": \"scatter3d\"}], \"scattercarpet\": [{\"marker\": {\"colorbar\": {\"outlinewidth\": 0, \"ticks\": \"\"}}, \"type\": \"scattercarpet\"}], \"scattergeo\": [{\"marker\": {\"colorbar\": {\"outlinewidth\": 0, \"ticks\": \"\"}}, \"type\": \"scattergeo\"}], \"scattergl\": [{\"marker\": {\"colorbar\": {\"outlinewidth\": 0, \"ticks\": \"\"}}, \"type\": \"scattergl\"}], \"scattermapbox\": [{\"marker\": {\"colorbar\": {\"outlinewidth\": 0, \"ticks\": \"\"}}, \"type\": \"scattermapbox\"}], \"scatterpolar\": [{\"marker\": {\"colorbar\": {\"outlinewidth\": 0, \"ticks\": \"\"}}, \"type\": \"scatterpolar\"}], \"scatterpolargl\": [{\"marker\": {\"colorbar\": {\"outlinewidth\": 0, \"ticks\": \"\"}}, \"type\": \"scatterpolargl\"}], \"scatterternary\": [{\"marker\": {\"colorbar\": {\"outlinewidth\": 0, \"ticks\": \"\"}}, \"type\": \"scatterternary\"}], \"surface\": [{\"colorbar\": {\"outlinewidth\": 0, \"ticks\": \"\"}, \"colorscale\": [[0.0, \"#0d0887\"], [0.1111111111111111, \"#46039f\"], [0.2222222222222222, \"#7201a8\"], [0.3333333333333333, \"#9c179e\"], [0.4444444444444444, \"#bd3786\"], [0.5555555555555556, \"#d8576b\"], [0.6666666666666666, \"#ed7953\"], [0.7777777777777778, \"#fb9f3a\"], [0.8888888888888888, \"#fdca26\"], [1.0, \"#f0f921\"]], \"type\": \"surface\"}], \"table\": [{\"cells\": {\"fill\": {\"color\": \"#EBF0F8\"}, \"line\": {\"color\": \"white\"}}, \"header\": {\"fill\": {\"color\": \"#C8D4E3\"}, \"line\": {\"color\": \"white\"}}, \"type\": \"table\"}]}, \"layout\": {\"annotationdefaults\": {\"arrowcolor\": \"#2a3f5f\", \"arrowhead\": 0, \"arrowwidth\": 1}, \"autotypenumbers\": \"strict\", \"coloraxis\": {\"colorbar\": {\"outlinewidth\": 0, \"ticks\": \"\"}}, \"colorscale\": {\"diverging\": [[0, \"#8e0152\"], [0.1, \"#c51b7d\"], [0.2, \"#de77ae\"], [0.3, \"#f1b6da\"], [0.4, \"#fde0ef\"], [0.5, \"#f7f7f7\"], [0.6, \"#e6f5d0\"], [0.7, \"#b8e186\"], [0.8, \"#7fbc41\"], [0.9, \"#4d9221\"], [1, \"#276419\"]], \"sequential\": [[0.0, \"#0d0887\"], [0.1111111111111111, \"#46039f\"], [0.2222222222222222, \"#7201a8\"], [0.3333333333333333, \"#9c179e\"], [0.4444444444444444, \"#bd3786\"], [0.5555555555555556, \"#d8576b\"], [0.6666666666666666, \"#ed7953\"], [0.7777777777777778, \"#fb9f3a\"], [0.8888888888888888, \"#fdca26\"], [1.0, \"#f0f921\"]], \"sequentialminus\": [[0.0, \"#0d0887\"], [0.1111111111111111, \"#46039f\"], [0.2222222222222222, \"#7201a8\"], [0.3333333333333333, \"#9c179e\"], [0.4444444444444444, \"#bd3786\"], [0.5555555555555556, \"#d8576b\"], [0.6666666666666666, \"#ed7953\"], [0.7777777777777778, \"#fb9f3a\"], [0.8888888888888888, \"#fdca26\"], [1.0, \"#f0f921\"]]}, \"colorway\": [\"#636efa\", \"#EF553B\", \"#00cc96\", \"#ab63fa\", \"#FFA15A\", \"#19d3f3\", \"#FF6692\", \"#B6E880\", \"#FF97FF\", \"#FECB52\"], \"font\": {\"color\": \"#2a3f5f\"}, \"geo\": {\"bgcolor\": \"white\", \"lakecolor\": \"white\", \"landcolor\": \"#E5ECF6\", \"showlakes\": true, \"showland\": true, \"subunitcolor\": \"white\"}, \"hoverlabel\": {\"align\": \"left\"}, \"hovermode\": \"closest\", \"mapbox\": {\"style\": \"light\"}, \"paper_bgcolor\": \"white\", \"plot_bgcolor\": \"#E5ECF6\", \"polar\": {\"angularaxis\": {\"gridcolor\": \"white\", \"linecolor\": \"white\", \"ticks\": \"\"}, \"bgcolor\": \"#E5ECF6\", \"radialaxis\": {\"gridcolor\": \"white\", \"linecolor\": \"white\", \"ticks\": \"\"}}, \"scene\": {\"xaxis\": {\"backgroundcolor\": \"#E5ECF6\", \"gridcolor\": \"white\", \"gridwidth\": 2, \"linecolor\": \"white\", \"showbackground\": true, \"ticks\": \"\", \"zerolinecolor\": \"white\"}, \"yaxis\": {\"backgroundcolor\": \"#E5ECF6\", \"gridcolor\": \"white\", \"gridwidth\": 2, \"linecolor\": \"white\", \"showbackground\": true, \"ticks\": \"\", \"zerolinecolor\": \"white\"}, \"zaxis\": {\"backgroundcolor\": \"#E5ECF6\", \"gridcolor\": \"white\", \"gridwidth\": 2, \"linecolor\": \"white\", \"showbackground\": true, \"ticks\": \"\", \"zerolinecolor\": \"white\"}}, \"shapedefaults\": {\"line\": {\"color\": \"#2a3f5f\"}}, \"ternary\": {\"aaxis\": {\"gridcolor\": \"white\", \"linecolor\": \"white\", \"ticks\": \"\"}, \"baxis\": {\"gridcolor\": \"white\", \"linecolor\": \"white\", \"ticks\": \"\"}, \"bgcolor\": \"#E5ECF6\", \"caxis\": {\"gridcolor\": \"white\", \"linecolor\": \"white\", \"ticks\": \"\"}}, \"title\": {\"x\": 0.05}, \"xaxis\": {\"automargin\": true, \"gridcolor\": \"white\", \"linecolor\": \"white\", \"ticks\": \"\", \"title\": {\"standoff\": 15}, \"zerolinecolor\": \"white\", \"zerolinewidth\": 2}, \"yaxis\": {\"automargin\": true, \"gridcolor\": \"white\", \"linecolor\": \"white\", \"ticks\": \"\", \"title\": {\"standoff\": 15}, \"zerolinecolor\": \"white\", \"zerolinewidth\": 2}}}},                        {\"responsive\": true}                    ).then(function(){\n",
       "                            \n",
       "var gd = document.getElementById('d7971d48-eb43-410c-a393-a9cb82dc5b17');\n",
       "var x = new MutationObserver(function (mutations, observer) {{\n",
       "        var display = window.getComputedStyle(gd).display;\n",
       "        if (!display || display === 'none') {{\n",
       "            console.log([gd, 'removed!']);\n",
       "            Plotly.purge(gd);\n",
       "            observer.disconnect();\n",
       "        }}\n",
       "}});\n",
       "\n",
       "// Listen for the removal of the full notebook cells\n",
       "var notebookContainer = gd.closest('#notebook-container');\n",
       "if (notebookContainer) {{\n",
       "    x.observe(notebookContainer, {childList: true});\n",
       "}}\n",
       "\n",
       "// Listen for the clearing of the current output cell\n",
       "var outputEl = gd.closest('.output');\n",
       "if (outputEl) {{\n",
       "    x.observe(outputEl, {childList: true});\n",
       "}}\n",
       "\n",
       "                        })                };                });            </script>        </div>"
      ]
     },
     "metadata": {},
     "output_type": "display_data"
    }
   ],
   "source": [
    "#Relationship between samples in 3d\n",
    "pca = PCA(n_components=3)\n",
    "components = pca.fit_transform(feature_table_sparse.T)\n",
    "\n",
    "fig = px.scatter_3d(components, x=0, y=1, z=2, color=mtda['body-site'])\n",
    "fig.show()"
   ]
  },
  {
   "cell_type": "code",
   "execution_count": null,
   "metadata": {},
   "outputs": [],
   "source": []
  },
  {
   "cell_type": "code",
   "execution_count": null,
   "metadata": {},
   "outputs": [],
   "source": []
  },
  {
   "cell_type": "code",
   "execution_count": null,
   "metadata": {},
   "outputs": [],
   "source": []
  },
  {
   "cell_type": "code",
   "execution_count": null,
   "metadata": {},
   "outputs": [],
   "source": []
  },
  {
   "cell_type": "code",
   "execution_count": null,
   "metadata": {},
   "outputs": [],
   "source": []
  },
  {
   "cell_type": "code",
   "execution_count": null,
   "metadata": {},
   "outputs": [],
   "source": []
  },
  {
   "cell_type": "code",
   "execution_count": null,
   "metadata": {},
   "outputs": [],
   "source": []
  },
  {
   "cell_type": "code",
   "execution_count": null,
   "metadata": {},
   "outputs": [],
   "source": []
  },
  {
   "cell_type": "code",
   "execution_count": null,
   "metadata": {},
   "outputs": [],
   "source": []
  },
  {
   "cell_type": "code",
   "execution_count": null,
   "metadata": {},
   "outputs": [],
   "source": []
  },
  {
   "cell_type": "code",
   "execution_count": null,
   "metadata": {},
   "outputs": [],
   "source": []
  },
  {
   "cell_type": "code",
   "execution_count": null,
   "metadata": {},
   "outputs": [],
   "source": []
  },
  {
   "cell_type": "code",
   "execution_count": null,
   "metadata": {},
   "outputs": [],
   "source": []
  },
  {
   "cell_type": "code",
   "execution_count": null,
   "metadata": {},
   "outputs": [],
   "source": []
  },
  {
   "cell_type": "code",
   "execution_count": null,
   "metadata": {},
   "outputs": [],
   "source": []
  },
  {
   "cell_type": "code",
   "execution_count": null,
   "metadata": {},
   "outputs": [],
   "source": []
  },
  {
   "cell_type": "code",
   "execution_count": null,
   "metadata": {},
   "outputs": [],
   "source": []
  }
 ],
 "metadata": {
  "kernelspec": {
   "display_name": "qiime2-2020.11",
   "language": "python",
   "name": "qiime2-2020.11"
  },
  "language_info": {
   "codemirror_mode": {
    "name": "ipython",
    "version": 3
   },
   "file_extension": ".py",
   "mimetype": "text/x-python",
   "name": "python",
   "nbconvert_exporter": "python",
   "pygments_lexer": "ipython3",
   "version": "3.8.5"
  }
 },
 "nbformat": 4,
 "nbformat_minor": 4
}
