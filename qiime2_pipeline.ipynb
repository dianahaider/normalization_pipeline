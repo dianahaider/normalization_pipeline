{
 "cells": [
  {
   "cell_type": "markdown",
   "metadata": {},
   "source": [
    "## Compositionality aware analysis\n",
    "Because traditional tests will lead to spurious results, it is recommended to transform or normalize your post-ASV clustering data before computing alpha and beta (distance calculation) diversity, differential abundance and ordinations (unsupervised clustering)."
   ]
  },
  {
   "cell_type": "markdown",
   "metadata": {},
   "source": [
    "### <a href=\"https://docs.qiime2.org/2021.4/\" target=\"_blank\">In QIIME2</a>"
   ]
  },
  {
   "cell_type": "markdown",
   "metadata": {},
   "source": [
    "##### For alpha and beta diversity\n",
    "QIIME2 <a href=\"https://docs.qiime2.org/2021.4/tutorials/moving-pictures/#alpha-and-beta-diversity-analysis\" target=\"_blank\">`diversity`</a> plugin computes alpha and beta diversity metrics to data that has been rarefied to a specified sampling depth"
   ]
  },
  {
   "cell_type": "markdown",
   "metadata": {},
   "source": [
    "##### For differential abundance analyses\n",
    "\n",
    "Differential abundance tests whether certain microbes (ASVs) are more or less abundant in different sampling groups (i.e. two or more different depths or different environments).\n",
    "\n",
    "QIIME2 <a href=\"https://docs.qiime2.org/2021.4/tutorials/moving-pictures/#differential-abundance-testing-with-ancom\" target=\"_blank\">`add-pseudocount`</a> function in the `composition` plugin builds a composition feature table with pseudo-counts for zeroes. This change is necessary because ANCOM is a log-ratio based method.\n",
    "ANCOM takes as input a feature table, you can also include the taxonomic identification.\n",
    "\n",
    "QIIME2 <a href=\"https://docs.qiime2.org/2021.4/tutorials/gneiss/?highlight=gneiss\" target=\"_blank\">`gneiss`</a> also computes a differential abundance analysis based on a log-ratio transformation but uses a different method than ANCOM.\n"
   ]
  },
  {
   "cell_type": "markdown",
   "metadata": {},
   "source": [
    "### Good resources\n",
    "http://compbio.ucsd.edu/wp-content/uploads/2018/07/20180621_oslo_university_microbiome_analysis_with_qiime2_tutorial.pdf"
   ]
  }
 ],
 "metadata": {
  "kernelspec": {
   "display_name": "Python 3",
   "language": "python",
   "name": "python3"
  },
  "language_info": {
   "codemirror_mode": {
    "name": "ipython",
    "version": 3
   },
   "file_extension": ".py",
   "mimetype": "text/x-python",
   "name": "python",
   "nbconvert_exporter": "python",
   "pygments_lexer": "ipython3",
   "version": "3.7.6"
  }
 },
 "nbformat": 4,
 "nbformat_minor": 4
}
