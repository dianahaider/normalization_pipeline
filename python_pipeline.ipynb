{
 "cells": [
  {
   "cell_type": "markdown",
   "metadata": {},
   "source": [
    "## CoDA methods\n",
    "Because traditional tests will lead to spurious results, it is recommended to transform or normalize your post-ASV clustering data before computing alpha and beta (distance calculation) diversity, differential abundance and ordinations (unsupervised clustering)."
   ]
  },
  {
   "cell_type": "markdown",
   "metadata": {},
   "source": [
    "Outside of QIIME2 using Python 3"
   ]
  },
  {
   "cell_type": "markdown",
   "metadata": {},
   "source": [
    "The first thing you will need to do is export your feature table from QIIME2 to a .tsv file"
   ]
  },
  {
   "cell_type": "markdown",
   "metadata": {},
   "source": [
    "In your terminal,\n",
    "</br>\n",
    "1. Activate your QIIME2 environment (whichever it is)\n",
    "    * `conda activate qiime2.2020.11`\n",
    "2. Move to your working directory with your files\n",
    "    * cd FILEPATH\n",
    "3. Clone from github\n",
    "    * `git clone https://github.com/dianahaider/normalization_pipeline`\n",
    "4. Move to the cloned directory and run this code to make the scripts executable (it gives permission to the files to be executable)\n",
    "    * `chmod a+x ./*`\n",
    "5. Run ~/normalization-pipeline/export-asv-results.sh\n",
    "    * You might get an error if you use a mac about the shell name, just make sure your QIIME2 environment is active\n",
    "    * If you use LINUX, and you get an error, make sure the qiime2 version in the file is the same as you use in your computer (I use .2020.11, just change it to whichever you are using)."
   ]
  },
  {
   "cell_type": "markdown",
   "metadata": {},
   "source": [
    "This should outputs two files in a new directory `exported_table`\n",
    "* feature-table.biom.tsv\n",
    "* feature-table.biom\n",
    "\n",
    "Now, go back to the cloned directory from github, and run `jupyter notebook` and open this file in jupyter notebook and follow along the code below"
   ]
  },
  {
   "cell_type": "code",
   "execution_count": null,
   "metadata": {},
   "outputs": [],
   "source": [
    "#import the relevant packages\n",
    "import pandas as pd\n",
    "import seaborn as sns\n",
    "import matplotlib.pyplot as plt\n",
    "import plotly.express as px\n",
    "from sklearn.decomposition import PCA\n",
    "from skbio.diversity import alpha_diversity\n",
    "from skbio.stats.distance import permanova\n",
    "from skbio import DistanceMatrix\n",
    "from scipy.spatial.distance import cdist\n",
    "from skbio.stats.composition import clr\n",
    "from skbio.stats.composition import alr\n",
    "from skbio.stats.composition import ilr\n",
    "from skbio.diversity.alpha import chao1"
   ]
  },
  {
   "cell_type": "code",
   "execution_count": null,
   "metadata": {},
   "outputs": [],
   "source": [
    "#First you have to import your tsv table to the notebook\n",
    "feature_table_sparse = pd.read_csv('~/normalization_pipeline/test/exported_table/feature-table.biom.tsv', sep='\\t',skiprows=1,index_col=0)"
   ]
  },
  {
   "cell_type": "code",
   "execution_count": null,
   "metadata": {},
   "outputs": [],
   "source": [
    "#Preview your table to make sure it was correctly exported from QIIME and imported to jup\n",
    "feature_table_sparse.head()"
   ]
  },
  {
   "cell_type": "markdown",
   "metadata": {},
   "source": [
    "## Sparse feature table\n",
    "If your table contains 0s (most likely it does), you need to add a pseudo-count to it (a small value). There is <a href=\"https://www.ncbi.nlm.nih.gov/pmc/articles/PMC5682008/pdf/fmicb-08-02114.pdf\" target=\"_blank\">litterature</a> that suggests other methods, but this one is widely used and accepted. If you want to dive into it, there are 3 types of 0s <br>\n",
    "* Real 0s (structural 0s)\n",
    "    <br> i.e taxa not supposed to be present, and not detected\n",
    "* False 0s (either outlier 0, or sampling 0s)\n",
    "    1. outlier 0 \n",
    "    <br> i.e taxa not sampled for unknown reasons\n",
    "    2. sampling 0\n",
    "    <br> i.e taxa not sampled because of sampling depth"
   ]
  },
  {
   "cell_type": "code",
   "execution_count": null,
   "metadata": {},
   "outputs": [],
   "source": [
    "#Add a 0.1 pseudo count to all 0s to compute log\n",
    "feature_table=feature_table_sparse.mask(feature_table==0).fillna(0.1)"
   ]
  },
  {
   "cell_type": "code",
   "execution_count": null,
   "metadata": {},
   "outputs": [],
   "source": [
    "#The head function allows us to look at the 5 first rows\n",
    "feature_table_sparse.head()"
   ]
  },
  {
   "cell_type": "code",
   "execution_count": null,
   "metadata": {},
   "outputs": [],
   "source": [
    "#clr transformation is applied to the dataframe (with the row and column names), but it\n",
    "#ouputs an array so we will store the result, and reconstruct the dataframe\n",
    "#We could have used alr or ilr too\n",
    "clr_transformed_array = clr(feature_table)"
   ]
  },
  {
   "cell_type": "code",
   "execution_count": null,
   "metadata": {},
   "outputs": [],
   "source": [
    "#storing the sample and asv names from the original dataframe\n",
    "samples = feature_table.columns\n",
    "asvs = feature_table.index"
   ]
  },
  {
   "cell_type": "code",
   "execution_count": null,
   "metadata": {},
   "outputs": [],
   "source": [
    "#Creating the dataframe with the clr transformed data, and assigning the sample names\n",
    "clr_transformed = pd.DataFrame(clr_transformed_array, columns=samples)"
   ]
  },
  {
   "cell_type": "code",
   "execution_count": null,
   "metadata": {},
   "outputs": [],
   "source": [
    "#Assigning the asv names\n",
    "clr_transformed['asvs'] = asvs\n",
    "clr_transformed = clr_transformed.set_index('asvs')"
   ]
  },
  {
   "cell_type": "code",
   "execution_count": null,
   "metadata": {},
   "outputs": [],
   "source": [
    "clr_transformed.head()"
   ]
  },
  {
   "cell_type": "markdown",
   "metadata": {},
   "source": [
    "### Alpha diversity ** Not completed\n",
    "The CoDA method for alpha diversity is to compute CHAO1 (richness) or Shannon (evenness). <br>\n",
    "The CHAO1 index input is non-rarefied/non-transformed data (aka raw counts) and the Shannon diversity index takes normalized/rarefied/transformed"
   ]
  },
  {
   "cell_type": "code",
   "execution_count": null,
   "metadata": {},
   "outputs": [],
   "source": [
    "#This will calculate the number of samples this asv was seen in\n",
    "obs_otus = alpha_diversity('observed_otus', feature_table_sparse, asvs)\n",
    "obs_otus"
   ]
  },
  {
   "cell_type": "code",
   "execution_count": null,
   "metadata": {},
   "outputs": [],
   "source": [
    "chao1 = samples.plot_metadata(vaxis=\"chao1\", haxis=\"geo_loc_name\", return_chart=True)"
   ]
  },
  {
   "cell_type": "code",
   "execution_count": null,
   "metadata": {},
   "outputs": [],
   "source": [
    "adiv_faith_pd"
   ]
  },
  {
   "cell_type": "markdown",
   "metadata": {},
   "source": [
    "### Beta diversity\n",
    "The CoDA method for beta diversity calculations is the Aitchison distance, which is simply the Euclian distance between samples after clr transformation"
   ]
  },
  {
   "cell_type": "code",
   "execution_count": null,
   "metadata": {},
   "outputs": [],
   "source": [
    "#You need to use the transpose of the table because our columns are samples, and cdist computes the distance\n",
    "#between pairs of rows, not pairs of columns\n",
    "dist = cdist(clr_transformed.T, clr_transformed.T, 'euclid')"
   ]
  },
  {
   "cell_type": "code",
   "execution_count": null,
   "metadata": {},
   "outputs": [],
   "source": [
    "#Just as we previously did with clr, we need to reconstruct the table after applying cdist\n",
    "distance_matrix = pd.DataFrame(dist, columns=samples)"
   ]
  },
  {
   "cell_type": "code",
   "execution_count": null,
   "metadata": {},
   "outputs": [],
   "source": [
    "distance_matrix['samples'] = samples\n",
    "distance_matrix = distance_matrix.set_index('samples')"
   ]
  },
  {
   "cell_type": "code",
   "execution_count": null,
   "metadata": {},
   "outputs": [],
   "source": [
    "distance_matrix"
   ]
  },
  {
   "cell_type": "code",
   "execution_count": null,
   "metadata": {},
   "outputs": [],
   "source": [
    "#Plot a covariance matrix to visualize the distance between each pairs of samples\n",
    "fig = px.imshow(distance_matrix)\n",
    "fig.show()"
   ]
  },
  {
   "cell_type": "code",
   "execution_count": null,
   "metadata": {},
   "outputs": [],
   "source": [
    "#Let's import the metadata to make sense of the PCA\n",
    "#skip rows is now in brackets, meaning we remove the row 1, not the first row (python counts 0,1,2...)\n",
    "mtda = pd.read_csv('~/normalization_pipeline/test/sample-metadata.tsv', sep='\\t',skiprows=[1])"
   ]
  },
  {
   "cell_type": "code",
   "execution_count": null,
   "metadata": {
    "scrolled": false
   },
   "outputs": [],
   "source": [
    "mtda.head()"
   ]
  },
  {
   "cell_type": "code",
   "execution_count": null,
   "metadata": {},
   "outputs": [],
   "source": [
    "#In order to compute the permanova test, the distance_matrix has to be reformatted\n",
    "dm = DistanceMatrix(distance_matrix)"
   ]
  },
  {
   "cell_type": "markdown",
   "metadata": {},
   "source": [
    "A permanova test statistically determines if two groups (their centre in geometrical space) are different. Are the samples different between body sites? <a href=\"https://onlinelibrary.wiley.com/doi/pdf/10.1002/9781118445112.stat07841\" target=\"_blank\">More readings</a>"
   ]
  },
  {
   "cell_type": "code",
   "execution_count": null,
   "metadata": {},
   "outputs": [],
   "source": [
    "#perMANOVA tests the association of the microbiome composition with any of the covariate of\n",
    "#interest, 'body-site' is the column name of the covariate from your metadata\n",
    "permanova(dm, grouping=mtda['body-site'])"
   ]
  },
  {
   "cell_type": "markdown",
   "metadata": {},
   "source": [
    "### Make a PCA plot to visualize your data"
   ]
  },
  {
   "cell_type": "code",
   "execution_count": null,
   "metadata": {},
   "outputs": [],
   "source": [
    "#Relationship between samples with the distance matrix\n",
    "pca = PCA(n_components=2)\n",
    "components = pca.fit_transform(distance_matrix)\n",
    "\n",
    "fig = px.scatter(components, x=0, y=1, color=mtda['body-site'])\n",
    "fig.show()"
   ]
  },
  {
   "cell_type": "code",
   "execution_count": null,
   "metadata": {},
   "outputs": [],
   "source": [
    "#Relationship between samples with the clr transformed data\n",
    "pca = PCA(n_components=2)\n",
    "components = pca.fit_transform(clr_transformed.T)\n",
    "\n",
    "fig = px.scatter(components, x=0, y=1, color=mtda['body-site'])\n",
    "fig.show()"
   ]
  },
  {
   "cell_type": "code",
   "execution_count": null,
   "metadata": {},
   "outputs": [],
   "source": [
    "#Here is the PCA with the raw data\n",
    "pca = PCA(n_components=2)\n",
    "components = pca.fit_transform(feature_table_sparse.T)\n",
    "\n",
    "fig = px.scatter(components, x=0, y=1,color=mtda['body-site'])\n",
    "fig.show()"
   ]
  },
  {
   "cell_type": "code",
   "execution_count": null,
   "metadata": {},
   "outputs": [],
   "source": [
    "#Relationship between samples in 3d\n",
    "pca = PCA(n_components=3)\n",
    "components = pca.fit_transform(clr_transformed.T)\n",
    "\n",
    "fig = px.scatter_3d(components, x=0, y=1, z=2, color=mtda['body-site'])\n",
    "fig.show()"
   ]
  },
  {
   "cell_type": "code",
   "execution_count": null,
   "metadata": {},
   "outputs": [],
   "source": [
    "#Relationship between samples in 3d\n",
    "pca = PCA(n_components=3)\n",
    "components = pca.fit_transform(feature_table_sparse.T)\n",
    "\n",
    "fig = px.scatter_3d(components, x=0, y=1, z=2, color=mtda['body-site'])\n",
    "fig.show()"
   ]
  },
  {
   "cell_type": "code",
   "execution_count": null,
   "metadata": {},
   "outputs": [],
   "source": []
  },
  {
   "cell_type": "code",
   "execution_count": null,
   "metadata": {},
   "outputs": [],
   "source": []
  },
  {
   "cell_type": "code",
   "execution_count": null,
   "metadata": {},
   "outputs": [],
   "source": []
  },
  {
   "cell_type": "code",
   "execution_count": null,
   "metadata": {},
   "outputs": [],
   "source": []
  },
  {
   "cell_type": "code",
   "execution_count": null,
   "metadata": {},
   "outputs": [],
   "source": []
  },
  {
   "cell_type": "code",
   "execution_count": null,
   "metadata": {},
   "outputs": [],
   "source": []
  },
  {
   "cell_type": "code",
   "execution_count": null,
   "metadata": {},
   "outputs": [],
   "source": []
  },
  {
   "cell_type": "code",
   "execution_count": null,
   "metadata": {},
   "outputs": [],
   "source": []
  },
  {
   "cell_type": "code",
   "execution_count": null,
   "metadata": {},
   "outputs": [],
   "source": []
  },
  {
   "cell_type": "code",
   "execution_count": null,
   "metadata": {},
   "outputs": [],
   "source": []
  },
  {
   "cell_type": "code",
   "execution_count": null,
   "metadata": {},
   "outputs": [],
   "source": []
  },
  {
   "cell_type": "code",
   "execution_count": null,
   "metadata": {},
   "outputs": [],
   "source": []
  },
  {
   "cell_type": "code",
   "execution_count": null,
   "metadata": {},
   "outputs": [],
   "source": []
  },
  {
   "cell_type": "code",
   "execution_count": null,
   "metadata": {},
   "outputs": [],
   "source": []
  },
  {
   "cell_type": "code",
   "execution_count": null,
   "metadata": {},
   "outputs": [],
   "source": []
  },
  {
   "cell_type": "code",
   "execution_count": null,
   "metadata": {},
   "outputs": [],
   "source": []
  },
  {
   "cell_type": "code",
   "execution_count": null,
   "metadata": {},
   "outputs": [],
   "source": []
  }
 ],
 "metadata": {
  "kernelspec": {
   "display_name": "qiime2-2020.11",
   "language": "python",
   "name": "qiime2-2020.11"
  },
  "language_info": {
   "codemirror_mode": {
    "name": "ipython",
    "version": 3
   },
   "file_extension": ".py",
   "mimetype": "text/x-python",
   "name": "python",
   "nbconvert_exporter": "python",
   "pygments_lexer": "ipython3",
   "version": "3.8.5"
  }
 },
 "nbformat": 4,
 "nbformat_minor": 4
}
